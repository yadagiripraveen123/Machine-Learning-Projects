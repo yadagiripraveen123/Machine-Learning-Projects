{
 "cells": [
  {
   "cell_type": "markdown",
   "id": "5e02c736",
   "metadata": {},
   "source": [
    "## *`Importing the Required Libraries`*"
   ]
  },
  {
   "cell_type": "code",
   "execution_count": 1,
   "id": "aeaeaf2f",
   "metadata": {
    "ExecuteTime": {
     "end_time": "2023-09-02T09:18:22.229289Z",
     "start_time": "2023-09-02T09:18:17.992354Z"
    }
   },
   "outputs": [],
   "source": [
    "import numpy as np\n",
    "import pandas as pd\n",
    "\n",
    "import matplotlib.pyplot as plt\n",
    "import seaborn as sns\n",
    "\n",
    "from IPython.core.interactiveshell import InteractiveShell\n",
    "InteractiveShell.ast_node_interactivity = 'all'\n",
    "\n",
    "import warnings\n",
    "warnings.filterwarnings('ignore')"
   ]
  },
  {
   "cell_type": "code",
   "execution_count": 2,
   "id": "8a125e28",
   "metadata": {
    "ExecuteTime": {
     "end_time": "2023-09-02T09:18:22.578746Z",
     "start_time": "2023-09-02T09:18:22.229289Z"
    }
   },
   "outputs": [],
   "source": [
    "# Load your dataset into a DataFrame.\n",
    "data = pd.read_csv(r\"C:\\Users\\yadag\\Downloads\\uber_rides_data.xlsx - sample_train.csv\")"
   ]
  },
  {
   "cell_type": "markdown",
   "id": "5450f098",
   "metadata": {},
   "source": [
    "## *`Understanding the uber rides data`*"
   ]
  },
  {
   "cell_type": "code",
   "execution_count": 3,
   "id": "0c039f3f",
   "metadata": {
    "ExecuteTime": {
     "end_time": "2023-09-02T09:18:22.623696Z",
     "start_time": "2023-09-02T09:18:22.578746Z"
    }
   },
   "outputs": [
    {
     "data": {
      "text/html": [
       "<div>\n",
       "<style scoped>\n",
       "    .dataframe tbody tr th:only-of-type {\n",
       "        vertical-align: middle;\n",
       "    }\n",
       "\n",
       "    .dataframe tbody tr th {\n",
       "        vertical-align: top;\n",
       "    }\n",
       "\n",
       "    .dataframe thead th {\n",
       "        text-align: right;\n",
       "    }\n",
       "</style>\n",
       "<table border=\"1\" class=\"dataframe\">\n",
       "  <thead>\n",
       "    <tr style=\"text-align: right;\">\n",
       "      <th></th>\n",
       "      <th>ride_id</th>\n",
       "      <th>fare_amount</th>\n",
       "      <th>pickup_datetime</th>\n",
       "      <th>pickup_longitude</th>\n",
       "      <th>pickup_latitude</th>\n",
       "      <th>dropoff_longitude</th>\n",
       "      <th>dropoff_latitude</th>\n",
       "      <th>passenger_count</th>\n",
       "    </tr>\n",
       "  </thead>\n",
       "  <tbody>\n",
       "    <tr>\n",
       "      <th>0</th>\n",
       "      <td>24238194</td>\n",
       "      <td>7.5</td>\n",
       "      <td>2015-05-07 19:52:06 UTC</td>\n",
       "      <td>-73.999817</td>\n",
       "      <td>40.738354</td>\n",
       "      <td>-73.999512</td>\n",
       "      <td>40.723217</td>\n",
       "      <td>1</td>\n",
       "    </tr>\n",
       "    <tr>\n",
       "      <th>1</th>\n",
       "      <td>27835199</td>\n",
       "      <td>7.7</td>\n",
       "      <td>2009-07-17 20:04:56 UTC</td>\n",
       "      <td>-73.994355</td>\n",
       "      <td>40.728225</td>\n",
       "      <td>-73.994710</td>\n",
       "      <td>40.750325</td>\n",
       "      <td>1</td>\n",
       "    </tr>\n",
       "    <tr>\n",
       "      <th>2</th>\n",
       "      <td>44984355</td>\n",
       "      <td>12.9</td>\n",
       "      <td>2009-08-24 21:45:00 UTC</td>\n",
       "      <td>-74.005043</td>\n",
       "      <td>40.740770</td>\n",
       "      <td>-73.962565</td>\n",
       "      <td>40.772647</td>\n",
       "      <td>1</td>\n",
       "    </tr>\n",
       "    <tr>\n",
       "      <th>3</th>\n",
       "      <td>25894730</td>\n",
       "      <td>5.3</td>\n",
       "      <td>2009-06-26 08:22:21 UTC</td>\n",
       "      <td>-73.976124</td>\n",
       "      <td>40.790844</td>\n",
       "      <td>-73.965316</td>\n",
       "      <td>40.803349</td>\n",
       "      <td>3</td>\n",
       "    </tr>\n",
       "    <tr>\n",
       "      <th>4</th>\n",
       "      <td>17610152</td>\n",
       "      <td>16.0</td>\n",
       "      <td>2014-08-28 17:47:00 UTC</td>\n",
       "      <td>-73.925023</td>\n",
       "      <td>40.744085</td>\n",
       "      <td>-73.973082</td>\n",
       "      <td>40.761247</td>\n",
       "      <td>5</td>\n",
       "    </tr>\n",
       "    <tr>\n",
       "      <th>5</th>\n",
       "      <td>44470845</td>\n",
       "      <td>4.9</td>\n",
       "      <td>2011-02-12 02:27:09 UTC</td>\n",
       "      <td>-73.969019</td>\n",
       "      <td>40.755910</td>\n",
       "      <td>-73.969019</td>\n",
       "      <td>40.755910</td>\n",
       "      <td>1</td>\n",
       "    </tr>\n",
       "    <tr>\n",
       "      <th>6</th>\n",
       "      <td>48725865</td>\n",
       "      <td>24.5</td>\n",
       "      <td>2014-10-12 07:04:00 UTC</td>\n",
       "      <td>-73.961447</td>\n",
       "      <td>40.693965</td>\n",
       "      <td>-73.871195</td>\n",
       "      <td>40.774297</td>\n",
       "      <td>5</td>\n",
       "    </tr>\n",
       "    <tr>\n",
       "      <th>7</th>\n",
       "      <td>44195482</td>\n",
       "      <td>2.5</td>\n",
       "      <td>2012-12-11 13:52:00 UTC</td>\n",
       "      <td>0.000000</td>\n",
       "      <td>0.000000</td>\n",
       "      <td>0.000000</td>\n",
       "      <td>0.000000</td>\n",
       "      <td>1</td>\n",
       "    </tr>\n",
       "    <tr>\n",
       "      <th>8</th>\n",
       "      <td>15822268</td>\n",
       "      <td>9.7</td>\n",
       "      <td>2012-02-17 09:32:00 UTC</td>\n",
       "      <td>-73.975187</td>\n",
       "      <td>40.745767</td>\n",
       "      <td>-74.002720</td>\n",
       "      <td>40.743537</td>\n",
       "      <td>1</td>\n",
       "    </tr>\n",
       "    <tr>\n",
       "      <th>9</th>\n",
       "      <td>50611056</td>\n",
       "      <td>12.5</td>\n",
       "      <td>2012-03-29 19:06:00 UTC</td>\n",
       "      <td>-74.001065</td>\n",
       "      <td>40.741787</td>\n",
       "      <td>-73.963040</td>\n",
       "      <td>40.775012</td>\n",
       "      <td>1</td>\n",
       "    </tr>\n",
       "  </tbody>\n",
       "</table>\n",
       "</div>"
      ],
      "text/plain": [
       "    ride_id  fare_amount          pickup_datetime  pickup_longitude  \\\n",
       "0  24238194          7.5  2015-05-07 19:52:06 UTC        -73.999817   \n",
       "1  27835199          7.7  2009-07-17 20:04:56 UTC        -73.994355   \n",
       "2  44984355         12.9  2009-08-24 21:45:00 UTC        -74.005043   \n",
       "3  25894730          5.3  2009-06-26 08:22:21 UTC        -73.976124   \n",
       "4  17610152         16.0  2014-08-28 17:47:00 UTC        -73.925023   \n",
       "5  44470845          4.9  2011-02-12 02:27:09 UTC        -73.969019   \n",
       "6  48725865         24.5  2014-10-12 07:04:00 UTC        -73.961447   \n",
       "7  44195482          2.5  2012-12-11 13:52:00 UTC          0.000000   \n",
       "8  15822268          9.7  2012-02-17 09:32:00 UTC        -73.975187   \n",
       "9  50611056         12.5  2012-03-29 19:06:00 UTC        -74.001065   \n",
       "\n",
       "   pickup_latitude  dropoff_longitude  dropoff_latitude  passenger_count  \n",
       "0        40.738354         -73.999512         40.723217                1  \n",
       "1        40.728225         -73.994710         40.750325                1  \n",
       "2        40.740770         -73.962565         40.772647                1  \n",
       "3        40.790844         -73.965316         40.803349                3  \n",
       "4        40.744085         -73.973082         40.761247                5  \n",
       "5        40.755910         -73.969019         40.755910                1  \n",
       "6        40.693965         -73.871195         40.774297                5  \n",
       "7         0.000000           0.000000          0.000000                1  \n",
       "8        40.745767         -74.002720         40.743537                1  \n",
       "9        40.741787         -73.963040         40.775012                1  "
      ]
     },
     "execution_count": 3,
     "metadata": {},
     "output_type": "execute_result"
    }
   ],
   "source": [
    "data.head(10)# Checking the head of the dataframe"
   ]
  },
  {
   "cell_type": "markdown",
   "id": "0fd772c3",
   "metadata": {},
   "source": [
    "### What is the shape of given dataset?"
   ]
  },
  {
   "cell_type": "code",
   "execution_count": 4,
   "id": "9dc45936",
   "metadata": {
    "ExecuteTime": {
     "end_time": "2023-09-02T09:18:22.639655Z",
     "start_time": "2023-09-02T09:18:22.623696Z"
    }
   },
   "outputs": [
    {
     "data": {
      "text/plain": [
       "(200000, 8)"
      ]
     },
     "execution_count": 4,
     "metadata": {},
     "output_type": "execute_result"
    }
   ],
   "source": [
    "# Checking the shape of the dataframe.\n",
    "data.shape"
   ]
  },
  {
   "cell_type": "code",
   "execution_count": 5,
   "id": "b3487019",
   "metadata": {
    "ExecuteTime": {
     "end_time": "2023-09-02T09:18:22.713244Z",
     "start_time": "2023-09-02T09:18:22.640058Z"
    }
   },
   "outputs": [
    {
     "name": "stdout",
     "output_type": "stream",
     "text": [
      "<class 'pandas.core.frame.DataFrame'>\n",
      "RangeIndex: 200000 entries, 0 to 199999\n",
      "Data columns (total 8 columns):\n",
      " #   Column             Non-Null Count   Dtype  \n",
      "---  ------             --------------   -----  \n",
      " 0   ride_id            200000 non-null  int64  \n",
      " 1   fare_amount        200000 non-null  float64\n",
      " 2   pickup_datetime    200000 non-null  object \n",
      " 3   pickup_longitude   200000 non-null  float64\n",
      " 4   pickup_latitude    200000 non-null  float64\n",
      " 5   dropoff_longitude  199999 non-null  float64\n",
      " 6   dropoff_latitude   199999 non-null  float64\n",
      " 7   passenger_count    200000 non-null  int64  \n",
      "dtypes: float64(5), int64(2), object(1)\n",
      "memory usage: 12.2+ MB\n"
     ]
    }
   ],
   "source": [
    "# Checking the Info() of the dataframe.\n",
    "data.info()"
   ]
  },
  {
   "cell_type": "markdown",
   "id": "5c21304b",
   "metadata": {},
   "source": [
    "### How many integer columns(by default) are given in the dataset?"
   ]
  },
  {
   "cell_type": "code",
   "execution_count": 6,
   "id": "ee8f9e82",
   "metadata": {
    "ExecuteTime": {
     "end_time": "2023-09-02T09:18:22.729479Z",
     "start_time": "2023-09-02T09:18:22.713470Z"
    }
   },
   "outputs": [
    {
     "name": "stdout",
     "output_type": "stream",
     "text": [
      "Number of integer columns in the dataset: 7\n"
     ]
    }
   ],
   "source": [
    "# Checking the Integer columns of the data.\n",
    "# Select only integer columns\n",
    "integer_columns = data.select_dtypes(include=['int64', 'float64']).columns\n",
    "\n",
    "# Count the number of integer columns\n",
    "num_integer_columns = len(integer_columns)\n",
    "print(f'Number of integer columns in the dataset: {num_integer_columns}')"
   ]
  },
  {
   "cell_type": "code",
   "execution_count": 7,
   "id": "ff1e86d9",
   "metadata": {
    "ExecuteTime": {
     "end_time": "2023-09-02T09:18:22.847587Z",
     "start_time": "2023-09-02T09:18:22.729479Z"
    }
   },
   "outputs": [
    {
     "data": {
      "text/html": [
       "<div>\n",
       "<style scoped>\n",
       "    .dataframe tbody tr th:only-of-type {\n",
       "        vertical-align: middle;\n",
       "    }\n",
       "\n",
       "    .dataframe tbody tr th {\n",
       "        vertical-align: top;\n",
       "    }\n",
       "\n",
       "    .dataframe thead th {\n",
       "        text-align: right;\n",
       "    }\n",
       "</style>\n",
       "<table border=\"1\" class=\"dataframe\">\n",
       "  <thead>\n",
       "    <tr style=\"text-align: right;\">\n",
       "      <th></th>\n",
       "      <th>ride_id</th>\n",
       "      <th>fare_amount</th>\n",
       "      <th>pickup_longitude</th>\n",
       "      <th>pickup_latitude</th>\n",
       "      <th>dropoff_longitude</th>\n",
       "      <th>dropoff_latitude</th>\n",
       "      <th>passenger_count</th>\n",
       "    </tr>\n",
       "  </thead>\n",
       "  <tbody>\n",
       "    <tr>\n",
       "      <th>count</th>\n",
       "      <td>2.000000e+05</td>\n",
       "      <td>200000.000000</td>\n",
       "      <td>200000.000000</td>\n",
       "      <td>200000.000000</td>\n",
       "      <td>199999.000000</td>\n",
       "      <td>199999.000000</td>\n",
       "      <td>200000.000000</td>\n",
       "    </tr>\n",
       "    <tr>\n",
       "      <th>mean</th>\n",
       "      <td>2.771250e+07</td>\n",
       "      <td>11.359955</td>\n",
       "      <td>-72.527638</td>\n",
       "      <td>39.935885</td>\n",
       "      <td>-72.525292</td>\n",
       "      <td>39.923890</td>\n",
       "      <td>1.684535</td>\n",
       "    </tr>\n",
       "    <tr>\n",
       "      <th>std</th>\n",
       "      <td>1.601382e+07</td>\n",
       "      <td>9.901776</td>\n",
       "      <td>11.437787</td>\n",
       "      <td>7.720539</td>\n",
       "      <td>13.117408</td>\n",
       "      <td>6.794829</td>\n",
       "      <td>1.385997</td>\n",
       "    </tr>\n",
       "    <tr>\n",
       "      <th>min</th>\n",
       "      <td>1.000000e+00</td>\n",
       "      <td>-52.000000</td>\n",
       "      <td>-1340.648410</td>\n",
       "      <td>-74.015515</td>\n",
       "      <td>-3356.666300</td>\n",
       "      <td>-881.985513</td>\n",
       "      <td>0.000000</td>\n",
       "    </tr>\n",
       "    <tr>\n",
       "      <th>25%</th>\n",
       "      <td>1.382535e+07</td>\n",
       "      <td>6.000000</td>\n",
       "      <td>-73.992065</td>\n",
       "      <td>40.734796</td>\n",
       "      <td>-73.991407</td>\n",
       "      <td>40.733823</td>\n",
       "      <td>1.000000</td>\n",
       "    </tr>\n",
       "    <tr>\n",
       "      <th>50%</th>\n",
       "      <td>2.774550e+07</td>\n",
       "      <td>8.500000</td>\n",
       "      <td>-73.981823</td>\n",
       "      <td>40.752592</td>\n",
       "      <td>-73.980093</td>\n",
       "      <td>40.753042</td>\n",
       "      <td>1.000000</td>\n",
       "    </tr>\n",
       "    <tr>\n",
       "      <th>75%</th>\n",
       "      <td>4.155530e+07</td>\n",
       "      <td>12.500000</td>\n",
       "      <td>-73.967153</td>\n",
       "      <td>40.767158</td>\n",
       "      <td>-73.963659</td>\n",
       "      <td>40.768001</td>\n",
       "      <td>2.000000</td>\n",
       "    </tr>\n",
       "    <tr>\n",
       "      <th>max</th>\n",
       "      <td>5.542357e+07</td>\n",
       "      <td>499.000000</td>\n",
       "      <td>57.418457</td>\n",
       "      <td>1644.421482</td>\n",
       "      <td>1153.572603</td>\n",
       "      <td>872.697628</td>\n",
       "      <td>208.000000</td>\n",
       "    </tr>\n",
       "  </tbody>\n",
       "</table>\n",
       "</div>"
      ],
      "text/plain": [
       "            ride_id    fare_amount  pickup_longitude  pickup_latitude  \\\n",
       "count  2.000000e+05  200000.000000     200000.000000    200000.000000   \n",
       "mean   2.771250e+07      11.359955        -72.527638        39.935885   \n",
       "std    1.601382e+07       9.901776         11.437787         7.720539   \n",
       "min    1.000000e+00     -52.000000      -1340.648410       -74.015515   \n",
       "25%    1.382535e+07       6.000000        -73.992065        40.734796   \n",
       "50%    2.774550e+07       8.500000        -73.981823        40.752592   \n",
       "75%    4.155530e+07      12.500000        -73.967153        40.767158   \n",
       "max    5.542357e+07     499.000000         57.418457      1644.421482   \n",
       "\n",
       "       dropoff_longitude  dropoff_latitude  passenger_count  \n",
       "count      199999.000000     199999.000000    200000.000000  \n",
       "mean          -72.525292         39.923890         1.684535  \n",
       "std            13.117408          6.794829         1.385997  \n",
       "min         -3356.666300       -881.985513         0.000000  \n",
       "25%           -73.991407         40.733823         1.000000  \n",
       "50%           -73.980093         40.753042         1.000000  \n",
       "75%           -73.963659         40.768001         2.000000  \n",
       "max          1153.572603        872.697628       208.000000  "
      ]
     },
     "execution_count": 7,
     "metadata": {},
     "output_type": "execute_result"
    }
   ],
   "source": [
    "# checking the descritive statistics of the data.\n",
    "data.describe()"
   ]
  },
  {
   "cell_type": "markdown",
   "id": "e04da429",
   "metadata": {},
   "source": [
    "## *`Exploratory Data Analysis`*"
   ]
  },
  {
   "cell_type": "markdown",
   "id": "71ec558e",
   "metadata": {},
   "source": [
    "### *`Checking Duplicates`*"
   ]
  },
  {
   "cell_type": "code",
   "execution_count": 8,
   "id": "34cc1705",
   "metadata": {
    "ExecuteTime": {
     "end_time": "2023-09-02T09:18:23.058884Z",
     "start_time": "2023-09-02T09:18:22.847587Z"
    }
   },
   "outputs": [
    {
     "data": {
      "text/plain": [
       "False    200000\n",
       "dtype: int64"
      ]
     },
     "execution_count": 8,
     "metadata": {},
     "output_type": "execute_result"
    }
   ],
   "source": [
    "# Checking if any duplicates are present in the dataframe.\n",
    "data.duplicated().value_counts()"
   ]
  },
  {
   "cell_type": "markdown",
   "id": "8efb6e0e",
   "metadata": {},
   "source": [
    "## *`Checking the null values`*"
   ]
  },
  {
   "cell_type": "code",
   "execution_count": 9,
   "id": "e327b444",
   "metadata": {
    "ExecuteTime": {
     "end_time": "2023-09-02T09:18:23.114523Z",
     "start_time": "2023-09-02T09:18:23.058884Z"
    }
   },
   "outputs": [
    {
     "data": {
      "text/plain": [
       "ride_id              0\n",
       "fare_amount          0\n",
       "pickup_datetime      0\n",
       "pickup_longitude     0\n",
       "pickup_latitude      0\n",
       "dropoff_longitude    1\n",
       "dropoff_latitude     1\n",
       "passenger_count      0\n",
       "dtype: int64"
      ]
     },
     "execution_count": 9,
     "metadata": {},
     "output_type": "execute_result"
    }
   ],
   "source": [
    "# Checking the null values present in the data.\n",
    "data.isnull().sum()"
   ]
  },
  {
   "cell_type": "markdown",
   "id": "7b36794d",
   "metadata": {},
   "source": [
    "    There are two null values in the entire dataset which are present in the two columns those columns are \n",
    "    1. dropoff_longitude and 2. dropoff_latitude"
   ]
  },
  {
   "cell_type": "markdown",
   "id": "29b88fd4",
   "metadata": {},
   "source": [
    "### How many missing values exists in 'dropoff_longitude' column?\n",
    "\n",
    "- In the dropoff_longitude there is **One Null value** is present in the data."
   ]
  },
  {
   "cell_type": "code",
   "execution_count": 10,
   "id": "9316b9ea",
   "metadata": {
    "ExecuteTime": {
     "end_time": "2023-09-02T09:18:49.409088Z",
     "start_time": "2023-09-02T09:18:23.114523Z"
    }
   },
   "outputs": [],
   "source": [
    "data['pickup_datetime']=pd.to_datetime(data['pickup_datetime'])"
   ]
  },
  {
   "cell_type": "code",
   "execution_count": 11,
   "id": "3f19f72f",
   "metadata": {
    "ExecuteTime": {
     "end_time": "2023-09-02T09:18:49.439220Z",
     "start_time": "2023-09-02T09:18:49.409088Z"
    }
   },
   "outputs": [
    {
     "name": "stdout",
     "output_type": "stream",
     "text": [
      "<class 'pandas.core.frame.DataFrame'>\n",
      "RangeIndex: 200000 entries, 0 to 199999\n",
      "Data columns (total 8 columns):\n",
      " #   Column             Non-Null Count   Dtype              \n",
      "---  ------             --------------   -----              \n",
      " 0   ride_id            200000 non-null  int64              \n",
      " 1   fare_amount        200000 non-null  float64            \n",
      " 2   pickup_datetime    200000 non-null  datetime64[ns, UTC]\n",
      " 3   pickup_longitude   200000 non-null  float64            \n",
      " 4   pickup_latitude    200000 non-null  float64            \n",
      " 5   dropoff_longitude  199999 non-null  float64            \n",
      " 6   dropoff_latitude   199999 non-null  float64            \n",
      " 7   passenger_count    200000 non-null  int64              \n",
      "dtypes: datetime64[ns, UTC](1), float64(5), int64(2)\n",
      "memory usage: 12.2 MB\n"
     ]
    }
   ],
   "source": [
    "data.info()"
   ]
  },
  {
   "cell_type": "code",
   "execution_count": 12,
   "id": "2dcb4a0d",
   "metadata": {
    "ExecuteTime": {
     "end_time": "2023-09-02T09:18:49.473634Z",
     "start_time": "2023-09-02T09:18:49.442049Z"
    }
   },
   "outputs": [],
   "source": [
    "#  removing the null values from the dataframe.\n",
    "data.dropna(axis=0, inplace=True)"
   ]
  },
  {
   "cell_type": "code",
   "execution_count": 13,
   "id": "84a6cc40",
   "metadata": {
    "ExecuteTime": {
     "end_time": "2023-09-02T09:18:49.505153Z",
     "start_time": "2023-09-02T09:18:49.475374Z"
    }
   },
   "outputs": [
    {
     "data": {
      "text/plain": [
       "ride_id              0\n",
       "fare_amount          0\n",
       "pickup_datetime      0\n",
       "pickup_longitude     0\n",
       "pickup_latitude      0\n",
       "dropoff_longitude    0\n",
       "dropoff_latitude     0\n",
       "passenger_count      0\n",
       "dtype: int64"
      ]
     },
     "execution_count": 13,
     "metadata": {},
     "output_type": "execute_result"
    }
   ],
   "source": [
    "data.isnull().sum()"
   ]
  },
  {
   "cell_type": "markdown",
   "id": "10602fb6",
   "metadata": {},
   "source": [
    "## What is the average fare amount?\n",
    "Remove the null values from the dataframe to answer the following question."
   ]
  },
  {
   "cell_type": "code",
   "execution_count": 14,
   "id": "584a8c18",
   "metadata": {
    "ExecuteTime": {
     "end_time": "2023-09-02T09:18:49.539036Z",
     "start_time": "2023-09-02T09:18:49.505153Z"
    }
   },
   "outputs": [
    {
     "name": "stdout",
     "output_type": "stream",
     "text": [
      "Average Fare Amount: 11.359891549458371\n"
     ]
    }
   ],
   "source": [
    "# Calculate the average fare\n",
    "average_fare = sum(data['fare_amount']) / len(data['fare_amount'])\n",
    "\n",
    "# Print the result\n",
    "print(\"Average Fare Amount:\", average_fare)"
   ]
  },
  {
   "cell_type": "code",
   "execution_count": 15,
   "id": "b66f751a",
   "metadata": {
    "ExecuteTime": {
     "end_time": "2023-09-02T09:18:49.566791Z",
     "start_time": "2023-09-02T09:18:49.542040Z"
    }
   },
   "outputs": [],
   "source": [
    "import math\n",
    "import statistics\n",
    "\n",
    "# Calculate Haversine distance for each row\n",
    "def haversine(pickup_latitude, pickup_longitude, dropoff_latitude, dropoff_longitude):\n",
    "    # Convert latitude and longitude from degrees to radians\n",
    "    latitude1 = math.radians(pickup_latitude)\n",
    "    longitude1 = math.radians(pickup_longitude)\n",
    "    latitude2 = math.radians(dropoff_latitude)\n",
    "    longitude2 = math.radians(dropoff_longitude)\n",
    "\n",
    "    # Differences in latitude and longitude\n",
    "    difference_latitude = latitude2 - latitude1\n",
    "    difference_longitude = longitude2 - longitude1\n",
    "\n",
    "    # Haversine formula\n",
    "    a = math.sin(difference_latitude/2)**2 + math.cos(latitude1) * math.cos(latitude2) * math.sin(difference_longitude/2)**2\n",
    "    c = 2 * math.atan2(math.sqrt(a), math.sqrt(1 - a))\n",
    "    distance = 6371 * c  # Earth's radius in kilometers\n",
    "\n",
    "    return distance"
   ]
  },
  {
   "cell_type": "code",
   "execution_count": 16,
   "id": "4bb83e38",
   "metadata": {
    "ExecuteTime": {
     "end_time": "2023-09-02T09:18:54.336336Z",
     "start_time": "2023-09-02T09:18:49.566791Z"
    }
   },
   "outputs": [
    {
     "data": {
      "text/html": [
       "<div>\n",
       "<style scoped>\n",
       "    .dataframe tbody tr th:only-of-type {\n",
       "        vertical-align: middle;\n",
       "    }\n",
       "\n",
       "    .dataframe tbody tr th {\n",
       "        vertical-align: top;\n",
       "    }\n",
       "\n",
       "    .dataframe thead th {\n",
       "        text-align: right;\n",
       "    }\n",
       "</style>\n",
       "<table border=\"1\" class=\"dataframe\">\n",
       "  <thead>\n",
       "    <tr style=\"text-align: right;\">\n",
       "      <th></th>\n",
       "      <th>ride_id</th>\n",
       "      <th>fare_amount</th>\n",
       "      <th>pickup_datetime</th>\n",
       "      <th>pickup_longitude</th>\n",
       "      <th>pickup_latitude</th>\n",
       "      <th>dropoff_longitude</th>\n",
       "      <th>dropoff_latitude</th>\n",
       "      <th>passenger_count</th>\n",
       "      <th>haversine_distance</th>\n",
       "    </tr>\n",
       "  </thead>\n",
       "  <tbody>\n",
       "    <tr>\n",
       "      <th>0</th>\n",
       "      <td>24238194</td>\n",
       "      <td>7.5</td>\n",
       "      <td>2015-05-07 19:52:06+00:00</td>\n",
       "      <td>-73.999817</td>\n",
       "      <td>40.738354</td>\n",
       "      <td>-73.999512</td>\n",
       "      <td>40.723217</td>\n",
       "      <td>1</td>\n",
       "      <td>1.683323</td>\n",
       "    </tr>\n",
       "    <tr>\n",
       "      <th>1</th>\n",
       "      <td>27835199</td>\n",
       "      <td>7.7</td>\n",
       "      <td>2009-07-17 20:04:56+00:00</td>\n",
       "      <td>-73.994355</td>\n",
       "      <td>40.728225</td>\n",
       "      <td>-73.994710</td>\n",
       "      <td>40.750325</td>\n",
       "      <td>1</td>\n",
       "      <td>2.457590</td>\n",
       "    </tr>\n",
       "    <tr>\n",
       "      <th>2</th>\n",
       "      <td>44984355</td>\n",
       "      <td>12.9</td>\n",
       "      <td>2009-08-24 21:45:00+00:00</td>\n",
       "      <td>-74.005043</td>\n",
       "      <td>40.740770</td>\n",
       "      <td>-73.962565</td>\n",
       "      <td>40.772647</td>\n",
       "      <td>1</td>\n",
       "      <td>5.036377</td>\n",
       "    </tr>\n",
       "    <tr>\n",
       "      <th>3</th>\n",
       "      <td>25894730</td>\n",
       "      <td>5.3</td>\n",
       "      <td>2009-06-26 08:22:21+00:00</td>\n",
       "      <td>-73.976124</td>\n",
       "      <td>40.790844</td>\n",
       "      <td>-73.965316</td>\n",
       "      <td>40.803349</td>\n",
       "      <td>3</td>\n",
       "      <td>1.661683</td>\n",
       "    </tr>\n",
       "    <tr>\n",
       "      <th>4</th>\n",
       "      <td>17610152</td>\n",
       "      <td>16.0</td>\n",
       "      <td>2014-08-28 17:47:00+00:00</td>\n",
       "      <td>-73.925023</td>\n",
       "      <td>40.744085</td>\n",
       "      <td>-73.973082</td>\n",
       "      <td>40.761247</td>\n",
       "      <td>5</td>\n",
       "      <td>4.475450</td>\n",
       "    </tr>\n",
       "    <tr>\n",
       "      <th>...</th>\n",
       "      <td>...</td>\n",
       "      <td>...</td>\n",
       "      <td>...</td>\n",
       "      <td>...</td>\n",
       "      <td>...</td>\n",
       "      <td>...</td>\n",
       "      <td>...</td>\n",
       "      <td>...</td>\n",
       "      <td>...</td>\n",
       "    </tr>\n",
       "    <tr>\n",
       "      <th>199995</th>\n",
       "      <td>42598914</td>\n",
       "      <td>3.0</td>\n",
       "      <td>2012-10-28 10:49:00+00:00</td>\n",
       "      <td>-73.987042</td>\n",
       "      <td>40.739367</td>\n",
       "      <td>-73.986525</td>\n",
       "      <td>40.740297</td>\n",
       "      <td>1</td>\n",
       "      <td>0.112210</td>\n",
       "    </tr>\n",
       "    <tr>\n",
       "      <th>199996</th>\n",
       "      <td>16382965</td>\n",
       "      <td>7.5</td>\n",
       "      <td>2014-03-14 01:09:00+00:00</td>\n",
       "      <td>-73.984722</td>\n",
       "      <td>40.736837</td>\n",
       "      <td>-74.006672</td>\n",
       "      <td>40.739620</td>\n",
       "      <td>1</td>\n",
       "      <td>1.875050</td>\n",
       "    </tr>\n",
       "    <tr>\n",
       "      <th>199997</th>\n",
       "      <td>27804658</td>\n",
       "      <td>30.9</td>\n",
       "      <td>2009-06-29 00:42:00+00:00</td>\n",
       "      <td>-73.986017</td>\n",
       "      <td>40.756487</td>\n",
       "      <td>-73.858957</td>\n",
       "      <td>40.692588</td>\n",
       "      <td>2</td>\n",
       "      <td>12.850319</td>\n",
       "    </tr>\n",
       "    <tr>\n",
       "      <th>199998</th>\n",
       "      <td>20259894</td>\n",
       "      <td>14.5</td>\n",
       "      <td>2015-05-20 14:56:25+00:00</td>\n",
       "      <td>-73.997124</td>\n",
       "      <td>40.725452</td>\n",
       "      <td>-73.983215</td>\n",
       "      <td>40.695416</td>\n",
       "      <td>1</td>\n",
       "      <td>3.539715</td>\n",
       "    </tr>\n",
       "    <tr>\n",
       "      <th>199999</th>\n",
       "      <td>11951496</td>\n",
       "      <td>14.1</td>\n",
       "      <td>2010-05-15 04:08:00+00:00</td>\n",
       "      <td>-73.984395</td>\n",
       "      <td>40.720077</td>\n",
       "      <td>-73.985508</td>\n",
       "      <td>40.768793</td>\n",
       "      <td>1</td>\n",
       "      <td>5.417783</td>\n",
       "    </tr>\n",
       "  </tbody>\n",
       "</table>\n",
       "<p>199999 rows × 9 columns</p>\n",
       "</div>"
      ],
      "text/plain": [
       "         ride_id  fare_amount           pickup_datetime  pickup_longitude  \\\n",
       "0       24238194          7.5 2015-05-07 19:52:06+00:00        -73.999817   \n",
       "1       27835199          7.7 2009-07-17 20:04:56+00:00        -73.994355   \n",
       "2       44984355         12.9 2009-08-24 21:45:00+00:00        -74.005043   \n",
       "3       25894730          5.3 2009-06-26 08:22:21+00:00        -73.976124   \n",
       "4       17610152         16.0 2014-08-28 17:47:00+00:00        -73.925023   \n",
       "...          ...          ...                       ...               ...   \n",
       "199995  42598914          3.0 2012-10-28 10:49:00+00:00        -73.987042   \n",
       "199996  16382965          7.5 2014-03-14 01:09:00+00:00        -73.984722   \n",
       "199997  27804658         30.9 2009-06-29 00:42:00+00:00        -73.986017   \n",
       "199998  20259894         14.5 2015-05-20 14:56:25+00:00        -73.997124   \n",
       "199999  11951496         14.1 2010-05-15 04:08:00+00:00        -73.984395   \n",
       "\n",
       "        pickup_latitude  dropoff_longitude  dropoff_latitude  passenger_count  \\\n",
       "0             40.738354         -73.999512         40.723217                1   \n",
       "1             40.728225         -73.994710         40.750325                1   \n",
       "2             40.740770         -73.962565         40.772647                1   \n",
       "3             40.790844         -73.965316         40.803349                3   \n",
       "4             40.744085         -73.973082         40.761247                5   \n",
       "...                 ...                ...               ...              ...   \n",
       "199995        40.739367         -73.986525         40.740297                1   \n",
       "199996        40.736837         -74.006672         40.739620                1   \n",
       "199997        40.756487         -73.858957         40.692588                2   \n",
       "199998        40.725452         -73.983215         40.695416                1   \n",
       "199999        40.720077         -73.985508         40.768793                1   \n",
       "\n",
       "        haversine_distance  \n",
       "0                 1.683323  \n",
       "1                 2.457590  \n",
       "2                 5.036377  \n",
       "3                 1.661683  \n",
       "4                 4.475450  \n",
       "...                    ...  \n",
       "199995            0.112210  \n",
       "199996            1.875050  \n",
       "199997           12.850319  \n",
       "199998            3.539715  \n",
       "199999            5.417783  \n",
       "\n",
       "[199999 rows x 9 columns]"
      ]
     },
     "execution_count": 16,
     "metadata": {},
     "output_type": "execute_result"
    }
   ],
   "source": [
    "# Calculate Haversine distances and add a new column to the DataFrame\n",
    "data[\"haversine_distance\"] = data.apply(lambda column: haversine(column[\"pickup_latitude\"], \n",
    "                                                          column[\"pickup_longitude\"], \n",
    "                                                          column[\"dropoff_latitude\"],\n",
    "                                                          column[\"dropoff_longitude\"]), axis=1)\n",
    "\n",
    "# Print the DataFrame with the new column\n",
    "data"
   ]
  },
  {
   "cell_type": "code",
   "execution_count": 17,
   "id": "4e59d333",
   "metadata": {
    "ExecuteTime": {
     "end_time": "2023-09-02T09:18:54.352414Z",
     "start_time": "2023-09-02T09:18:54.337853Z"
    }
   },
   "outputs": [
    {
     "name": "stdout",
     "output_type": "stream",
     "text": [
      "The median Haversine distance between pickup and dropoff locations is 2.12 kilometers.\n"
     ]
    }
   ],
   "source": [
    "# Calculate the median distance\n",
    "median_distance = data.haversine_distance.median()\n",
    "\n",
    "print(f\"The median Haversine distance between pickup and dropoff locations is {median_distance:.2f} kilometers.\")"
   ]
  },
  {
   "cell_type": "markdown",
   "id": "ec707364",
   "metadata": {},
   "source": [
    "### What is the maximum haversine distance between pickup and dropoff location according to the given dataset?"
   ]
  },
  {
   "cell_type": "code",
   "execution_count": 18,
   "id": "d7482e57",
   "metadata": {
    "ExecuteTime": {
     "end_time": "2023-09-02T09:18:54.421059Z",
     "start_time": "2023-09-02T09:18:54.352414Z"
    }
   },
   "outputs": [
    {
     "name": "stdout",
     "output_type": "stream",
     "text": [
      "The maximum Haversine distance between pickup and dropoff locations is 16409.24 kilometers.\n"
     ]
    }
   ],
   "source": [
    "# Initialize the maximum distance to a small value\n",
    "max_distance = -1\n",
    "\n",
    "for distance in data.haversine_distance:\n",
    "    if distance > max_distance:\n",
    "        max_distance = distance\n",
    "        \n",
    "print(f\"The maximum Haversine distance between pickup and dropoff locations is {max_distance:.2f} kilometers.\")"
   ]
  },
  {
   "cell_type": "markdown",
   "id": "5ab54fad",
   "metadata": {},
   "source": [
    "### How many rides have 0.0 haversine distance between pickup and dropoff location according to the given dataset?"
   ]
  },
  {
   "cell_type": "code",
   "execution_count": 19,
   "id": "8913a812",
   "metadata": {
    "ExecuteTime": {
     "end_time": "2023-09-02T09:18:54.484178Z",
     "start_time": "2023-09-02T09:18:54.422043Z"
    }
   },
   "outputs": [
    {
     "name": "stdout",
     "output_type": "stream",
     "text": [
      "The number of rides with 0.0 Haversine distance between pickup and dropoff locations is: 5632\n"
     ]
    }
   ],
   "source": [
    "zero_distance_count = 0\n",
    "for dist in data.haversine_distance:\n",
    "    if dist == 0.0:\n",
    "        zero_distance_count += 1\n",
    "\n",
    "print(f\"The number of rides with 0.0 Haversine distance between pickup and dropoff locations is: {zero_distance_count}\")"
   ]
  },
  {
   "cell_type": "markdown",
   "id": "c4a9399f",
   "metadata": {},
   "source": [
    "### What is the mean 'fare_amount' for rides with 0 haversine distance?"
   ]
  },
  {
   "cell_type": "code",
   "execution_count": 20,
   "id": "5478183e",
   "metadata": {
    "ExecuteTime": {
     "end_time": "2023-09-02T09:19:00.581192Z",
     "start_time": "2023-09-02T09:18:54.487651Z"
    }
   },
   "outputs": [
    {
     "name": "stdout",
     "output_type": "stream",
     "text": [
      "The mean 'fare_amount' for rides with 0 Haversine distance is: 11.36\n"
     ]
    }
   ],
   "source": [
    "# Initialize variables for calculating the mean\n",
    "total_fare = 0\n",
    "rides_with_zero_distance = 0\n",
    "\n",
    "for distance in data.haversine_distance:\n",
    "    if distance == 0.0:\n",
    "        total_fare += data.fare_amount\n",
    "        rides_with_zero_distance += 1\n",
    "\n",
    "# Calculate the mean fare_amount\n",
    "if rides_with_zero_distance > 0:\n",
    "    mean_fare_amount = total_fare / rides_with_zero_distance\n",
    "else:\n",
    "    mean_fare_amount = 0\n",
    "        \n",
    "print(f\"The mean 'fare_amount' for rides with 0 Haversine distance is: {mean_fare_amount.mean():.2f}\")"
   ]
  },
  {
   "cell_type": "markdown",
   "id": "576fda55",
   "metadata": {},
   "source": [
    "### What is the maximum 'fare_amount' for a ride?"
   ]
  },
  {
   "cell_type": "code",
   "execution_count": 21,
   "id": "7350d6ff",
   "metadata": {
    "ExecuteTime": {
     "end_time": "2023-09-02T09:19:00.597203Z",
     "start_time": "2023-09-02T09:19:00.581192Z"
    }
   },
   "outputs": [
    {
     "data": {
      "text/plain": [
       "499.0"
      ]
     },
     "execution_count": 21,
     "metadata": {},
     "output_type": "execute_result"
    }
   ],
   "source": [
    "data.fare_amount.max()"
   ]
  },
  {
   "cell_type": "markdown",
   "id": "d6f11458",
   "metadata": {},
   "source": [
    "### What is the haversine distance between pickup and dropoff location for the costliest ride?"
   ]
  },
  {
   "cell_type": "code",
   "execution_count": 23,
   "id": "9d283fe0",
   "metadata": {
    "ExecuteTime": {
     "end_time": "2023-09-02T09:19:22.587445Z",
     "start_time": "2023-09-02T09:19:22.571382Z"
    }
   },
   "outputs": [
    {
     "name": "stdout",
     "output_type": "stream",
     "text": [
      "Haversine Distance between Pickup and Dropoff for the Costliest Ride: 0.0007899213191009994 km\n"
     ]
    }
   ],
   "source": [
    "# Find the row with the highest fare_amount (costliest ride)\n",
    "costliest_ride = data[data['fare_amount'] == data['fare_amount'].max()]\n",
    "\n",
    "# Extract the coordinates for the costliest ride\n",
    "pickup_longitude = costliest_ride['pickup_longitude'].values[0]\n",
    "pickup_latitude = costliest_ride['pickup_latitude'].values[0]\n",
    "dropoff_longitude = costliest_ride['dropoff_longitude'].values[0]\n",
    "dropoff_latitude = costliest_ride['dropoff_latitude'].values[0]\n",
    "\n",
    "distance = haversine(pickup_latitude, pickup_longitude, dropoff_latitude, dropoff_longitude)\n",
    "\n",
    "print(\"Haversine Distance between Pickup and Dropoff for the Costliest Ride:\", distance, \"km\")"
   ]
  },
  {
   "cell_type": "markdown",
   "id": "1730bd53",
   "metadata": {},
   "source": [
    "### How many rides were recorded in the year 2014?"
   ]
  },
  {
   "cell_type": "code",
   "execution_count": 24,
   "id": "f98ed5db",
   "metadata": {
    "ExecuteTime": {
     "end_time": "2023-09-02T09:19:25.594019Z",
     "start_time": "2023-09-02T09:19:25.570308Z"
    }
   },
   "outputs": [
    {
     "name": "stdout",
     "output_type": "stream",
     "text": [
      "Total rides recorded in 2014: 29899\n"
     ]
    }
   ],
   "source": [
    "# Find the total rides rides were recorded in 2014.\n",
    "total_rides_2014 = data[(data['pickup_datetime'] >= '2014-01-01') & (data['pickup_datetime'] <= '2014-12-31')]\n",
    "\n",
    "# Count the number of rides in 2014\n",
    "total_ride_count = len(total_rides_2014)\n",
    "\n",
    "print(f\"Total rides recorded in 2014: {total_ride_count}\")"
   ]
  },
  {
   "cell_type": "code",
   "execution_count": 25,
   "id": "ef88fb0a",
   "metadata": {
    "ExecuteTime": {
     "end_time": "2023-09-02T09:19:26.003746Z",
     "start_time": "2023-09-02T09:19:25.977487Z"
    }
   },
   "outputs": [
    {
     "name": "stdout",
     "output_type": "stream",
     "text": [
      "Total rides recorded in 2014: 29968\n"
     ]
    }
   ],
   "source": [
    "# Filter the DataFrame for rides in 2014\n",
    "total_rides_2014 = data[(data['pickup_datetime'] >= '2014-01-01 00:00:00 UTC') & (data['pickup_datetime'] <= '2014-12-31 23:59:59 UTC')]\n",
    "\n",
    "# Count the number of rides in 2014\n",
    "total_ride_count = len(total_rides_2014)\n",
    "\n",
    "print(f\"Total rides recorded in 2014: {total_ride_count}\")"
   ]
  },
  {
   "cell_type": "markdown",
   "id": "686465e2",
   "metadata": {},
   "source": [
    "    I observed that based on the time the rides are also changing noted this point."
   ]
  },
  {
   "cell_type": "markdown",
   "id": "5fa2f12f",
   "metadata": {},
   "source": [
    "### How many rides were recorded in the first quarter of 2014?"
   ]
  },
  {
   "cell_type": "code",
   "execution_count": 26,
   "id": "4a53a488",
   "metadata": {
    "ExecuteTime": {
     "end_time": "2023-09-02T09:19:27.006179Z",
     "start_time": "2023-09-02T09:19:26.985603Z"
    }
   },
   "outputs": [
    {
     "name": "stdout",
     "output_type": "stream",
     "text": [
      "Total rides recorded in the first quarter of 2014: 7687\n"
     ]
    }
   ],
   "source": [
    "# Filter the DataFrame to include only rows from the first quarter of 2014\n",
    "first_quarter_rides = data[(data['pickup_datetime'] >= '2014-01-01 00:00:00 UTC') & \n",
    "                           (data['pickup_datetime'] <= '2014-03-31 23:59:59 UTC')]\n",
    "\n",
    "# Count the number of rides in the first quarter of 2014\n",
    "ride_count = len(first_quarter_rides)\n",
    "\n",
    "print(f\"Total rides recorded in the first quarter of 2014: {ride_count}\")"
   ]
  },
  {
   "cell_type": "markdown",
   "id": "d190e4c1",
   "metadata": {},
   "source": [
    "### On which day of the week in September 2010, maximum rides were recorded ?"
   ]
  },
  {
   "cell_type": "code",
   "execution_count": 27,
   "id": "e9424282",
   "metadata": {
    "ExecuteTime": {
     "end_time": "2023-09-02T09:19:27.729196Z",
     "start_time": "2023-09-02T09:19:27.640786Z"
    }
   },
   "outputs": [
    {
     "name": "stdout",
     "output_type": "stream",
     "text": [
      "On Thursday in September 2010, the maximum rides were recorded: 457 rides\n"
     ]
    }
   ],
   "source": [
    "# Filter the DataFrame to include only rows from September 2010\n",
    "september_2010_rides = data[(data['pickup_datetime'].dt.year == 2010) & (data['pickup_datetime'].dt.month == 9)]\n",
    "\n",
    "# Group the data by day of the week and count the number of rides for each day\n",
    "rides_by_day_of_week = september_2010_rides['pickup_datetime'].dt.day_name().value_counts()\n",
    "\n",
    "# Find the day of the week with the maximum rides\n",
    "max_rides_day = rides_by_day_of_week.idxmax()\n",
    "max_rides_count = rides_by_day_of_week[max_rides_day]\n",
    "\n",
    "print(f\"On {max_rides_day} in September 2010, the maximum rides were recorded: {max_rides_count} rides\")"
   ]
  },
  {
   "cell_type": "code",
   "execution_count": 28,
   "id": "332a0434",
   "metadata": {
    "ExecuteTime": {
     "end_time": "2023-09-02T09:19:28.347793Z",
     "start_time": "2023-09-02T09:19:28.246432Z"
    }
   },
   "outputs": [],
   "source": [
    "data['ride_week_day'] = data['pickup_datetime'].dt.day_name()"
   ]
  },
  {
   "cell_type": "code",
   "execution_count": 29,
   "id": "2d11c0e0",
   "metadata": {
    "ExecuteTime": {
     "end_time": "2023-09-02T09:19:28.992165Z",
     "start_time": "2023-09-02T09:19:28.960111Z"
    }
   },
   "outputs": [
    {
     "data": {
      "text/html": [
       "<div>\n",
       "<style scoped>\n",
       "    .dataframe tbody tr th:only-of-type {\n",
       "        vertical-align: middle;\n",
       "    }\n",
       "\n",
       "    .dataframe tbody tr th {\n",
       "        vertical-align: top;\n",
       "    }\n",
       "\n",
       "    .dataframe thead th {\n",
       "        text-align: right;\n",
       "    }\n",
       "</style>\n",
       "<table border=\"1\" class=\"dataframe\">\n",
       "  <thead>\n",
       "    <tr style=\"text-align: right;\">\n",
       "      <th></th>\n",
       "      <th>ride_id</th>\n",
       "      <th>fare_amount</th>\n",
       "      <th>pickup_datetime</th>\n",
       "      <th>pickup_longitude</th>\n",
       "      <th>pickup_latitude</th>\n",
       "      <th>dropoff_longitude</th>\n",
       "      <th>dropoff_latitude</th>\n",
       "      <th>passenger_count</th>\n",
       "      <th>haversine_distance</th>\n",
       "      <th>ride_week_day</th>\n",
       "    </tr>\n",
       "  </thead>\n",
       "  <tbody>\n",
       "    <tr>\n",
       "      <th>0</th>\n",
       "      <td>24238194</td>\n",
       "      <td>7.5</td>\n",
       "      <td>2015-05-07 19:52:06+00:00</td>\n",
       "      <td>-73.999817</td>\n",
       "      <td>40.738354</td>\n",
       "      <td>-73.999512</td>\n",
       "      <td>40.723217</td>\n",
       "      <td>1</td>\n",
       "      <td>1.683323</td>\n",
       "      <td>Thursday</td>\n",
       "    </tr>\n",
       "    <tr>\n",
       "      <th>1</th>\n",
       "      <td>27835199</td>\n",
       "      <td>7.7</td>\n",
       "      <td>2009-07-17 20:04:56+00:00</td>\n",
       "      <td>-73.994355</td>\n",
       "      <td>40.728225</td>\n",
       "      <td>-73.994710</td>\n",
       "      <td>40.750325</td>\n",
       "      <td>1</td>\n",
       "      <td>2.457590</td>\n",
       "      <td>Friday</td>\n",
       "    </tr>\n",
       "    <tr>\n",
       "      <th>2</th>\n",
       "      <td>44984355</td>\n",
       "      <td>12.9</td>\n",
       "      <td>2009-08-24 21:45:00+00:00</td>\n",
       "      <td>-74.005043</td>\n",
       "      <td>40.740770</td>\n",
       "      <td>-73.962565</td>\n",
       "      <td>40.772647</td>\n",
       "      <td>1</td>\n",
       "      <td>5.036377</td>\n",
       "      <td>Monday</td>\n",
       "    </tr>\n",
       "    <tr>\n",
       "      <th>3</th>\n",
       "      <td>25894730</td>\n",
       "      <td>5.3</td>\n",
       "      <td>2009-06-26 08:22:21+00:00</td>\n",
       "      <td>-73.976124</td>\n",
       "      <td>40.790844</td>\n",
       "      <td>-73.965316</td>\n",
       "      <td>40.803349</td>\n",
       "      <td>3</td>\n",
       "      <td>1.661683</td>\n",
       "      <td>Friday</td>\n",
       "    </tr>\n",
       "    <tr>\n",
       "      <th>4</th>\n",
       "      <td>17610152</td>\n",
       "      <td>16.0</td>\n",
       "      <td>2014-08-28 17:47:00+00:00</td>\n",
       "      <td>-73.925023</td>\n",
       "      <td>40.744085</td>\n",
       "      <td>-73.973082</td>\n",
       "      <td>40.761247</td>\n",
       "      <td>5</td>\n",
       "      <td>4.475450</td>\n",
       "      <td>Thursday</td>\n",
       "    </tr>\n",
       "    <tr>\n",
       "      <th>...</th>\n",
       "      <td>...</td>\n",
       "      <td>...</td>\n",
       "      <td>...</td>\n",
       "      <td>...</td>\n",
       "      <td>...</td>\n",
       "      <td>...</td>\n",
       "      <td>...</td>\n",
       "      <td>...</td>\n",
       "      <td>...</td>\n",
       "      <td>...</td>\n",
       "    </tr>\n",
       "    <tr>\n",
       "      <th>199995</th>\n",
       "      <td>42598914</td>\n",
       "      <td>3.0</td>\n",
       "      <td>2012-10-28 10:49:00+00:00</td>\n",
       "      <td>-73.987042</td>\n",
       "      <td>40.739367</td>\n",
       "      <td>-73.986525</td>\n",
       "      <td>40.740297</td>\n",
       "      <td>1</td>\n",
       "      <td>0.112210</td>\n",
       "      <td>Sunday</td>\n",
       "    </tr>\n",
       "    <tr>\n",
       "      <th>199996</th>\n",
       "      <td>16382965</td>\n",
       "      <td>7.5</td>\n",
       "      <td>2014-03-14 01:09:00+00:00</td>\n",
       "      <td>-73.984722</td>\n",
       "      <td>40.736837</td>\n",
       "      <td>-74.006672</td>\n",
       "      <td>40.739620</td>\n",
       "      <td>1</td>\n",
       "      <td>1.875050</td>\n",
       "      <td>Friday</td>\n",
       "    </tr>\n",
       "    <tr>\n",
       "      <th>199997</th>\n",
       "      <td>27804658</td>\n",
       "      <td>30.9</td>\n",
       "      <td>2009-06-29 00:42:00+00:00</td>\n",
       "      <td>-73.986017</td>\n",
       "      <td>40.756487</td>\n",
       "      <td>-73.858957</td>\n",
       "      <td>40.692588</td>\n",
       "      <td>2</td>\n",
       "      <td>12.850319</td>\n",
       "      <td>Monday</td>\n",
       "    </tr>\n",
       "    <tr>\n",
       "      <th>199998</th>\n",
       "      <td>20259894</td>\n",
       "      <td>14.5</td>\n",
       "      <td>2015-05-20 14:56:25+00:00</td>\n",
       "      <td>-73.997124</td>\n",
       "      <td>40.725452</td>\n",
       "      <td>-73.983215</td>\n",
       "      <td>40.695416</td>\n",
       "      <td>1</td>\n",
       "      <td>3.539715</td>\n",
       "      <td>Wednesday</td>\n",
       "    </tr>\n",
       "    <tr>\n",
       "      <th>199999</th>\n",
       "      <td>11951496</td>\n",
       "      <td>14.1</td>\n",
       "      <td>2010-05-15 04:08:00+00:00</td>\n",
       "      <td>-73.984395</td>\n",
       "      <td>40.720077</td>\n",
       "      <td>-73.985508</td>\n",
       "      <td>40.768793</td>\n",
       "      <td>1</td>\n",
       "      <td>5.417783</td>\n",
       "      <td>Saturday</td>\n",
       "    </tr>\n",
       "  </tbody>\n",
       "</table>\n",
       "<p>199999 rows × 10 columns</p>\n",
       "</div>"
      ],
      "text/plain": [
       "         ride_id  fare_amount           pickup_datetime  pickup_longitude  \\\n",
       "0       24238194          7.5 2015-05-07 19:52:06+00:00        -73.999817   \n",
       "1       27835199          7.7 2009-07-17 20:04:56+00:00        -73.994355   \n",
       "2       44984355         12.9 2009-08-24 21:45:00+00:00        -74.005043   \n",
       "3       25894730          5.3 2009-06-26 08:22:21+00:00        -73.976124   \n",
       "4       17610152         16.0 2014-08-28 17:47:00+00:00        -73.925023   \n",
       "...          ...          ...                       ...               ...   \n",
       "199995  42598914          3.0 2012-10-28 10:49:00+00:00        -73.987042   \n",
       "199996  16382965          7.5 2014-03-14 01:09:00+00:00        -73.984722   \n",
       "199997  27804658         30.9 2009-06-29 00:42:00+00:00        -73.986017   \n",
       "199998  20259894         14.5 2015-05-20 14:56:25+00:00        -73.997124   \n",
       "199999  11951496         14.1 2010-05-15 04:08:00+00:00        -73.984395   \n",
       "\n",
       "        pickup_latitude  dropoff_longitude  dropoff_latitude  passenger_count  \\\n",
       "0             40.738354         -73.999512         40.723217                1   \n",
       "1             40.728225         -73.994710         40.750325                1   \n",
       "2             40.740770         -73.962565         40.772647                1   \n",
       "3             40.790844         -73.965316         40.803349                3   \n",
       "4             40.744085         -73.973082         40.761247                5   \n",
       "...                 ...                ...               ...              ...   \n",
       "199995        40.739367         -73.986525         40.740297                1   \n",
       "199996        40.736837         -74.006672         40.739620                1   \n",
       "199997        40.756487         -73.858957         40.692588                2   \n",
       "199998        40.725452         -73.983215         40.695416                1   \n",
       "199999        40.720077         -73.985508         40.768793                1   \n",
       "\n",
       "        haversine_distance ride_week_day  \n",
       "0                 1.683323      Thursday  \n",
       "1                 2.457590        Friday  \n",
       "2                 5.036377        Monday  \n",
       "3                 1.661683        Friday  \n",
       "4                 4.475450      Thursday  \n",
       "...                    ...           ...  \n",
       "199995            0.112210        Sunday  \n",
       "199996            1.875050        Friday  \n",
       "199997           12.850319        Monday  \n",
       "199998            3.539715     Wednesday  \n",
       "199999            5.417783      Saturday  \n",
       "\n",
       "[199999 rows x 10 columns]"
      ]
     },
     "execution_count": 29,
     "metadata": {},
     "output_type": "execute_result"
    }
   ],
   "source": [
    "data"
   ]
  },
  {
   "cell_type": "markdown",
   "id": "2f188c15",
   "metadata": {},
   "source": [
    "## *Data Analysis*"
   ]
  },
  {
   "cell_type": "code",
   "execution_count": 30,
   "id": "7d1e5eaf",
   "metadata": {
    "ExecuteTime": {
     "end_time": "2023-09-02T09:19:33.122323Z",
     "start_time": "2023-09-02T09:19:32.575376Z"
    }
   },
   "outputs": [
    {
     "data": {
      "image/png": "[encoded data removed]",
      "text/plain": [
       "<Figure size 640x480 with 1 Axes>"
      ]
     },
     "metadata": {},
     "output_type": "display_data"
    }
   ],
   "source": [
    "sns.countplot(x=data.ride_week_day);"
   ]
  },
  {
   "cell_type": "code",
   "execution_count": 32,
   "id": "87a2ac09",
   "metadata": {
    "ExecuteTime": {
     "end_time": "2023-09-02T09:21:12.225463Z",
     "start_time": "2023-09-02T09:21:09.993659Z"
    }
   },
   "outputs": [
    {
     "data": {
      "image/png": "[encoded data removed]",
      "text/plain": [
       "<Figure size 640x480 with 1 Axes>"
      ]
     },
     "metadata": {},
     "output_type": "display_data"
    }
   ],
   "source": [
    "sns.barplot(x=data.ride_week_day, y=data.passenger_count, ci=False);"
   ]
  },
  {
   "cell_type": "markdown",
   "id": "522d0065",
   "metadata": {},
   "source": [
    "    On Saturday and sunday means on weakends the passenger count is more compare to all other days"
   ]
  },
  {
   "cell_type": "code",
   "execution_count": 44,
   "id": "c296219a",
   "metadata": {
    "ExecuteTime": {
     "end_time": "2023-09-02T09:30:49.057926Z",
     "start_time": "2023-09-02T09:30:48.763585Z"
    }
   },
   "outputs": [
    {
     "data": {
      "image/png": "[encoded data removed]",
      "text/plain": [
       "<Figure size 1000x700 with 1 Axes>"
      ]
     },
     "metadata": {},
     "output_type": "display_data"
    }
   ],
   "source": [
    "# This is pie plot shows share rides on weekdays.\n",
    "plt.figure(figsize=(10,7))\n",
    "plt.pie(x = data.ride_week_day.value_counts().values,\n",
    "        labels = data.ride_week_day.value_counts().index,autopct = '%.2f%%')\n",
    "plt.title('Distribution of Rides by Weekday')\n",
    "plt.legend(loc = 'best')\n",
    "plt.show();"
   ]
  },
  {
   "cell_type": "markdown",
   "id": "d253caf8",
   "metadata": {},
   "source": [
    "    On Thursday, Friday and Saturday share of the rides is sightly more compare to other days"
   ]
  },
  {
   "cell_type": "code",
   "execution_count": 50,
   "id": "0963c4d2",
   "metadata": {
    "ExecuteTime": {
     "end_time": "2023-09-02T09:39:26.661147Z",
     "start_time": "2023-09-02T09:39:25.251296Z"
    }
   },
   "outputs": [],
   "source": [
    "from sklearn.model_selection import train_test_split\n",
    "from sklearn.linear_model import LinearRegression\n",
    "from sklearn.tree import DecisionTreeRegressor\n",
    "from sklearn.ensemble import RandomForestRegressor\n",
    "from sklearn.neighbors import KNeighborsRegressor\n",
    "from sklearn.metrics import r2_score"
   ]
  },
  {
   "cell_type": "markdown",
   "id": "e522d3d1",
   "metadata": {},
   "source": [
    "## Apply a Machine Learning Algorithm to predict the fare amount given following input features: passenger_count, distance and ride_week_day.\n",
    "\n",
    "### Perform a 70-30 split of data."
   ]
  },
  {
   "cell_type": "code",
   "execution_count": 51,
   "id": "62ec4429",
   "metadata": {
    "ExecuteTime": {
     "end_time": "2023-09-02T09:43:50.936196Z",
     "start_time": "2023-09-02T09:43:50.896171Z"
    }
   },
   "outputs": [],
   "source": [
    "# Taking the X (features) as input and y (target variable) as target.\n",
    "X = data[['passenger_count', 'haversine_distance', 'ride_week_day']]\n",
    "y = data['fare_amount']"
   ]
  },
  {
   "cell_type": "markdown",
   "id": "207d4dee",
   "metadata": {},
   "source": [
    "### `Applying the traintestsplit for train and test data`"
   ]
  },
  {
   "cell_type": "code",
   "execution_count": 52,
   "id": "7e60b558",
   "metadata": {
    "ExecuteTime": {
     "end_time": "2023-09-02T09:43:53.038636Z",
     "start_time": "2023-09-02T09:43:52.974525Z"
    }
   },
   "outputs": [],
   "source": [
    "# Split the data into training and testing sets (70% train, 30% test)\n",
    "# Applying the train test split to split the data into train and test means x_train, x_test, y_train and y_test data.\n",
    "X_train, X_test, y_train, y_test = train_test_split(X, y, test_size=0.3, random_state=42)"
   ]
  },
  {
   "cell_type": "code",
   "execution_count": 53,
   "id": "49069c9c",
   "metadata": {
    "ExecuteTime": {
     "end_time": "2023-09-02T09:45:15.744094Z",
     "start_time": "2023-09-02T09:45:15.727857Z"
    }
   },
   "outputs": [
    {
     "name": "stdout",
     "output_type": "stream",
     "text": [
      "(139999, 3) (139999,)\n",
      "(60000, 3) (60000,)\n"
     ]
    }
   ],
   "source": [
    "# Checking the shapes of x_train, x_test, y_train and y_test.\n",
    "# Observing the how many datapoints are present in the train data and test data.\n",
    "print(X_train.shape, y_train.shape)\n",
    "print(X_test.shape, y_test.shape)"
   ]
  },
  {
   "cell_type": "markdown",
   "id": "b545fcab",
   "metadata": {},
   "source": [
    "### `Applying preprocessing on train data`"
   ]
  },
  {
   "cell_type": "code",
   "execution_count": 55,
   "id": "22611df9",
   "metadata": {
    "ExecuteTime": {
     "end_time": "2023-09-02T09:46:20.849267Z",
     "start_time": "2023-09-02T09:46:20.836167Z"
    }
   },
   "outputs": [
    {
     "data": {
      "text/html": [
       "<div>\n",
       "<style scoped>\n",
       "    .dataframe tbody tr th:only-of-type {\n",
       "        vertical-align: middle;\n",
       "    }\n",
       "\n",
       "    .dataframe tbody tr th {\n",
       "        vertical-align: top;\n",
       "    }\n",
       "\n",
       "    .dataframe thead th {\n",
       "        text-align: right;\n",
       "    }\n",
       "</style>\n",
       "<table border=\"1\" class=\"dataframe\">\n",
       "  <thead>\n",
       "    <tr style=\"text-align: right;\">\n",
       "      <th></th>\n",
       "      <th>passenger_count</th>\n",
       "      <th>haversine_distance</th>\n",
       "    </tr>\n",
       "  </thead>\n",
       "  <tbody>\n",
       "    <tr>\n",
       "      <th>194320</th>\n",
       "      <td>1</td>\n",
       "      <td>1.270348</td>\n",
       "    </tr>\n",
       "    <tr>\n",
       "      <th>774</th>\n",
       "      <td>2</td>\n",
       "      <td>6.406598</td>\n",
       "    </tr>\n",
       "    <tr>\n",
       "      <th>75676</th>\n",
       "      <td>1</td>\n",
       "      <td>3.016657</td>\n",
       "    </tr>\n",
       "    <tr>\n",
       "      <th>37127</th>\n",
       "      <td>1</td>\n",
       "      <td>1.546083</td>\n",
       "    </tr>\n",
       "    <tr>\n",
       "      <th>96757</th>\n",
       "      <td>5</td>\n",
       "      <td>2.492464</td>\n",
       "    </tr>\n",
       "  </tbody>\n",
       "</table>\n",
       "</div>"
      ],
      "text/plain": [
       "        passenger_count  haversine_distance\n",
       "194320                1            1.270348\n",
       "774                   2            6.406598\n",
       "75676                 1            3.016657\n",
       "37127                 1            1.546083\n",
       "96757                 5            2.492464"
      ]
     },
     "execution_count": 55,
     "metadata": {},
     "output_type": "execute_result"
    }
   ],
   "source": [
    "# Separating the numerical coulmns from the x_train data using select_dtypes.\n",
    "X_train_num = X_train.select_dtypes(include=['int64','float64'])\n",
    "X_train_num.head()"
   ]
  },
  {
   "cell_type": "markdown",
   "id": "37761879",
   "metadata": {},
   "source": [
    "### `Rescaling the Numerical Features`"
   ]
  },
  {
   "cell_type": "code",
   "execution_count": 56,
   "id": "98dc6824",
   "metadata": {
    "ExecuteTime": {
     "end_time": "2023-09-02T09:46:39.756446Z",
     "start_time": "2023-09-02T09:46:39.724392Z"
    }
   },
   "outputs": [],
   "source": [
    "from sklearn.preprocessing import StandardScaler # Importing the standardscaler from sklearn.preprocessing.\n",
    "scalar = StandardScaler() # Creating the scaler object for the class.\n",
    "# Taking the scalar object and using fit_transform we are rescaling the data.\n",
    "X_train_num_transformed = pd.DataFrame(scalar.fit_transform(X_train_num),\n",
    "                                      columns=X_train_num.columns,\n",
    "                                      index= X_train_num.index)"
   ]
  },
  {
   "cell_type": "code",
   "execution_count": 57,
   "id": "e271f9fc",
   "metadata": {
    "ExecuteTime": {
     "end_time": "2023-09-02T09:46:44.275504Z",
     "start_time": "2023-09-02T09:46:44.251489Z"
    }
   },
   "outputs": [
    {
     "data": {
      "text/html": [
       "<div>\n",
       "<style scoped>\n",
       "    .dataframe tbody tr th:only-of-type {\n",
       "        vertical-align: middle;\n",
       "    }\n",
       "\n",
       "    .dataframe tbody tr th {\n",
       "        vertical-align: top;\n",
       "    }\n",
       "\n",
       "    .dataframe thead th {\n",
       "        text-align: right;\n",
       "    }\n",
       "</style>\n",
       "<table border=\"1\" class=\"dataframe\">\n",
       "  <thead>\n",
       "    <tr style=\"text-align: right;\">\n",
       "      <th></th>\n",
       "      <th>passenger_count</th>\n",
       "      <th>haversine_distance</th>\n",
       "    </tr>\n",
       "  </thead>\n",
       "  <tbody>\n",
       "    <tr>\n",
       "      <th>194320</th>\n",
       "      <td>-0.483094</td>\n",
       "      <td>-0.051319</td>\n",
       "    </tr>\n",
       "    <tr>\n",
       "      <th>774</th>\n",
       "      <td>0.221215</td>\n",
       "      <td>-0.037987</td>\n",
       "    </tr>\n",
       "    <tr>\n",
       "      <th>75676</th>\n",
       "      <td>-0.483094</td>\n",
       "      <td>-0.046786</td>\n",
       "    </tr>\n",
       "    <tr>\n",
       "      <th>37127</th>\n",
       "      <td>-0.483094</td>\n",
       "      <td>-0.050603</td>\n",
       "    </tr>\n",
       "    <tr>\n",
       "      <th>96757</th>\n",
       "      <td>2.334142</td>\n",
       "      <td>-0.048147</td>\n",
       "    </tr>\n",
       "  </tbody>\n",
       "</table>\n",
       "</div>"
      ],
      "text/plain": [
       "        passenger_count  haversine_distance\n",
       "194320        -0.483094           -0.051319\n",
       "774            0.221215           -0.037987\n",
       "75676         -0.483094           -0.046786\n",
       "37127         -0.483094           -0.050603\n",
       "96757          2.334142           -0.048147"
      ]
     },
     "execution_count": 57,
     "metadata": {},
     "output_type": "execute_result"
    }
   ],
   "source": [
    "X_train_num_transformed.head()"
   ]
  },
  {
   "cell_type": "code",
   "execution_count": 58,
   "id": "b98f1d8c",
   "metadata": {
    "ExecuteTime": {
     "end_time": "2023-09-02T09:46:57.349478Z",
     "start_time": "2023-09-02T09:46:57.325467Z"
    }
   },
   "outputs": [
    {
     "data": {
      "text/html": [
       "<div>\n",
       "<style scoped>\n",
       "    .dataframe tbody tr th:only-of-type {\n",
       "        vertical-align: middle;\n",
       "    }\n",
       "\n",
       "    .dataframe tbody tr th {\n",
       "        vertical-align: top;\n",
       "    }\n",
       "\n",
       "    .dataframe thead th {\n",
       "        text-align: right;\n",
       "    }\n",
       "</style>\n",
       "<table border=\"1\" class=\"dataframe\">\n",
       "  <thead>\n",
       "    <tr style=\"text-align: right;\">\n",
       "      <th></th>\n",
       "      <th>ride_week_day</th>\n",
       "    </tr>\n",
       "  </thead>\n",
       "  <tbody>\n",
       "    <tr>\n",
       "      <th>194320</th>\n",
       "      <td>Thursday</td>\n",
       "    </tr>\n",
       "    <tr>\n",
       "      <th>774</th>\n",
       "      <td>Saturday</td>\n",
       "    </tr>\n",
       "    <tr>\n",
       "      <th>75676</th>\n",
       "      <td>Wednesday</td>\n",
       "    </tr>\n",
       "    <tr>\n",
       "      <th>37127</th>\n",
       "      <td>Friday</td>\n",
       "    </tr>\n",
       "    <tr>\n",
       "      <th>96757</th>\n",
       "      <td>Sunday</td>\n",
       "    </tr>\n",
       "  </tbody>\n",
       "</table>\n",
       "</div>"
      ],
      "text/plain": [
       "       ride_week_day\n",
       "194320      Thursday\n",
       "774         Saturday\n",
       "75676      Wednesday\n",
       "37127         Friday\n",
       "96757         Sunday"
      ]
     },
     "execution_count": 58,
     "metadata": {},
     "output_type": "execute_result"
    }
   ],
   "source": [
    "# Separating the categorical coulmns from the x_train data using select_dtypes.\n",
    "X_train_cat = X_train.select_dtypes(include=['object'])\n",
    "X_train_cat.head()"
   ]
  },
  {
   "cell_type": "markdown",
   "id": "cc4851eb",
   "metadata": {},
   "source": [
    "### `Rescaling the Categorical Features`"
   ]
  },
  {
   "cell_type": "code",
   "execution_count": 60,
   "id": "826e6700",
   "metadata": {
    "ExecuteTime": {
     "end_time": "2023-09-02T09:47:22.215475Z",
     "start_time": "2023-09-02T09:47:22.063374Z"
    }
   },
   "outputs": [],
   "source": [
    "# OneHotEncoding the categorical features\n",
    "# Importing the OneHotEncoder from sklearn.preprocessing.\n",
    "from sklearn.preprocessing import OneHotEncoder\n",
    "encoder = OneHotEncoder(drop='first', sparse=False) # Creating the encoder object for the class.\n",
    "# Taking the encoder object and using fit_transform we are rescaling the data.\n",
    "X_train_cat_transformed = pd.DataFrame(encoder.fit_transform(X_train_cat),\n",
    "                                      columns=encoder.get_feature_names_out(X_train_cat.columns),\n",
    "                                      index=X_train_cat.index)"
   ]
  },
  {
   "cell_type": "code",
   "execution_count": 61,
   "id": "10c02ae8",
   "metadata": {
    "ExecuteTime": {
     "end_time": "2023-09-02T09:47:27.337400Z",
     "start_time": "2023-09-02T09:47:27.305399Z"
    }
   },
   "outputs": [
    {
     "data": {
      "text/html": [
       "<div>\n",
       "<style scoped>\n",
       "    .dataframe tbody tr th:only-of-type {\n",
       "        vertical-align: middle;\n",
       "    }\n",
       "\n",
       "    .dataframe tbody tr th {\n",
       "        vertical-align: top;\n",
       "    }\n",
       "\n",
       "    .dataframe thead th {\n",
       "        text-align: right;\n",
       "    }\n",
       "</style>\n",
       "<table border=\"1\" class=\"dataframe\">\n",
       "  <thead>\n",
       "    <tr style=\"text-align: right;\">\n",
       "      <th></th>\n",
       "      <th>ride_week_day_Monday</th>\n",
       "      <th>ride_week_day_Saturday</th>\n",
       "      <th>ride_week_day_Sunday</th>\n",
       "      <th>ride_week_day_Thursday</th>\n",
       "      <th>ride_week_day_Tuesday</th>\n",
       "      <th>ride_week_day_Wednesday</th>\n",
       "    </tr>\n",
       "  </thead>\n",
       "  <tbody>\n",
       "    <tr>\n",
       "      <th>194320</th>\n",
       "      <td>0.0</td>\n",
       "      <td>0.0</td>\n",
       "      <td>0.0</td>\n",
       "      <td>1.0</td>\n",
       "      <td>0.0</td>\n",
       "      <td>0.0</td>\n",
       "    </tr>\n",
       "    <tr>\n",
       "      <th>774</th>\n",
       "      <td>0.0</td>\n",
       "      <td>1.0</td>\n",
       "      <td>0.0</td>\n",
       "      <td>0.0</td>\n",
       "      <td>0.0</td>\n",
       "      <td>0.0</td>\n",
       "    </tr>\n",
       "    <tr>\n",
       "      <th>75676</th>\n",
       "      <td>0.0</td>\n",
       "      <td>0.0</td>\n",
       "      <td>0.0</td>\n",
       "      <td>0.0</td>\n",
       "      <td>0.0</td>\n",
       "      <td>1.0</td>\n",
       "    </tr>\n",
       "    <tr>\n",
       "      <th>37127</th>\n",
       "      <td>0.0</td>\n",
       "      <td>0.0</td>\n",
       "      <td>0.0</td>\n",
       "      <td>0.0</td>\n",
       "      <td>0.0</td>\n",
       "      <td>0.0</td>\n",
       "    </tr>\n",
       "    <tr>\n",
       "      <th>96757</th>\n",
       "      <td>0.0</td>\n",
       "      <td>0.0</td>\n",
       "      <td>1.0</td>\n",
       "      <td>0.0</td>\n",
       "      <td>0.0</td>\n",
       "      <td>0.0</td>\n",
       "    </tr>\n",
       "  </tbody>\n",
       "</table>\n",
       "</div>"
      ],
      "text/plain": [
       "        ride_week_day_Monday  ride_week_day_Saturday  ride_week_day_Sunday  \\\n",
       "194320                   0.0                     0.0                   0.0   \n",
       "774                      0.0                     1.0                   0.0   \n",
       "75676                    0.0                     0.0                   0.0   \n",
       "37127                    0.0                     0.0                   0.0   \n",
       "96757                    0.0                     0.0                   1.0   \n",
       "\n",
       "        ride_week_day_Thursday  ride_week_day_Tuesday  ride_week_day_Wednesday  \n",
       "194320                     1.0                    0.0                      0.0  \n",
       "774                        0.0                    0.0                      0.0  \n",
       "75676                      0.0                    0.0                      1.0  \n",
       "37127                      0.0                    0.0                      0.0  \n",
       "96757                      0.0                    0.0                      0.0  "
      ]
     },
     "execution_count": 61,
     "metadata": {},
     "output_type": "execute_result"
    }
   ],
   "source": [
    "X_train_cat_transformed.head()"
   ]
  },
  {
   "cell_type": "code",
   "execution_count": 62,
   "id": "474abac4",
   "metadata": {
    "ExecuteTime": {
     "end_time": "2023-09-02T09:47:42.657669Z",
     "start_time": "2023-09-02T09:47:42.625617Z"
    }
   },
   "outputs": [
    {
     "data": {
      "text/html": [
       "<div>\n",
       "<style scoped>\n",
       "    .dataframe tbody tr th:only-of-type {\n",
       "        vertical-align: middle;\n",
       "    }\n",
       "\n",
       "    .dataframe tbody tr th {\n",
       "        vertical-align: top;\n",
       "    }\n",
       "\n",
       "    .dataframe thead th {\n",
       "        text-align: right;\n",
       "    }\n",
       "</style>\n",
       "<table border=\"1\" class=\"dataframe\">\n",
       "  <thead>\n",
       "    <tr style=\"text-align: right;\">\n",
       "      <th></th>\n",
       "      <th>passenger_count</th>\n",
       "      <th>haversine_distance</th>\n",
       "      <th>ride_week_day_Monday</th>\n",
       "      <th>ride_week_day_Saturday</th>\n",
       "      <th>ride_week_day_Sunday</th>\n",
       "      <th>ride_week_day_Thursday</th>\n",
       "      <th>ride_week_day_Tuesday</th>\n",
       "      <th>ride_week_day_Wednesday</th>\n",
       "    </tr>\n",
       "  </thead>\n",
       "  <tbody>\n",
       "    <tr>\n",
       "      <th>194320</th>\n",
       "      <td>-0.483094</td>\n",
       "      <td>-0.051319</td>\n",
       "      <td>0.0</td>\n",
       "      <td>0.0</td>\n",
       "      <td>0.0</td>\n",
       "      <td>1.0</td>\n",
       "      <td>0.0</td>\n",
       "      <td>0.0</td>\n",
       "    </tr>\n",
       "    <tr>\n",
       "      <th>774</th>\n",
       "      <td>0.221215</td>\n",
       "      <td>-0.037987</td>\n",
       "      <td>0.0</td>\n",
       "      <td>1.0</td>\n",
       "      <td>0.0</td>\n",
       "      <td>0.0</td>\n",
       "      <td>0.0</td>\n",
       "      <td>0.0</td>\n",
       "    </tr>\n",
       "    <tr>\n",
       "      <th>75676</th>\n",
       "      <td>-0.483094</td>\n",
       "      <td>-0.046786</td>\n",
       "      <td>0.0</td>\n",
       "      <td>0.0</td>\n",
       "      <td>0.0</td>\n",
       "      <td>0.0</td>\n",
       "      <td>0.0</td>\n",
       "      <td>1.0</td>\n",
       "    </tr>\n",
       "    <tr>\n",
       "      <th>37127</th>\n",
       "      <td>-0.483094</td>\n",
       "      <td>-0.050603</td>\n",
       "      <td>0.0</td>\n",
       "      <td>0.0</td>\n",
       "      <td>0.0</td>\n",
       "      <td>0.0</td>\n",
       "      <td>0.0</td>\n",
       "      <td>0.0</td>\n",
       "    </tr>\n",
       "    <tr>\n",
       "      <th>96757</th>\n",
       "      <td>2.334142</td>\n",
       "      <td>-0.048147</td>\n",
       "      <td>0.0</td>\n",
       "      <td>0.0</td>\n",
       "      <td>1.0</td>\n",
       "      <td>0.0</td>\n",
       "      <td>0.0</td>\n",
       "      <td>0.0</td>\n",
       "    </tr>\n",
       "  </tbody>\n",
       "</table>\n",
       "</div>"
      ],
      "text/plain": [
       "        passenger_count  haversine_distance  ride_week_day_Monday  \\\n",
       "194320        -0.483094           -0.051319                   0.0   \n",
       "774            0.221215           -0.037987                   0.0   \n",
       "75676         -0.483094           -0.046786                   0.0   \n",
       "37127         -0.483094           -0.050603                   0.0   \n",
       "96757          2.334142           -0.048147                   0.0   \n",
       "\n",
       "        ride_week_day_Saturday  ride_week_day_Sunday  ride_week_day_Thursday  \\\n",
       "194320                     0.0                   0.0                     1.0   \n",
       "774                        1.0                   0.0                     0.0   \n",
       "75676                      0.0                   0.0                     0.0   \n",
       "37127                      0.0                   0.0                     0.0   \n",
       "96757                      0.0                   1.0                     0.0   \n",
       "\n",
       "        ride_week_day_Tuesday  ride_week_day_Wednesday  \n",
       "194320                    0.0                      0.0  \n",
       "774                       0.0                      0.0  \n",
       "75676                     0.0                      1.0  \n",
       "37127                     0.0                      0.0  \n",
       "96757                     0.0                      0.0  "
      ]
     },
     "execution_count": 62,
     "metadata": {},
     "output_type": "execute_result"
    }
   ],
   "source": [
    "X_train_transformed = pd.concat([X_train_num_transformed, X_train_cat_transformed], axis=1)\n",
    "\n",
    "X_train_transformed.head()"
   ]
  },
  {
   "cell_type": "markdown",
   "id": "493f0cb7",
   "metadata": {},
   "source": [
    "### `Applying preprocessing on test data`"
   ]
  },
  {
   "cell_type": "code",
   "execution_count": 63,
   "id": "c91d9915",
   "metadata": {
    "ExecuteTime": {
     "end_time": "2023-09-02T09:48:10.142456Z",
     "start_time": "2023-09-02T09:48:10.117617Z"
    }
   },
   "outputs": [
    {
     "data": {
      "text/html": [
       "<div>\n",
       "<style scoped>\n",
       "    .dataframe tbody tr th:only-of-type {\n",
       "        vertical-align: middle;\n",
       "    }\n",
       "\n",
       "    .dataframe tbody tr th {\n",
       "        vertical-align: top;\n",
       "    }\n",
       "\n",
       "    .dataframe thead th {\n",
       "        text-align: right;\n",
       "    }\n",
       "</style>\n",
       "<table border=\"1\" class=\"dataframe\">\n",
       "  <thead>\n",
       "    <tr style=\"text-align: right;\">\n",
       "      <th></th>\n",
       "      <th>passenger_count</th>\n",
       "      <th>haversine_distance</th>\n",
       "    </tr>\n",
       "  </thead>\n",
       "  <tbody>\n",
       "    <tr>\n",
       "      <th>134253</th>\n",
       "      <td>1</td>\n",
       "      <td>2.098542</td>\n",
       "    </tr>\n",
       "    <tr>\n",
       "      <th>124141</th>\n",
       "      <td>1</td>\n",
       "      <td>0.960293</td>\n",
       "    </tr>\n",
       "    <tr>\n",
       "      <th>62810</th>\n",
       "      <td>5</td>\n",
       "      <td>3.377763</td>\n",
       "    </tr>\n",
       "    <tr>\n",
       "      <th>65425</th>\n",
       "      <td>1</td>\n",
       "      <td>2.716637</td>\n",
       "    </tr>\n",
       "    <tr>\n",
       "      <th>30074</th>\n",
       "      <td>1</td>\n",
       "      <td>0.784348</td>\n",
       "    </tr>\n",
       "  </tbody>\n",
       "</table>\n",
       "</div>"
      ],
      "text/plain": [
       "        passenger_count  haversine_distance\n",
       "134253                1            2.098542\n",
       "124141                1            0.960293\n",
       "62810                 5            3.377763\n",
       "65425                 1            2.716637\n",
       "30074                 1            0.784348"
      ]
     },
     "execution_count": 63,
     "metadata": {},
     "output_type": "execute_result"
    }
   ],
   "source": [
    "# Separating the numerical coulmns from the x_train data using select_dtypes.\n",
    "X_test_num = X_test.select_dtypes(include=['int64','float64'])\n",
    "X_test_num.head()"
   ]
  },
  {
   "cell_type": "markdown",
   "id": "068f5486",
   "metadata": {},
   "source": [
    "### `Rescaling the Numerical Features`"
   ]
  },
  {
   "cell_type": "code",
   "execution_count": 64,
   "id": "5a1f4de5",
   "metadata": {
    "ExecuteTime": {
     "end_time": "2023-09-02T09:48:38.809347Z",
     "start_time": "2023-09-02T09:48:38.792458Z"
    }
   },
   "outputs": [],
   "source": [
    "from sklearn.preprocessing import StandardScaler # Importing the standardscaler from sklearn.preprocessing.\n",
    "scaler = StandardScaler() # Creating the scaler object for the class.\n",
    "# Taking the scalar object and using fit_transform we are rescaling the data.\n",
    "X_test_num_transformed = pd.DataFrame(scaler.fit_transform(X_test_num),\n",
    "                                      columns=X_test_num.columns,\n",
    "                                      index= X_test_num.index)"
   ]
  },
  {
   "cell_type": "code",
   "execution_count": 65,
   "id": "5de9a46d",
   "metadata": {
    "ExecuteTime": {
     "end_time": "2023-09-02T09:48:39.613440Z",
     "start_time": "2023-09-02T09:48:39.597328Z"
    }
   },
   "outputs": [
    {
     "data": {
      "text/html": [
       "<div>\n",
       "<style scoped>\n",
       "    .dataframe tbody tr th:only-of-type {\n",
       "        vertical-align: middle;\n",
       "    }\n",
       "\n",
       "    .dataframe tbody tr th {\n",
       "        vertical-align: top;\n",
       "    }\n",
       "\n",
       "    .dataframe thead th {\n",
       "        text-align: right;\n",
       "    }\n",
       "</style>\n",
       "<table border=\"1\" class=\"dataframe\">\n",
       "  <thead>\n",
       "    <tr style=\"text-align: right;\">\n",
       "      <th></th>\n",
       "      <th>passenger_count</th>\n",
       "      <th>haversine_distance</th>\n",
       "    </tr>\n",
       "  </thead>\n",
       "  <tbody>\n",
       "    <tr>\n",
       "      <th>134253</th>\n",
       "      <td>-0.522662</td>\n",
       "      <td>-0.048530</td>\n",
       "    </tr>\n",
       "    <tr>\n",
       "      <th>124141</th>\n",
       "      <td>-0.522662</td>\n",
       "      <td>-0.051545</td>\n",
       "    </tr>\n",
       "    <tr>\n",
       "      <th>62810</th>\n",
       "      <td>2.545729</td>\n",
       "      <td>-0.045142</td>\n",
       "    </tr>\n",
       "    <tr>\n",
       "      <th>65425</th>\n",
       "      <td>-0.522662</td>\n",
       "      <td>-0.046893</td>\n",
       "    </tr>\n",
       "    <tr>\n",
       "      <th>30074</th>\n",
       "      <td>-0.522662</td>\n",
       "      <td>-0.052011</td>\n",
       "    </tr>\n",
       "  </tbody>\n",
       "</table>\n",
       "</div>"
      ],
      "text/plain": [
       "        passenger_count  haversine_distance\n",
       "134253        -0.522662           -0.048530\n",
       "124141        -0.522662           -0.051545\n",
       "62810          2.545729           -0.045142\n",
       "65425         -0.522662           -0.046893\n",
       "30074         -0.522662           -0.052011"
      ]
     },
     "execution_count": 65,
     "metadata": {},
     "output_type": "execute_result"
    }
   ],
   "source": [
    "X_test_num_transformed.head()"
   ]
  },
  {
   "cell_type": "code",
   "execution_count": 66,
   "id": "efc8a43c",
   "metadata": {
    "ExecuteTime": {
     "end_time": "2023-09-02T09:48:52.170526Z",
     "start_time": "2023-09-02T09:48:52.146382Z"
    }
   },
   "outputs": [
    {
     "data": {
      "text/html": [
       "<div>\n",
       "<style scoped>\n",
       "    .dataframe tbody tr th:only-of-type {\n",
       "        vertical-align: middle;\n",
       "    }\n",
       "\n",
       "    .dataframe tbody tr th {\n",
       "        vertical-align: top;\n",
       "    }\n",
       "\n",
       "    .dataframe thead th {\n",
       "        text-align: right;\n",
       "    }\n",
       "</style>\n",
       "<table border=\"1\" class=\"dataframe\">\n",
       "  <thead>\n",
       "    <tr style=\"text-align: right;\">\n",
       "      <th></th>\n",
       "      <th>ride_week_day</th>\n",
       "    </tr>\n",
       "  </thead>\n",
       "  <tbody>\n",
       "    <tr>\n",
       "      <th>134253</th>\n",
       "      <td>Wednesday</td>\n",
       "    </tr>\n",
       "    <tr>\n",
       "      <th>124141</th>\n",
       "      <td>Sunday</td>\n",
       "    </tr>\n",
       "    <tr>\n",
       "      <th>62810</th>\n",
       "      <td>Saturday</td>\n",
       "    </tr>\n",
       "    <tr>\n",
       "      <th>65425</th>\n",
       "      <td>Sunday</td>\n",
       "    </tr>\n",
       "    <tr>\n",
       "      <th>30074</th>\n",
       "      <td>Monday</td>\n",
       "    </tr>\n",
       "  </tbody>\n",
       "</table>\n",
       "</div>"
      ],
      "text/plain": [
       "       ride_week_day\n",
       "134253     Wednesday\n",
       "124141        Sunday\n",
       "62810       Saturday\n",
       "65425         Sunday\n",
       "30074         Monday"
      ]
     },
     "execution_count": 66,
     "metadata": {},
     "output_type": "execute_result"
    }
   ],
   "source": [
    "# Separating the categorical coulmns from the x_train data using select_dtypes.\n",
    "X_test_cat = X_test.select_dtypes(include=['object'])\n",
    "X_test_cat.head()"
   ]
  },
  {
   "cell_type": "markdown",
   "id": "715bb1ed",
   "metadata": {},
   "source": [
    "### `Rescaling the Categorical Features`"
   ]
  },
  {
   "cell_type": "code",
   "execution_count": 67,
   "id": "e5cab332",
   "metadata": {
    "ExecuteTime": {
     "end_time": "2023-09-02T09:49:06.310846Z",
     "start_time": "2023-09-02T09:49:06.255246Z"
    }
   },
   "outputs": [],
   "source": [
    "# OneHotEncoding the categorical features\n",
    "# Importing the OneHotEncoder from sklearn.preprocessing.\n",
    "from sklearn.preprocessing import OneHotEncoder\n",
    "encoder = OneHotEncoder(drop='first', sparse=False) # Creating the encoder object for the class.\n",
    "# Taking the encoder object and using fit_transform we are rescaling the data.\n",
    "X_test_cat_transformed = pd.DataFrame(encoder.fit_transform(X_test_cat),\n",
    "                                      columns=encoder.get_feature_names_out(X_test_cat.columns),\n",
    "                                      index=X_test_cat.index)"
   ]
  },
  {
   "cell_type": "code",
   "execution_count": 68,
   "id": "b1b50c1b",
   "metadata": {
    "ExecuteTime": {
     "end_time": "2023-09-02T09:49:09.984792Z",
     "start_time": "2023-09-02T09:49:09.952774Z"
    }
   },
   "outputs": [
    {
     "data": {
      "text/html": [
       "<div>\n",
       "<style scoped>\n",
       "    .dataframe tbody tr th:only-of-type {\n",
       "        vertical-align: middle;\n",
       "    }\n",
       "\n",
       "    .dataframe tbody tr th {\n",
       "        vertical-align: top;\n",
       "    }\n",
       "\n",
       "    .dataframe thead th {\n",
       "        text-align: right;\n",
       "    }\n",
       "</style>\n",
       "<table border=\"1\" class=\"dataframe\">\n",
       "  <thead>\n",
       "    <tr style=\"text-align: right;\">\n",
       "      <th></th>\n",
       "      <th>ride_week_day_Monday</th>\n",
       "      <th>ride_week_day_Saturday</th>\n",
       "      <th>ride_week_day_Sunday</th>\n",
       "      <th>ride_week_day_Thursday</th>\n",
       "      <th>ride_week_day_Tuesday</th>\n",
       "      <th>ride_week_day_Wednesday</th>\n",
       "    </tr>\n",
       "  </thead>\n",
       "  <tbody>\n",
       "    <tr>\n",
       "      <th>134253</th>\n",
       "      <td>0.0</td>\n",
       "      <td>0.0</td>\n",
       "      <td>0.0</td>\n",
       "      <td>0.0</td>\n",
       "      <td>0.0</td>\n",
       "      <td>1.0</td>\n",
       "    </tr>\n",
       "    <tr>\n",
       "      <th>124141</th>\n",
       "      <td>0.0</td>\n",
       "      <td>0.0</td>\n",
       "      <td>1.0</td>\n",
       "      <td>0.0</td>\n",
       "      <td>0.0</td>\n",
       "      <td>0.0</td>\n",
       "    </tr>\n",
       "    <tr>\n",
       "      <th>62810</th>\n",
       "      <td>0.0</td>\n",
       "      <td>1.0</td>\n",
       "      <td>0.0</td>\n",
       "      <td>0.0</td>\n",
       "      <td>0.0</td>\n",
       "      <td>0.0</td>\n",
       "    </tr>\n",
       "    <tr>\n",
       "      <th>65425</th>\n",
       "      <td>0.0</td>\n",
       "      <td>0.0</td>\n",
       "      <td>1.0</td>\n",
       "      <td>0.0</td>\n",
       "      <td>0.0</td>\n",
       "      <td>0.0</td>\n",
       "    </tr>\n",
       "    <tr>\n",
       "      <th>30074</th>\n",
       "      <td>1.0</td>\n",
       "      <td>0.0</td>\n",
       "      <td>0.0</td>\n",
       "      <td>0.0</td>\n",
       "      <td>0.0</td>\n",
       "      <td>0.0</td>\n",
       "    </tr>\n",
       "  </tbody>\n",
       "</table>\n",
       "</div>"
      ],
      "text/plain": [
       "        ride_week_day_Monday  ride_week_day_Saturday  ride_week_day_Sunday  \\\n",
       "134253                   0.0                     0.0                   0.0   \n",
       "124141                   0.0                     0.0                   1.0   \n",
       "62810                    0.0                     1.0                   0.0   \n",
       "65425                    0.0                     0.0                   1.0   \n",
       "30074                    1.0                     0.0                   0.0   \n",
       "\n",
       "        ride_week_day_Thursday  ride_week_day_Tuesday  ride_week_day_Wednesday  \n",
       "134253                     0.0                    0.0                      1.0  \n",
       "124141                     0.0                    0.0                      0.0  \n",
       "62810                      0.0                    0.0                      0.0  \n",
       "65425                      0.0                    0.0                      0.0  \n",
       "30074                      0.0                    0.0                      0.0  "
      ]
     },
     "execution_count": 68,
     "metadata": {},
     "output_type": "execute_result"
    }
   ],
   "source": [
    "X_test_cat_transformed.head()"
   ]
  },
  {
   "cell_type": "code",
   "execution_count": 69,
   "id": "05a58c44",
   "metadata": {
    "ExecuteTime": {
     "end_time": "2023-09-02T09:49:23.957885Z",
     "start_time": "2023-09-02T09:49:23.925753Z"
    }
   },
   "outputs": [
    {
     "data": {
      "text/html": [
       "<div>\n",
       "<style scoped>\n",
       "    .dataframe tbody tr th:only-of-type {\n",
       "        vertical-align: middle;\n",
       "    }\n",
       "\n",
       "    .dataframe tbody tr th {\n",
       "        vertical-align: top;\n",
       "    }\n",
       "\n",
       "    .dataframe thead th {\n",
       "        text-align: right;\n",
       "    }\n",
       "</style>\n",
       "<table border=\"1\" class=\"dataframe\">\n",
       "  <thead>\n",
       "    <tr style=\"text-align: right;\">\n",
       "      <th></th>\n",
       "      <th>passenger_count</th>\n",
       "      <th>haversine_distance</th>\n",
       "      <th>ride_week_day_Monday</th>\n",
       "      <th>ride_week_day_Saturday</th>\n",
       "      <th>ride_week_day_Sunday</th>\n",
       "      <th>ride_week_day_Thursday</th>\n",
       "      <th>ride_week_day_Tuesday</th>\n",
       "      <th>ride_week_day_Wednesday</th>\n",
       "    </tr>\n",
       "  </thead>\n",
       "  <tbody>\n",
       "    <tr>\n",
       "      <th>134253</th>\n",
       "      <td>-0.522662</td>\n",
       "      <td>-0.048530</td>\n",
       "      <td>0.0</td>\n",
       "      <td>0.0</td>\n",
       "      <td>0.0</td>\n",
       "      <td>0.0</td>\n",
       "      <td>0.0</td>\n",
       "      <td>1.0</td>\n",
       "    </tr>\n",
       "    <tr>\n",
       "      <th>124141</th>\n",
       "      <td>-0.522662</td>\n",
       "      <td>-0.051545</td>\n",
       "      <td>0.0</td>\n",
       "      <td>0.0</td>\n",
       "      <td>1.0</td>\n",
       "      <td>0.0</td>\n",
       "      <td>0.0</td>\n",
       "      <td>0.0</td>\n",
       "    </tr>\n",
       "    <tr>\n",
       "      <th>62810</th>\n",
       "      <td>2.545729</td>\n",
       "      <td>-0.045142</td>\n",
       "      <td>0.0</td>\n",
       "      <td>1.0</td>\n",
       "      <td>0.0</td>\n",
       "      <td>0.0</td>\n",
       "      <td>0.0</td>\n",
       "      <td>0.0</td>\n",
       "    </tr>\n",
       "    <tr>\n",
       "      <th>65425</th>\n",
       "      <td>-0.522662</td>\n",
       "      <td>-0.046893</td>\n",
       "      <td>0.0</td>\n",
       "      <td>0.0</td>\n",
       "      <td>1.0</td>\n",
       "      <td>0.0</td>\n",
       "      <td>0.0</td>\n",
       "      <td>0.0</td>\n",
       "    </tr>\n",
       "    <tr>\n",
       "      <th>30074</th>\n",
       "      <td>-0.522662</td>\n",
       "      <td>-0.052011</td>\n",
       "      <td>1.0</td>\n",
       "      <td>0.0</td>\n",
       "      <td>0.0</td>\n",
       "      <td>0.0</td>\n",
       "      <td>0.0</td>\n",
       "      <td>0.0</td>\n",
       "    </tr>\n",
       "  </tbody>\n",
       "</table>\n",
       "</div>"
      ],
      "text/plain": [
       "        passenger_count  haversine_distance  ride_week_day_Monday  \\\n",
       "134253        -0.522662           -0.048530                   0.0   \n",
       "124141        -0.522662           -0.051545                   0.0   \n",
       "62810          2.545729           -0.045142                   0.0   \n",
       "65425         -0.522662           -0.046893                   0.0   \n",
       "30074         -0.522662           -0.052011                   1.0   \n",
       "\n",
       "        ride_week_day_Saturday  ride_week_day_Sunday  ride_week_day_Thursday  \\\n",
       "134253                     0.0                   0.0                     0.0   \n",
       "124141                     0.0                   1.0                     0.0   \n",
       "62810                      1.0                   0.0                     0.0   \n",
       "65425                      0.0                   1.0                     0.0   \n",
       "30074                      0.0                   0.0                     0.0   \n",
       "\n",
       "        ride_week_day_Tuesday  ride_week_day_Wednesday  \n",
       "134253                    0.0                      1.0  \n",
       "124141                    0.0                      0.0  \n",
       "62810                     0.0                      0.0  \n",
       "65425                     0.0                      0.0  \n",
       "30074                     0.0                      0.0  "
      ]
     },
     "execution_count": 69,
     "metadata": {},
     "output_type": "execute_result"
    }
   ],
   "source": [
    "X_test_transformed = pd.concat([X_test_num_transformed, X_test_cat_transformed], axis=1)\n",
    "\n",
    "X_test_transformed.head()"
   ]
  },
  {
   "cell_type": "markdown",
   "id": "b4a8c80b",
   "metadata": {},
   "source": [
    "## *`Model Buliding and Training the model`*"
   ]
  },
  {
   "cell_type": "code",
   "execution_count": 70,
   "id": "c29f39b1",
   "metadata": {
    "ExecuteTime": {
     "end_time": "2023-09-02T09:50:44.000378Z",
     "start_time": "2023-09-02T09:50:43.978819Z"
    }
   },
   "outputs": [],
   "source": [
    "# Initialize and train the models\n",
    "linear_regression = LinearRegression()\n",
    "decision_tree = DecisionTreeRegressor()\n",
    "random_forest = RandomForestRegressor()\n",
    "knn = KNeighborsRegressor()"
   ]
  },
  {
   "cell_type": "code",
   "execution_count": 71,
   "id": "8cc0569d",
   "metadata": {
    "ExecuteTime": {
     "end_time": "2023-09-02T09:52:29.053345Z",
     "start_time": "2023-09-02T09:51:22.313925Z"
    }
   },
   "outputs": [
    {
     "data": {
      "text/html": [
       "<style>#sk-container-id-1 {color: black;background-color: white;}#sk-container-id-1 pre{padding: 0;}#sk-container-id-1 div.sk-toggleable {background-color: white;}#sk-container-id-1 label.sk-toggleable__label {cursor: pointer;display: block;width: 100%;margin-bottom: 0;padding: 0.3em;box-sizing: border-box;text-align: center;}#sk-container-id-1 label.sk-toggleable__label-arrow:before {content: \"▸\";float: left;margin-right: 0.25em;color: #696969;}#sk-container-id-1 label.sk-toggleable__label-arrow:hover:before {color: black;}#sk-container-id-1 div.sk-estimator:hover label.sk-toggleable__label-arrow:before {color: black;}#sk-container-id-1 div.sk-toggleable__content {max-height: 0;max-width: 0;overflow: hidden;text-align: left;background-color: #f0f8ff;}#sk-container-id-1 div.sk-toggleable__content pre {margin: 0.2em;color: black;border-radius: 0.25em;background-color: #f0f8ff;}#sk-container-id-1 input.sk-toggleable__control:checked~div.sk-toggleable__content {max-height: 200px;max-width: 100%;overflow: auto;}#sk-container-id-1 input.sk-toggleable__control:checked~label.sk-toggleable__label-arrow:before {content: \"▾\";}#sk-container-id-1 div.sk-estimator input.sk-toggleable__control:checked~label.sk-toggleable__label {background-color: #d4ebff;}#sk-container-id-1 div.sk-label input.sk-toggleable__control:checked~label.sk-toggleable__label {background-color: #d4ebff;}#sk-container-id-1 input.sk-hidden--visually {border: 0;clip: rect(1px 1px 1px 1px);clip: rect(1px, 1px, 1px, 1px);height: 1px;margin: -1px;overflow: hidden;padding: 0;position: absolute;width: 1px;}#sk-container-id-1 div.sk-estimator {font-family: monospace;background-color: #f0f8ff;border: 1px dotted black;border-radius: 0.25em;box-sizing: border-box;margin-bottom: 0.5em;}#sk-container-id-1 div.sk-estimator:hover {background-color: #d4ebff;}#sk-container-id-1 div.sk-parallel-item::after {content: \"\";width: 100%;border-bottom: 1px solid gray;flex-grow: 1;}#sk-container-id-1 div.sk-label:hover label.sk-toggleable__label {background-color: #d4ebff;}#sk-container-id-1 div.sk-serial::before {content: \"\";position: absolute;border-left: 1px solid gray;box-sizing: border-box;top: 0;bottom: 0;left: 50%;z-index: 0;}#sk-container-id-1 div.sk-serial {display: flex;flex-direction: column;align-items: center;background-color: white;padding-right: 0.2em;padding-left: 0.2em;position: relative;}#sk-container-id-1 div.sk-item {position: relative;z-index: 1;}#sk-container-id-1 div.sk-parallel {display: flex;align-items: stretch;justify-content: center;background-color: white;position: relative;}#sk-container-id-1 div.sk-item::before, #sk-container-id-1 div.sk-parallel-item::before {content: \"\";position: absolute;border-left: 1px solid gray;box-sizing: border-box;top: 0;bottom: 0;left: 50%;z-index: -1;}#sk-container-id-1 div.sk-parallel-item {display: flex;flex-direction: column;z-index: 1;position: relative;background-color: white;}#sk-container-id-1 div.sk-parallel-item:first-child::after {align-self: flex-end;width: 50%;}#sk-container-id-1 div.sk-parallel-item:last-child::after {align-self: flex-start;width: 50%;}#sk-container-id-1 div.sk-parallel-item:only-child::after {width: 0;}#sk-container-id-1 div.sk-dashed-wrapped {border: 1px dashed gray;margin: 0 0.4em 0.5em 0.4em;box-sizing: border-box;padding-bottom: 0.4em;background-color: white;}#sk-container-id-1 div.sk-label label {font-family: monospace;font-weight: bold;display: inline-block;line-height: 1.2em;}#sk-container-id-1 div.sk-label-container {text-align: center;}#sk-container-id-1 div.sk-container {/* jupyter's `normalize.less` sets `[hidden] { display: none; }` but bootstrap.min.css set `[hidden] { display: none !important; }` so we also need the `!important` here to be able to override the default hidden behavior on the sphinx rendered scikit-learn.org. See: https://github.com/scikit-learn/scikit-learn/issues/21755 */display: inline-block !important;position: relative;}#sk-container-id-1 div.sk-text-repr-fallback {display: none;}</style><div id=\"sk-container-id-1\" class=\"sk-top-container\"><div class=\"sk-text-repr-fallback\"><pre>LinearRegression()</pre><b>In a Jupyter environment, please rerun this cell to show the HTML representation or trust the notebook. <br />On GitHub, the HTML representation is unable to render, please try loading this page with nbviewer.org.</b></div><div class=\"sk-container\" hidden><div class=\"sk-item\"><div class=\"sk-estimator sk-toggleable\"><input class=\"sk-toggleable__control sk-hidden--visually\" id=\"sk-estimator-id-1\" type=\"checkbox\" checked><label for=\"sk-estimator-id-1\" class=\"sk-toggleable__label sk-toggleable__label-arrow\">LinearRegression</label><div class=\"sk-toggleable__content\"><pre>LinearRegression()</pre></div></div></div></div></div>"
      ],
      "text/plain": [
       "LinearRegression()"
      ]
     },
     "execution_count": 71,
     "metadata": {},
     "output_type": "execute_result"
    },
    {
     "data": {
      "text/html": [
       "<style>#sk-container-id-2 {color: black;background-color: white;}#sk-container-id-2 pre{padding: 0;}#sk-container-id-2 div.sk-toggleable {background-color: white;}#sk-container-id-2 label.sk-toggleable__label {cursor: pointer;display: block;width: 100%;margin-bottom: 0;padding: 0.3em;box-sizing: border-box;text-align: center;}#sk-container-id-2 label.sk-toggleable__label-arrow:before {content: \"▸\";float: left;margin-right: 0.25em;color: #696969;}#sk-container-id-2 label.sk-toggleable__label-arrow:hover:before {color: black;}#sk-container-id-2 div.sk-estimator:hover label.sk-toggleable__label-arrow:before {color: black;}#sk-container-id-2 div.sk-toggleable__content {max-height: 0;max-width: 0;overflow: hidden;text-align: left;background-color: #f0f8ff;}#sk-container-id-2 div.sk-toggleable__content pre {margin: 0.2em;color: black;border-radius: 0.25em;background-color: #f0f8ff;}#sk-container-id-2 input.sk-toggleable__control:checked~div.sk-toggleable__content {max-height: 200px;max-width: 100%;overflow: auto;}#sk-container-id-2 input.sk-toggleable__control:checked~label.sk-toggleable__label-arrow:before {content: \"▾\";}#sk-container-id-2 div.sk-estimator input.sk-toggleable__control:checked~label.sk-toggleable__label {background-color: #d4ebff;}#sk-container-id-2 div.sk-label input.sk-toggleable__control:checked~label.sk-toggleable__label {background-color: #d4ebff;}#sk-container-id-2 input.sk-hidden--visually {border: 0;clip: rect(1px 1px 1px 1px);clip: rect(1px, 1px, 1px, 1px);height: 1px;margin: -1px;overflow: hidden;padding: 0;position: absolute;width: 1px;}#sk-container-id-2 div.sk-estimator {font-family: monospace;background-color: #f0f8ff;border: 1px dotted black;border-radius: 0.25em;box-sizing: border-box;margin-bottom: 0.5em;}#sk-container-id-2 div.sk-estimator:hover {background-color: #d4ebff;}#sk-container-id-2 div.sk-parallel-item::after {content: \"\";width: 100%;border-bottom: 1px solid gray;flex-grow: 1;}#sk-container-id-2 div.sk-label:hover label.sk-toggleable__label {background-color: #d4ebff;}#sk-container-id-2 div.sk-serial::before {content: \"\";position: absolute;border-left: 1px solid gray;box-sizing: border-box;top: 0;bottom: 0;left: 50%;z-index: 0;}#sk-container-id-2 div.sk-serial {display: flex;flex-direction: column;align-items: center;background-color: white;padding-right: 0.2em;padding-left: 0.2em;position: relative;}#sk-container-id-2 div.sk-item {position: relative;z-index: 1;}#sk-container-id-2 div.sk-parallel {display: flex;align-items: stretch;justify-content: center;background-color: white;position: relative;}#sk-container-id-2 div.sk-item::before, #sk-container-id-2 div.sk-parallel-item::before {content: \"\";position: absolute;border-left: 1px solid gray;box-sizing: border-box;top: 0;bottom: 0;left: 50%;z-index: -1;}#sk-container-id-2 div.sk-parallel-item {display: flex;flex-direction: column;z-index: 1;position: relative;background-color: white;}#sk-container-id-2 div.sk-parallel-item:first-child::after {align-self: flex-end;width: 50%;}#sk-container-id-2 div.sk-parallel-item:last-child::after {align-self: flex-start;width: 50%;}#sk-container-id-2 div.sk-parallel-item:only-child::after {width: 0;}#sk-container-id-2 div.sk-dashed-wrapped {border: 1px dashed gray;margin: 0 0.4em 0.5em 0.4em;box-sizing: border-box;padding-bottom: 0.4em;background-color: white;}#sk-container-id-2 div.sk-label label {font-family: monospace;font-weight: bold;display: inline-block;line-height: 1.2em;}#sk-container-id-2 div.sk-label-container {text-align: center;}#sk-container-id-2 div.sk-container {/* jupyter's `normalize.less` sets `[hidden] { display: none; }` but bootstrap.min.css set `[hidden] { display: none !important; }` so we also need the `!important` here to be able to override the default hidden behavior on the sphinx rendered scikit-learn.org. See: https://github.com/scikit-learn/scikit-learn/issues/21755 */display: inline-block !important;position: relative;}#sk-container-id-2 div.sk-text-repr-fallback {display: none;}</style><div id=\"sk-container-id-2\" class=\"sk-top-container\"><div class=\"sk-text-repr-fallback\"><pre>DecisionTreeRegressor()</pre><b>In a Jupyter environment, please rerun this cell to show the HTML representation or trust the notebook. <br />On GitHub, the HTML representation is unable to render, please try loading this page with nbviewer.org.</b></div><div class=\"sk-container\" hidden><div class=\"sk-item\"><div class=\"sk-estimator sk-toggleable\"><input class=\"sk-toggleable__control sk-hidden--visually\" id=\"sk-estimator-id-2\" type=\"checkbox\" checked><label for=\"sk-estimator-id-2\" class=\"sk-toggleable__label sk-toggleable__label-arrow\">DecisionTreeRegressor</label><div class=\"sk-toggleable__content\"><pre>DecisionTreeRegressor()</pre></div></div></div></div></div>"
      ],
      "text/plain": [
       "DecisionTreeRegressor()"
      ]
     },
     "execution_count": 71,
     "metadata": {},
     "output_type": "execute_result"
    },
    {
     "data": {
      "text/html": [
       "<style>#sk-container-id-3 {color: black;background-color: white;}#sk-container-id-3 pre{padding: 0;}#sk-container-id-3 div.sk-toggleable {background-color: white;}#sk-container-id-3 label.sk-toggleable__label {cursor: pointer;display: block;width: 100%;margin-bottom: 0;padding: 0.3em;box-sizing: border-box;text-align: center;}#sk-container-id-3 label.sk-toggleable__label-arrow:before {content: \"▸\";float: left;margin-right: 0.25em;color: #696969;}#sk-container-id-3 label.sk-toggleable__label-arrow:hover:before {color: black;}#sk-container-id-3 div.sk-estimator:hover label.sk-toggleable__label-arrow:before {color: black;}#sk-container-id-3 div.sk-toggleable__content {max-height: 0;max-width: 0;overflow: hidden;text-align: left;background-color: #f0f8ff;}#sk-container-id-3 div.sk-toggleable__content pre {margin: 0.2em;color: black;border-radius: 0.25em;background-color: #f0f8ff;}#sk-container-id-3 input.sk-toggleable__control:checked~div.sk-toggleable__content {max-height: 200px;max-width: 100%;overflow: auto;}#sk-container-id-3 input.sk-toggleable__control:checked~label.sk-toggleable__label-arrow:before {content: \"▾\";}#sk-container-id-3 div.sk-estimator input.sk-toggleable__control:checked~label.sk-toggleable__label {background-color: #d4ebff;}#sk-container-id-3 div.sk-label input.sk-toggleable__control:checked~label.sk-toggleable__label {background-color: #d4ebff;}#sk-container-id-3 input.sk-hidden--visually {border: 0;clip: rect(1px 1px 1px 1px);clip: rect(1px, 1px, 1px, 1px);height: 1px;margin: -1px;overflow: hidden;padding: 0;position: absolute;width: 1px;}#sk-container-id-3 div.sk-estimator {font-family: monospace;background-color: #f0f8ff;border: 1px dotted black;border-radius: 0.25em;box-sizing: border-box;margin-bottom: 0.5em;}#sk-container-id-3 div.sk-estimator:hover {background-color: #d4ebff;}#sk-container-id-3 div.sk-parallel-item::after {content: \"\";width: 100%;border-bottom: 1px solid gray;flex-grow: 1;}#sk-container-id-3 div.sk-label:hover label.sk-toggleable__label {background-color: #d4ebff;}#sk-container-id-3 div.sk-serial::before {content: \"\";position: absolute;border-left: 1px solid gray;box-sizing: border-box;top: 0;bottom: 0;left: 50%;z-index: 0;}#sk-container-id-3 div.sk-serial {display: flex;flex-direction: column;align-items: center;background-color: white;padding-right: 0.2em;padding-left: 0.2em;position: relative;}#sk-container-id-3 div.sk-item {position: relative;z-index: 1;}#sk-container-id-3 div.sk-parallel {display: flex;align-items: stretch;justify-content: center;background-color: white;position: relative;}#sk-container-id-3 div.sk-item::before, #sk-container-id-3 div.sk-parallel-item::before {content: \"\";position: absolute;border-left: 1px solid gray;box-sizing: border-box;top: 0;bottom: 0;left: 50%;z-index: -1;}#sk-container-id-3 div.sk-parallel-item {display: flex;flex-direction: column;z-index: 1;position: relative;background-color: white;}#sk-container-id-3 div.sk-parallel-item:first-child::after {align-self: flex-end;width: 50%;}#sk-container-id-3 div.sk-parallel-item:last-child::after {align-self: flex-start;width: 50%;}#sk-container-id-3 div.sk-parallel-item:only-child::after {width: 0;}#sk-container-id-3 div.sk-dashed-wrapped {border: 1px dashed gray;margin: 0 0.4em 0.5em 0.4em;box-sizing: border-box;padding-bottom: 0.4em;background-color: white;}#sk-container-id-3 div.sk-label label {font-family: monospace;font-weight: bold;display: inline-block;line-height: 1.2em;}#sk-container-id-3 div.sk-label-container {text-align: center;}#sk-container-id-3 div.sk-container {/* jupyter's `normalize.less` sets `[hidden] { display: none; }` but bootstrap.min.css set `[hidden] { display: none !important; }` so we also need the `!important` here to be able to override the default hidden behavior on the sphinx rendered scikit-learn.org. See: https://github.com/scikit-learn/scikit-learn/issues/21755 */display: inline-block !important;position: relative;}#sk-container-id-3 div.sk-text-repr-fallback {display: none;}</style><div id=\"sk-container-id-3\" class=\"sk-top-container\"><div class=\"sk-text-repr-fallback\"><pre>RandomForestRegressor()</pre><b>In a Jupyter environment, please rerun this cell to show the HTML representation or trust the notebook. <br />On GitHub, the HTML representation is unable to render, please try loading this page with nbviewer.org.</b></div><div class=\"sk-container\" hidden><div class=\"sk-item\"><div class=\"sk-estimator sk-toggleable\"><input class=\"sk-toggleable__control sk-hidden--visually\" id=\"sk-estimator-id-3\" type=\"checkbox\" checked><label for=\"sk-estimator-id-3\" class=\"sk-toggleable__label sk-toggleable__label-arrow\">RandomForestRegressor</label><div class=\"sk-toggleable__content\"><pre>RandomForestRegressor()</pre></div></div></div></div></div>"
      ],
      "text/plain": [
       "RandomForestRegressor()"
      ]
     },
     "execution_count": 71,
     "metadata": {},
     "output_type": "execute_result"
    },
    {
     "data": {
      "text/html": [
       "<style>#sk-container-id-4 {color: black;background-color: white;}#sk-container-id-4 pre{padding: 0;}#sk-container-id-4 div.sk-toggleable {background-color: white;}#sk-container-id-4 label.sk-toggleable__label {cursor: pointer;display: block;width: 100%;margin-bottom: 0;padding: 0.3em;box-sizing: border-box;text-align: center;}#sk-container-id-4 label.sk-toggleable__label-arrow:before {content: \"▸\";float: left;margin-right: 0.25em;color: #696969;}#sk-container-id-4 label.sk-toggleable__label-arrow:hover:before {color: black;}#sk-container-id-4 div.sk-estimator:hover label.sk-toggleable__label-arrow:before {color: black;}#sk-container-id-4 div.sk-toggleable__content {max-height: 0;max-width: 0;overflow: hidden;text-align: left;background-color: #f0f8ff;}#sk-container-id-4 div.sk-toggleable__content pre {margin: 0.2em;color: black;border-radius: 0.25em;background-color: #f0f8ff;}#sk-container-id-4 input.sk-toggleable__control:checked~div.sk-toggleable__content {max-height: 200px;max-width: 100%;overflow: auto;}#sk-container-id-4 input.sk-toggleable__control:checked~label.sk-toggleable__label-arrow:before {content: \"▾\";}#sk-container-id-4 div.sk-estimator input.sk-toggleable__control:checked~label.sk-toggleable__label {background-color: #d4ebff;}#sk-container-id-4 div.sk-label input.sk-toggleable__control:checked~label.sk-toggleable__label {background-color: #d4ebff;}#sk-container-id-4 input.sk-hidden--visually {border: 0;clip: rect(1px 1px 1px 1px);clip: rect(1px, 1px, 1px, 1px);height: 1px;margin: -1px;overflow: hidden;padding: 0;position: absolute;width: 1px;}#sk-container-id-4 div.sk-estimator {font-family: monospace;background-color: #f0f8ff;border: 1px dotted black;border-radius: 0.25em;box-sizing: border-box;margin-bottom: 0.5em;}#sk-container-id-4 div.sk-estimator:hover {background-color: #d4ebff;}#sk-container-id-4 div.sk-parallel-item::after {content: \"\";width: 100%;border-bottom: 1px solid gray;flex-grow: 1;}#sk-container-id-4 div.sk-label:hover label.sk-toggleable__label {background-color: #d4ebff;}#sk-container-id-4 div.sk-serial::before {content: \"\";position: absolute;border-left: 1px solid gray;box-sizing: border-box;top: 0;bottom: 0;left: 50%;z-index: 0;}#sk-container-id-4 div.sk-serial {display: flex;flex-direction: column;align-items: center;background-color: white;padding-right: 0.2em;padding-left: 0.2em;position: relative;}#sk-container-id-4 div.sk-item {position: relative;z-index: 1;}#sk-container-id-4 div.sk-parallel {display: flex;align-items: stretch;justify-content: center;background-color: white;position: relative;}#sk-container-id-4 div.sk-item::before, #sk-container-id-4 div.sk-parallel-item::before {content: \"\";position: absolute;border-left: 1px solid gray;box-sizing: border-box;top: 0;bottom: 0;left: 50%;z-index: -1;}#sk-container-id-4 div.sk-parallel-item {display: flex;flex-direction: column;z-index: 1;position: relative;background-color: white;}#sk-container-id-4 div.sk-parallel-item:first-child::after {align-self: flex-end;width: 50%;}#sk-container-id-4 div.sk-parallel-item:last-child::after {align-self: flex-start;width: 50%;}#sk-container-id-4 div.sk-parallel-item:only-child::after {width: 0;}#sk-container-id-4 div.sk-dashed-wrapped {border: 1px dashed gray;margin: 0 0.4em 0.5em 0.4em;box-sizing: border-box;padding-bottom: 0.4em;background-color: white;}#sk-container-id-4 div.sk-label label {font-family: monospace;font-weight: bold;display: inline-block;line-height: 1.2em;}#sk-container-id-4 div.sk-label-container {text-align: center;}#sk-container-id-4 div.sk-container {/* jupyter's `normalize.less` sets `[hidden] { display: none; }` but bootstrap.min.css set `[hidden] { display: none !important; }` so we also need the `!important` here to be able to override the default hidden behavior on the sphinx rendered scikit-learn.org. See: https://github.com/scikit-learn/scikit-learn/issues/21755 */display: inline-block !important;position: relative;}#sk-container-id-4 div.sk-text-repr-fallback {display: none;}</style><div id=\"sk-container-id-4\" class=\"sk-top-container\"><div class=\"sk-text-repr-fallback\"><pre>KNeighborsRegressor()</pre><b>In a Jupyter environment, please rerun this cell to show the HTML representation or trust the notebook. <br />On GitHub, the HTML representation is unable to render, please try loading this page with nbviewer.org.</b></div><div class=\"sk-container\" hidden><div class=\"sk-item\"><div class=\"sk-estimator sk-toggleable\"><input class=\"sk-toggleable__control sk-hidden--visually\" id=\"sk-estimator-id-4\" type=\"checkbox\" checked><label for=\"sk-estimator-id-4\" class=\"sk-toggleable__label sk-toggleable__label-arrow\">KNeighborsRegressor</label><div class=\"sk-toggleable__content\"><pre>KNeighborsRegressor()</pre></div></div></div></div></div>"
      ],
      "text/plain": [
       "KNeighborsRegressor()"
      ]
     },
     "execution_count": 71,
     "metadata": {},
     "output_type": "execute_result"
    }
   ],
   "source": [
    "linear_regression.fit(X_train_transformed, y_train)\n",
    "decision_tree.fit(X_train_transformed, y_train)\n",
    "random_forest.fit(X_train_transformed, y_train)\n",
    "knn.fit(X_train_transformed, y_train)"
   ]
  },
  {
   "cell_type": "code",
   "execution_count": 72,
   "id": "575b2b31",
   "metadata": {
    "ExecuteTime": {
     "end_time": "2023-09-02T09:53:03.075499Z",
     "start_time": "2023-09-02T09:52:38.405115Z"
    }
   },
   "outputs": [],
   "source": [
    "# Make predictions on the test set\n",
    "linear_regression_preds = linear_regression.predict(X_test_transformed)\n",
    "decision_tree_preds = decision_tree.predict(X_test_transformed)\n",
    "random_forest_preds = random_forest.predict(X_test_transformed)\n",
    "knn_preds = knn.predict(X_test_transformed)"
   ]
  },
  {
   "cell_type": "code",
   "execution_count": 73,
   "id": "587adf3b",
   "metadata": {
    "ExecuteTime": {
     "end_time": "2023-09-02T09:53:11.286276Z",
     "start_time": "2023-09-02T09:53:11.262233Z"
    }
   },
   "outputs": [],
   "source": [
    "# Calculate the R-squared values\n",
    "linear_regression_r2 = r2_score(y_test, linear_regression_preds)\n",
    "decision_tree_r2 = r2_score(y_test, decision_tree_preds)\n",
    "random_forest_r2 = r2_score(y_test, random_forest_preds)\n",
    "knn_r2 = r2_score(y_test, knn_preds)"
   ]
  },
  {
   "cell_type": "code",
   "execution_count": 74,
   "id": "87e0fb70",
   "metadata": {
    "ExecuteTime": {
     "end_time": "2023-09-02T09:53:11.875470Z",
     "start_time": "2023-09-02T09:53:11.859413Z"
    }
   },
   "outputs": [],
   "source": [
    "# Calculate the adjusted R-squared values\n",
    "n = len(y_test)\n",
    "p = X_test.shape[1]\n",
    "\n",
    "adjusted_r2_linear = 1 - (1 - linear_regression_r2) * (n - 1) / (n - p - 1)\n",
    "adjusted_r2_tree = 1 - (1 - decision_tree_r2) * (n - 1) / (n - p - 1)\n",
    "adjusted_r2_forest = 1 - (1 - random_forest_r2) * (n - 1) / (n - p - 1)\n",
    "adjusted_r2_knn = 1 - (1 - knn_r2) * (n - 1) / (n - p - 1)"
   ]
  },
  {
   "cell_type": "code",
   "execution_count": 75,
   "id": "6659df24",
   "metadata": {
    "ExecuteTime": {
     "end_time": "2023-09-02T09:53:12.569685Z",
     "start_time": "2023-09-02T09:53:12.552686Z"
    }
   },
   "outputs": [
    {
     "name": "stdout",
     "output_type": "stream",
     "text": [
      "Adjusted R-squared values:\n",
      "Linear Regression: 0.0006844815139146476\n",
      "Decision Tree: 0.45988882217453975\n",
      "Random Forest: 0.5996811425409279\n",
      "KNN: 0.6081222383282444\n"
     ]
    }
   ],
   "source": [
    "# Print the adjusted R-squared values\n",
    "print(\"Adjusted R-squared values:\")\n",
    "print(\"Linear Regression:\", adjusted_r2_linear)\n",
    "print(\"Decision Tree:\", adjusted_r2_tree)\n",
    "print(\"Random Forest:\", adjusted_r2_forest)\n",
    "print(\"KNN:\", adjusted_r2_knn)"
   ]
  },
  {
   "cell_type": "markdown",
   "id": "69dc99d5",
   "metadata": {},
   "source": [
    "_____"
   ]
  },
  {
   "cell_type": "code",
   "execution_count": null,
   "id": "b7fd8420",
   "metadata": {},
   "outputs": [],
   "source": []
  }
 ],
 "metadata": {
  "kernelspec": {
   "display_name": "Python 3 (ipykernel)",
   "language": "python",
   "name": "python3"
  },
  "language_info": {
   "codemirror_mode": {
    "name": "ipython",
    "version": 3
   },
   "file_extension": ".py",
   "mimetype": "text/x-python",
   "name": "python",
   "nbconvert_exporter": "python",
   "pygments_lexer": "ipython3",
   "version": "3.9.16"
  }
 },
 "nbformat": 4,
 "nbformat_minor": 5
}
