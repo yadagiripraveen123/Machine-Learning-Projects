{
 "cells": [
  {
   "cell_type": "markdown",
   "id": "JYogb7kV0Lh2",
   "metadata": {
    "id": "JYogb7kV0Lh2"
   },
   "source": [
    "\n",
    "# **Predicting Similar Questions**"
   ]
  },
  {
   "cell_type": "markdown",
   "id": "i0OAWB9J5ub-",
   "metadata": {
    "id": "i0OAWB9J5ub-"
   },
   "source": [
    "\n",
    "\n",
    "* For a given data we have to predict which of the provided pairs of questions contain two questions with the same meaning. \n",
    "* Suppose you ask a question on Quora, and get some suggested answers.These answers corrosponds to questions which are     similar to the one you have asked.\n",
    "\n"
   ]
  },
  {
   "cell_type": "markdown",
   "id": "13e5ccc5",
   "metadata": {},
   "source": [
    "### Data-Set Desctiption\n",
    "\n",
    "* id - the id of a training set question pair\n",
    "* qid1, qid2 - unique ids of each question (only available in train.csv)\n",
    "* question1, question2 - the full text of each question\n",
    "* is_duplicate - the target variable, set to 1 if question1 and question2 have essentially the same meaning, and 0 otherwise\n"
   ]
  },
  {
   "cell_type": "markdown",
   "id": "5cb1b185",
   "metadata": {},
   "source": [
    "### Importing Required Libraries"
   ]
  },
  {
   "cell_type": "code",
   "execution_count": 4,
   "id": "3e9d3bc2",
   "metadata": {
    "id": "3e9d3bc2"
   },
   "outputs": [],
   "source": [
    "import pandas as pd\n",
    "import numpy as np\n",
    "\n",
    "import re\n",
    "from bs4 import BeautifulSoup\n",
    "\n",
    "import seaborn as sns\n",
    "import matplotlib.pyplot as plt\n",
    "\n",
    "import warnings\n",
    "warnings.filterwarnings('ignore')\n",
    "\n",
    "from IPython.core.interactiveshell import InteractiveShell\n",
    "InteractiveShell.ast_node_interactivity = 'all'"
   ]
  },
  {
   "cell_type": "code",
   "execution_count": null,
   "id": "LMCk38APQm8g",
   "metadata": {
    "colab": {
     "base_uri": "https://localhost:8080/"
    },
    "id": "LMCk38APQm8g",
    "outputId": "38d5c3c9-4c3f-4886-aec4-a63759a1a9d4"
   },
   "outputs": [
    {
     "name": "stdout",
     "output_type": "stream",
     "text": [
      "Drive already mounted at /content/drive; to attempt to forcibly remount, call drive.mount(\"/content/drive\", force_remount=True).\n"
     ]
    }
   ],
   "source": []
  },
  {
   "cell_type": "markdown",
   "id": "c368f44a",
   "metadata": {},
   "source": [
    "### Loading Data Set"
   ]
  },
  {
   "cell_type": "code",
   "execution_count": 5,
   "id": "bdbb294d",
   "metadata": {
    "id": "bdbb294d"
   },
   "outputs": [],
   "source": [
    "quora_df = pd.read_csv(r\"C:\\Data\\train.csv\")"
   ]
  },
  {
   "cell_type": "code",
   "execution_count": 6,
   "id": "f440b931",
   "metadata": {
    "colab": {
     "base_uri": "https://localhost:8080/",
     "height": 112
    },
    "id": "f440b931",
    "outputId": "177b8159-af60-4caa-ba0f-b78cab79f0f9"
   },
   "outputs": [
    {
     "data": {
      "text/html": [
       "<div>\n",
       "<style scoped>\n",
       "    .dataframe tbody tr th:only-of-type {\n",
       "        vertical-align: middle;\n",
       "    }\n",
       "\n",
       "    .dataframe tbody tr th {\n",
       "        vertical-align: top;\n",
       "    }\n",
       "\n",
       "    .dataframe thead th {\n",
       "        text-align: right;\n",
       "    }\n",
       "</style>\n",
       "<table border=\"1\" class=\"dataframe\">\n",
       "  <thead>\n",
       "    <tr style=\"text-align: right;\">\n",
       "      <th></th>\n",
       "      <th>id</th>\n",
       "      <th>qid1</th>\n",
       "      <th>qid2</th>\n",
       "      <th>question1</th>\n",
       "      <th>question2</th>\n",
       "      <th>is_duplicate</th>\n",
       "    </tr>\n",
       "  </thead>\n",
       "  <tbody>\n",
       "    <tr>\n",
       "      <th>0</th>\n",
       "      <td>0</td>\n",
       "      <td>1</td>\n",
       "      <td>2</td>\n",
       "      <td>What is the step by step guide to invest in sh...</td>\n",
       "      <td>What is the step by step guide to invest in sh...</td>\n",
       "      <td>0</td>\n",
       "    </tr>\n",
       "    <tr>\n",
       "      <th>1</th>\n",
       "      <td>1</td>\n",
       "      <td>3</td>\n",
       "      <td>4</td>\n",
       "      <td>What is the story of Kohinoor (Koh-i-Noor) Dia...</td>\n",
       "      <td>What would happen if the Indian government sto...</td>\n",
       "      <td>0</td>\n",
       "    </tr>\n",
       "  </tbody>\n",
       "</table>\n",
       "</div>"
      ],
      "text/plain": [
       "   id  qid1  qid2                                          question1  \\\n",
       "0   0     1     2  What is the step by step guide to invest in sh...   \n",
       "1   1     3     4  What is the story of Kohinoor (Koh-i-Noor) Dia...   \n",
       "\n",
       "                                           question2  is_duplicate  \n",
       "0  What is the step by step guide to invest in sh...             0  \n",
       "1  What would happen if the Indian government sto...             0  "
      ]
     },
     "execution_count": 6,
     "metadata": {},
     "output_type": "execute_result"
    }
   ],
   "source": [
    "quora_df.head(2)"
   ]
  },
  {
   "cell_type": "code",
   "execution_count": 7,
   "id": "3f7a831d",
   "metadata": {
    "colab": {
     "base_uri": "https://localhost:8080/",
     "height": 112
    },
    "id": "3f7a831d",
    "outputId": "5cf53cbc-9ad4-4035-99ba-65273d42229e"
   },
   "outputs": [
    {
     "data": {
      "text/html": [
       "<div>\n",
       "<style scoped>\n",
       "    .dataframe tbody tr th:only-of-type {\n",
       "        vertical-align: middle;\n",
       "    }\n",
       "\n",
       "    .dataframe tbody tr th {\n",
       "        vertical-align: top;\n",
       "    }\n",
       "\n",
       "    .dataframe thead th {\n",
       "        text-align: right;\n",
       "    }\n",
       "</style>\n",
       "<table border=\"1\" class=\"dataframe\">\n",
       "  <thead>\n",
       "    <tr style=\"text-align: right;\">\n",
       "      <th></th>\n",
       "      <th>id</th>\n",
       "      <th>qid1</th>\n",
       "      <th>qid2</th>\n",
       "      <th>question1</th>\n",
       "      <th>question2</th>\n",
       "      <th>is_duplicate</th>\n",
       "    </tr>\n",
       "  </thead>\n",
       "  <tbody>\n",
       "    <tr>\n",
       "      <th>404288</th>\n",
       "      <td>404288</td>\n",
       "      <td>537930</td>\n",
       "      <td>537931</td>\n",
       "      <td>What is the approx annual cost of living while...</td>\n",
       "      <td>I am having little hairfall problem but I want...</td>\n",
       "      <td>0</td>\n",
       "    </tr>\n",
       "    <tr>\n",
       "      <th>404289</th>\n",
       "      <td>404289</td>\n",
       "      <td>537932</td>\n",
       "      <td>537933</td>\n",
       "      <td>What is like to have sex with cousin?</td>\n",
       "      <td>What is it like to have sex with your cousin?</td>\n",
       "      <td>0</td>\n",
       "    </tr>\n",
       "  </tbody>\n",
       "</table>\n",
       "</div>"
      ],
      "text/plain": [
       "            id    qid1    qid2  \\\n",
       "404288  404288  537930  537931   \n",
       "404289  404289  537932  537933   \n",
       "\n",
       "                                                question1  \\\n",
       "404288  What is the approx annual cost of living while...   \n",
       "404289              What is like to have sex with cousin?   \n",
       "\n",
       "                                                question2  is_duplicate  \n",
       "404288  I am having little hairfall problem but I want...             0  \n",
       "404289      What is it like to have sex with your cousin?             0  "
      ]
     },
     "execution_count": 7,
     "metadata": {},
     "output_type": "execute_result"
    }
   ],
   "source": [
    "quora_df.tail(2)"
   ]
  },
  {
   "cell_type": "code",
   "execution_count": 8,
   "id": "ICfHHk90kYIF",
   "metadata": {
    "colab": {
     "base_uri": "https://localhost:8080/"
    },
    "id": "ICfHHk90kYIF",
    "outputId": "b858e0bb-9ee2-409b-a7b8-39798ac9b512"
   },
   "outputs": [
    {
     "data": {
      "text/plain": [
       "(404290, 6)"
      ]
     },
     "execution_count": 8,
     "metadata": {},
     "output_type": "execute_result"
    },
    {
     "name": "stdout",
     "output_type": "stream",
     "text": [
      "<class 'pandas.core.frame.DataFrame'>\n",
      "RangeIndex: 404290 entries, 0 to 404289\n",
      "Data columns (total 6 columns):\n",
      " #   Column        Non-Null Count   Dtype \n",
      "---  ------        --------------   ----- \n",
      " 0   id            404290 non-null  int64 \n",
      " 1   qid1          404290 non-null  int64 \n",
      " 2   qid2          404290 non-null  int64 \n",
      " 3   question1     404289 non-null  object\n",
      " 4   question2     404288 non-null  object\n",
      " 5   is_duplicate  404290 non-null  int64 \n",
      "dtypes: int64(4), object(2)\n",
      "memory usage: 18.5+ MB\n"
     ]
    }
   ],
   "source": [
    "quora_df.shape\n",
    "quora_df.info()"
   ]
  },
  {
   "cell_type": "markdown",
   "id": "0zGOGkHVjX24",
   "metadata": {
    "id": "0zGOGkHVjX24"
   },
   "source": [
    "###  **Removing Unnecessary Columns**"
   ]
  },
  {
   "cell_type": "code",
   "execution_count": 9,
   "id": "7f3e4015",
   "metadata": {
    "id": "7f3e4015"
   },
   "outputs": [],
   "source": [
    "quora_df.drop('qid1',axis = 1,inplace=True)"
   ]
  },
  {
   "cell_type": "code",
   "execution_count": 10,
   "id": "af0ee4b2",
   "metadata": {
    "id": "af0ee4b2"
   },
   "outputs": [],
   "source": [
    "quora_df.drop('qid2',axis=1,inplace=True)"
   ]
  },
  {
   "cell_type": "code",
   "execution_count": 11,
   "id": "c5a28573",
   "metadata": {
    "id": "c5a28573"
   },
   "outputs": [],
   "source": [
    "quora_df.drop('id',axis=1,inplace=True)"
   ]
  },
  {
   "cell_type": "markdown",
   "id": "da670ba5",
   "metadata": {},
   "source": [
    "### Printing few question pairs in the datset"
   ]
  },
  {
   "cell_type": "code",
   "execution_count": 12,
   "id": "95a63a9a",
   "metadata": {
    "colab": {
     "base_uri": "https://localhost:8080/"
    },
    "id": "95a63a9a",
    "outputId": "6681e630-adfa-4ce4-be0a-4bb32ecdc309"
   },
   "outputs": [
    {
     "name": "stdout",
     "output_type": "stream",
     "text": [
      "What is the step by step guide to invest in share market in india?\n",
      "What is the step by step guide to invest in share market?\n",
      "\n",
      "What is the story of Kohinoor (Koh-i-Noor) Diamond?\n",
      "What would happen if the Indian government stole the Kohinoor (Koh-i-Noor) diamond back?\n",
      "\n",
      "How can I increase the speed of my internet connection while using a VPN?\n",
      "How can Internet speed be increased by hacking through DNS?\n",
      "\n",
      "Why am I mentally very lonely? How can I solve it?\n",
      "Find the remainder when [math]23^{24}[/math] is divided by 24,23?\n",
      "\n",
      "Which one dissolve in water quikly sugar, salt, methane and carbon di oxide?\n",
      "Which fish would survive in salt water?\n",
      "\n"
     ]
    }
   ],
   "source": [
    "for i in range(0,5):\n",
    "    print(quora_df.question1[i])\n",
    "    print(quora_df.question2[i])\n",
    "    print()"
   ]
  },
  {
   "cell_type": "markdown",
   "id": "ea9d6b5c",
   "metadata": {
    "id": "ea9d6b5c"
   },
   "source": [
    "# Exploratory Data Analysis"
   ]
  },
  {
   "cell_type": "markdown",
   "id": "v5RegXYN1xQA",
   "metadata": {
    "id": "v5RegXYN1xQA"
   },
   "source": [
    "\n",
    "\n",
    "> **Check number of unique questions and duplicates in whole corpus**\n",
    "\n"
   ]
  },
  {
   "cell_type": "code",
   "execution_count": 13,
   "id": "9OUc_iIS1fzm",
   "metadata": {
    "colab": {
     "base_uri": "https://localhost:8080/"
    },
    "id": "9OUc_iIS1fzm",
    "outputId": "168bcc99-f6b7-4a50-8d14-f2457f84e40f"
   },
   "outputs": [
    {
     "name": "stdout",
     "output_type": "stream",
     "text": [
      "Number of Questions which are unique:  425488\n",
      "Number of Questions which are repeated:  111872\n",
      "Total number of unique questions in dataset:  537360\n"
     ]
    }
   ],
   "source": [
    "questions_list = pd.concat([quora_df['question1'] , quora_df['question2']] )\n",
    "\n",
    "unique_quesList = questions_list.value_counts()[questions_list.value_counts()==1].index\n",
    "\n",
    "duplicate_quesList = questions_list.value_counts()[questions_list.value_counts()>1].index\n",
    "\n",
    "print(\"Number of Questions which are unique: \",len(unique_quesList))\n",
    "print(\"Number of Questions which are repeated: \",len(duplicate_quesList))\n",
    "print(\"Total number of unique questions in dataset: \",len(questions_list.value_counts()))"
   ]
  },
  {
   "cell_type": "markdown",
   "id": "_tF9s86w41vF",
   "metadata": {
    "id": "_tF9s86w41vF"
   },
   "source": [
    "\n",
    "\n",
    "> **Repeated Questions**\n",
    "\n"
   ]
  },
  {
   "cell_type": "code",
   "execution_count": 16,
   "id": "pJ3k2oB71fwl",
   "metadata": {
    "colab": {
     "base_uri": "https://localhost:8080/"
    },
    "id": "pJ3k2oB71fwl",
    "outputId": "808e9a34-b351-4e15-962c-e67fbef3c5c7"
   },
   "outputs": [
    {
     "data": {
      "text/plain": [
       "What are the best ways to lose weight?                                                                161\n",
       "How can you look at someone's private Instagram account without following them?                       120\n",
       "How can I lose weight quickly?                                                                        111\n",
       "What's the easiest way to make money online?                                                           88\n",
       "Can you see who views your Instagram?                                                                  79\n",
       "What are some things new employees should know going into their first day at AT&T?                     77\n",
       "What do you think of the decision by the Indian Government to demonetize 500 and 1000 rupee notes?     68\n",
       "Which is the best digital marketing course?                                                            66\n",
       "dtype: int64"
      ]
     },
     "execution_count": 16,
     "metadata": {},
     "output_type": "execute_result"
    }
   ],
   "source": [
    "rep_ques = questions_list.value_counts()[questions_list.value_counts()>1]\n",
    "rep_ques[0:8]"
   ]
  },
  {
   "cell_type": "markdown",
   "id": "9ed1bb7a",
   "metadata": {},
   "source": [
    "### Identifying Questions types"
   ]
  },
  {
   "cell_type": "code",
   "execution_count": 17,
   "id": "rNtB1mVE1fqy",
   "metadata": {
    "id": "rNtB1mVE1fqy"
   },
   "outputs": [],
   "source": [
    "pair = pd.Series(quora_df['question1'].tolist() + quora_df['question2'].tolist()).astype(str)"
   ]
  },
  {
   "cell_type": "code",
   "execution_count": 18,
   "id": "Q8yn_Y0t2HPe",
   "metadata": {
    "colab": {
     "base_uri": "https://localhost:8080/"
    },
    "id": "Q8yn_Y0t2HPe",
    "outputId": "aa92e5b0-c7bb-4ce7-f524-8b32730abd63"
   },
   "outputs": [
    {
     "name": "stdout",
     "output_type": "stream",
     "text": [
      "Questions with question marks: 99.87%\n",
      "Questions with [math] tags: 0.12%\n",
      "Questions with full stops: 6.31%\n",
      "Questions with capitalised first letters: 99.81%\n",
      "Questions with numbers: 11.83%\n"
     ]
    }
   ],
   "source": [
    "qmarks = np.mean(pair.apply(lambda x: '?' in x))\n",
    "math = np.mean(pair.apply(lambda x: '[math]' in x))\n",
    "fullstop = np.mean(pair.apply(lambda x: '.' in x))\n",
    "capital_first = np.mean(pair.apply(lambda x: x[0].isupper()))\n",
    "numbers = np.mean(pair.apply(lambda x: max([y.isdigit() for y in x])))\n",
    "\n",
    "print('Questions with question marks: {:.2f}%'.format(qmarks * 100))\n",
    "print('Questions with [math] tags: {:.2f}%'.format(math * 100))\n",
    "print('Questions with full stops: {:.2f}%'.format(fullstop * 100))\n",
    "print('Questions with capitalised first letters: {:.2f}%'.format(capital_first * 100))\n",
    "print('Questions with numbers: {:.2f}%'.format(numbers * 100))"
   ]
  },
  {
   "cell_type": "markdown",
   "id": "SZDOz7mN2HuI",
   "metadata": {
    "id": "SZDOz7mN2HuI"
   },
   "source": [
    "\n",
    "\n",
    "### **Handling Missing Values**\n",
    "\n"
   ]
  },
  {
   "cell_type": "code",
   "execution_count": 19,
   "id": "50706dfe",
   "metadata": {
    "colab": {
     "base_uri": "https://localhost:8080/"
    },
    "id": "50706dfe",
    "outputId": "00c688c2-8956-4c32-f189-f5e0b1d62977"
   },
   "outputs": [
    {
     "data": {
      "text/plain": [
       "False    404290\n",
       "dtype: int64"
      ]
     },
     "execution_count": 19,
     "metadata": {},
     "output_type": "execute_result"
    }
   ],
   "source": [
    "quora_df.duplicated().value_counts() # No Duplicates in our dataset"
   ]
  },
  {
   "cell_type": "code",
   "execution_count": 20,
   "id": "e3e98972",
   "metadata": {
    "colab": {
     "base_uri": "https://localhost:8080/"
    },
    "id": "e3e98972",
    "outputId": "69abe130-4af4-43fe-f2a2-0d37c82e12d9"
   },
   "outputs": [
    {
     "data": {
      "text/plain": [
       "question1       1\n",
       "question2       2\n",
       "is_duplicate    0\n",
       "dtype: int64"
      ]
     },
     "execution_count": 20,
     "metadata": {},
     "output_type": "execute_result"
    }
   ],
   "source": [
    "quora_df.isna().sum()"
   ]
  },
  {
   "cell_type": "code",
   "execution_count": 21,
   "id": "86b9b30a",
   "metadata": {
    "colab": {
     "base_uri": "https://localhost:8080/",
     "height": 175
    },
    "id": "86b9b30a",
    "outputId": "ce164abf-1356-4aa5-a856-366910b26b63"
   },
   "outputs": [
    {
     "data": {
      "text/html": [
       "<div>\n",
       "<style scoped>\n",
       "    .dataframe tbody tr th:only-of-type {\n",
       "        vertical-align: middle;\n",
       "    }\n",
       "\n",
       "    .dataframe tbody tr th {\n",
       "        vertical-align: top;\n",
       "    }\n",
       "\n",
       "    .dataframe thead th {\n",
       "        text-align: right;\n",
       "    }\n",
       "</style>\n",
       "<table border=\"1\" class=\"dataframe\">\n",
       "  <thead>\n",
       "    <tr style=\"text-align: right;\">\n",
       "      <th></th>\n",
       "      <th>question1</th>\n",
       "      <th>question2</th>\n",
       "      <th>is_duplicate</th>\n",
       "    </tr>\n",
       "  </thead>\n",
       "  <tbody>\n",
       "    <tr>\n",
       "      <th>363362</th>\n",
       "      <td>NaN</td>\n",
       "      <td>My Chinese name is Haichao Yu. What English na...</td>\n",
       "      <td>0</td>\n",
       "    </tr>\n",
       "  </tbody>\n",
       "</table>\n",
       "</div>"
      ],
      "text/plain": [
       "       question1                                          question2  \\\n",
       "363362       NaN  My Chinese name is Haichao Yu. What English na...   \n",
       "\n",
       "        is_duplicate  \n",
       "363362             0  "
      ]
     },
     "execution_count": 21,
     "metadata": {},
     "output_type": "execute_result"
    },
    {
     "data": {
      "text/html": [
       "<div>\n",
       "<style scoped>\n",
       "    .dataframe tbody tr th:only-of-type {\n",
       "        vertical-align: middle;\n",
       "    }\n",
       "\n",
       "    .dataframe tbody tr th {\n",
       "        vertical-align: top;\n",
       "    }\n",
       "\n",
       "    .dataframe thead th {\n",
       "        text-align: right;\n",
       "    }\n",
       "</style>\n",
       "<table border=\"1\" class=\"dataframe\">\n",
       "  <thead>\n",
       "    <tr style=\"text-align: right;\">\n",
       "      <th></th>\n",
       "      <th>question1</th>\n",
       "      <th>question2</th>\n",
       "      <th>is_duplicate</th>\n",
       "    </tr>\n",
       "  </thead>\n",
       "  <tbody>\n",
       "    <tr>\n",
       "      <th>105780</th>\n",
       "      <td>How can I develop android app?</td>\n",
       "      <td>NaN</td>\n",
       "      <td>0</td>\n",
       "    </tr>\n",
       "    <tr>\n",
       "      <th>201841</th>\n",
       "      <td>How can I create an Android app?</td>\n",
       "      <td>NaN</td>\n",
       "      <td>0</td>\n",
       "    </tr>\n",
       "  </tbody>\n",
       "</table>\n",
       "</div>"
      ],
      "text/plain": [
       "                               question1 question2  is_duplicate\n",
       "105780    How can I develop android app?       NaN             0\n",
       "201841  How can I create an Android app?       NaN             0"
      ]
     },
     "execution_count": 21,
     "metadata": {},
     "output_type": "execute_result"
    }
   ],
   "source": [
    "quora_df[quora_df.question1.isna()]\n",
    "quora_df[quora_df.question2.isna()]"
   ]
  },
  {
   "cell_type": "code",
   "execution_count": 22,
   "id": "f2de99ec",
   "metadata": {
    "id": "f2de99ec"
   },
   "outputs": [],
   "source": [
    "quora_df = quora_df.dropna(axis=0)"
   ]
  },
  {
   "cell_type": "code",
   "execution_count": 23,
   "id": "7fb5d365",
   "metadata": {
    "colab": {
     "base_uri": "https://localhost:8080/"
    },
    "id": "7fb5d365",
    "outputId": "0b35afc7-81df-47ad-f933-b1df6d5954de"
   },
   "outputs": [
    {
     "data": {
      "text/plain": [
       "question1       0\n",
       "question2       0\n",
       "is_duplicate    0\n",
       "dtype: int64"
      ]
     },
     "execution_count": 23,
     "metadata": {},
     "output_type": "execute_result"
    }
   ],
   "source": [
    "quora_df.isna().sum() # Done with missing values"
   ]
  },
  {
   "cell_type": "code",
   "execution_count": 24,
   "id": "6b680b94",
   "metadata": {
    "colab": {
     "base_uri": "https://localhost:8080/"
    },
    "id": "6b680b94",
    "outputId": "2d80b973-6b7c-46b4-dfe2-b504aa91f62e"
   },
   "outputs": [
    {
     "data": {
      "text/plain": [
       "(404287, 3)"
      ]
     },
     "execution_count": 24,
     "metadata": {},
     "output_type": "execute_result"
    }
   ],
   "source": [
    "quora_df.shape"
   ]
  },
  {
   "cell_type": "markdown",
   "id": "9ce1729d",
   "metadata": {
    "id": "9ce1729d"
   },
   "source": [
    "## Imbalance in data"
   ]
  },
  {
   "cell_type": "code",
   "execution_count": null,
   "id": "af8cd30e",
   "metadata": {
    "colab": {
     "base_uri": "https://localhost:8080/"
    },
    "id": "af8cd30e",
    "outputId": "ae59666b-a0ba-4daa-bb67-5b071d446854"
   },
   "outputs": [
    {
     "data": {
      "text/plain": [
       "0    0.630799\n",
       "1    0.369201\n",
       "Name: is_duplicate, dtype: float64"
      ]
     },
     "execution_count": 21,
     "metadata": {},
     "output_type": "execute_result"
    }
   ],
   "source": [
    "quora_df.is_duplicate.value_counts(normalize=True) # Percentage of data "
   ]
  },
  {
   "cell_type": "code",
   "execution_count": null,
   "id": "0acff38b",
   "metadata": {
    "colab": {
     "base_uri": "https://localhost:8080/"
    },
    "id": "0acff38b",
    "outputId": "eae722e6-881e-4de7-cb87-f4980abf333a"
   },
   "outputs": [
    {
     "data": {
      "text/plain": [
       "0    255024\n",
       "1    149263\n",
       "Name: is_duplicate, dtype: int64"
      ]
     },
     "execution_count": 22,
     "metadata": {},
     "output_type": "execute_result"
    }
   ],
   "source": [
    "quora_df.is_duplicate.value_counts()"
   ]
  },
  {
   "cell_type": "code",
   "execution_count": 31,
   "id": "784f3203",
   "metadata": {
    "colab": {
     "base_uri": "https://localhost:8080/",
     "height": 333
    },
    "id": "784f3203",
    "outputId": "b9592ae6-dbd2-4e2a-f373-b16ccf5fe76d"
   },
   "outputs": [
    {
     "data": {
      "image/png": "[encoded data removed]",
      "text/plain": [
       "<Figure size 300x500 with 1 Axes>"
      ]
     },
     "metadata": {
      "image/png": {
       "height": 466,
       "width": 324
      }
     },
     "output_type": "display_data"
    }
   ],
   "source": [
    "plt.figure(figsize=(3,5),dpi = 100)\n",
    "plt.title('Distribution of data')\n",
    "sns.countplot(x='is_duplicate', data=quora_df);"
   ]
  },
  {
   "cell_type": "markdown",
   "id": "00373df6",
   "metadata": {
    "id": "00373df6"
   },
   "source": [
    "* we can observe that there is an imbalance in our data.\n",
    "* 63% of our data is non-similar data and 36% is similar data "
   ]
  },
  {
   "cell_type": "markdown",
   "id": "94a19cda",
   "metadata": {
    "id": "94a19cda"
   },
   "source": [
    "## Text Preprocessing Steps\n",
    "\n",
    "Text Preprocessing steps include some essential tasks to clean and remove the noise from the available data.\n",
    "\n",
    "1. **Removing Special Characters and Punctuation**\n",
    "\n",
    "2. **Converting to Lower Case** - We convert the whole text corpus to lower case to reduce the size of the vocabulary of our text data.\n",
    "\n",
    "3. **Removing Stop Words** - Stopwords don't contribute to the meaning of a sentence. So, we can safely remove them without changing the meaning of the sentence. For eg: it, was, any, then, a, is, by, etc are the stopwords.\n",
    "\n",
    "4. **Stemming** - Stemming is the process of getting the root form of a word. For eg: warm, warmer, warming can be converted to warm.\n",
    "\n",
    "5. **Lemmatization** - Lemmatization takes a word and breaks it down to its lemma. For example, the verb \"walk\" might appear as \"walking,\" \"walks\" or \"walked.\" Inflectional endings such as \"s,\" \"ed\" and \"ing\" are removed. \n",
    "    Lemmatization groups these words as its lemma, \"walk.\""
   ]
  },
  {
   "cell_type": "code",
   "execution_count": 32,
   "id": "uCgnQd9AaJKu",
   "metadata": {
    "id": "uCgnQd9AaJKu"
   },
   "outputs": [],
   "source": [
    "def preprocess(q):\n",
    "    \n",
    "    q = str(q).lower().strip()\n",
    "    \n",
    "    # Replace certain special characters with their string equivalents\n",
    "    q = q.replace('%', ' percent')\n",
    "    q = q.replace('$', ' dollar ')\n",
    "    q = q.replace('₹', ' rupee ')\n",
    "    q = q.replace('€', ' euro ')\n",
    "    q = q.replace('@', ' at ')\n",
    "    \n",
    "    # The pattern '[math]' appears around 900 times in the whole dataset.\n",
    "    q = q.replace('[math]', '')\n",
    "    \n",
    "    # Replacing some numbers with string equivalents (not perfect, can be done better to account for more cases)\n",
    "    q = q.replace(',000,000,000 ', 'b ')\n",
    "    q = q.replace(',000,000 ', 'm ')\n",
    "    q = q.replace(',000 ', 'k ')\n",
    "    q = re.sub(r'([0-9]+)000000000', r'\\1b', q)\n",
    "    q = re.sub(r'([0-9]+)000000', r'\\1m', q)\n",
    "    q = re.sub(r'([0-9]+)000', r'\\1k', q)\n",
    "    \n",
    "    # Decontracting words\n",
    "  \n",
    "    contractions = { \n",
    "    \"ain't\": \"am not\",\n",
    "    \"aren't\": \"are not\",\n",
    "    \"can't\": \"can not\",\n",
    "    \"can't've\": \"can not have\",\n",
    "    \"'cause\": \"because\",\n",
    "    \"could've\": \"could have\",\n",
    "    \"couldn't\": \"could not\",\n",
    "    \"couldn't've\": \"could not have\",\n",
    "    \"didn't\": \"did not\",\n",
    "    \"doesn't\": \"does not\",\n",
    "    \"don't\": \"do not\",\n",
    "    \"hadn't\": \"had not\",\n",
    "    \"hadn't've\": \"had not have\",\n",
    "    \"hasn't\": \"has not\",\n",
    "    \"haven't\": \"have not\",\n",
    "    \"he'd\": \"he would\",\n",
    "    \"he'd've\": \"he would have\",\n",
    "    \"he'll\": \"he will\",\n",
    "    \"he'll've\": \"he will have\",\n",
    "    \"he's\": \"he is\",\n",
    "    \"how'd\": \"how did\",\n",
    "    \"how'd'y\": \"how do you\",\n",
    "    \"how'll\": \"how will\",\n",
    "    \"how's\": \"how is\",\n",
    "    \"i'd\": \"i would\",\n",
    "    \"i'd've\": \"i would have\",\n",
    "    \"i'll\": \"i will\",\n",
    "    \"i'll've\": \"i will have\",\n",
    "    \"i'm\": \"i am\",\n",
    "    \"i've\": \"i have\",\n",
    "    \"isn't\": \"is not\",\n",
    "    \"it'd\": \"it would\",\n",
    "    \"it'd've\": \"it would have\",\n",
    "    \"it'll\": \"it will\",\n",
    "    \"it'll've\": \"it will have\",\n",
    "    \"it's\": \"it is\",\n",
    "    \"let's\": \"let us\",\n",
    "    \"ma'am\": \"madam\",\n",
    "    \"mayn't\": \"may not\",\n",
    "    \"might've\": \"might have\",\n",
    "    \"mightn't\": \"might not\",\n",
    "    \"mightn't've\": \"might not have\",\n",
    "    \"must've\": \"must have\",\n",
    "    \"mustn't\": \"must not\",\n",
    "    \"mustn't've\": \"must not have\",\n",
    "    \"needn't\": \"need not\",\n",
    "    \"needn't've\": \"need not have\",\n",
    "    \"o'clock\": \"of the clock\",\n",
    "    \"oughtn't\": \"ought not\",\n",
    "    \"oughtn't've\": \"ought not have\",\n",
    "    \"shan't\": \"shall not\",\n",
    "    \"sha'n't\": \"shall not\",\n",
    "    \"shan't've\": \"shall not have\",\n",
    "    \"she'd\": \"she would\",\n",
    "    \"she'd've\": \"she would have\",\n",
    "    \"she'll\": \"she will\",\n",
    "    \"she'll've\": \"she will have\",\n",
    "    \"she's\": \"she is\",\n",
    "    \"should've\": \"should have\",\n",
    "    \"shouldn't\": \"should not\",\n",
    "    \"shouldn't've\": \"should not have\",\n",
    "    \"so've\": \"so have\",\n",
    "    \"so's\": \"so as\",\n",
    "    \"that'd\": \"that would\",\n",
    "    \"that'd've\": \"that would have\",\n",
    "    \"that's\": \"that is\",\n",
    "    \"there'd\": \"there would\",\n",
    "    \"there'd've\": \"there would have\",\n",
    "    \"there's\": \"there is\",\n",
    "    \"they'd\": \"they would\",\n",
    "    \"they'd've\": \"they would have\",\n",
    "    \"they'll\": \"they will\",\n",
    "    \"they'll've\": \"they will have\",\n",
    "    \"they're\": \"they are\",\n",
    "    \"they've\": \"they have\",\n",
    "    \"to've\": \"to have\",\n",
    "    \"wasn't\": \"was not\",\n",
    "    \"we'd\": \"we would\",\n",
    "    \"we'd've\": \"we would have\",\n",
    "    \"we'll\": \"we will\",\n",
    "    \"we'll've\": \"we will have\",\n",
    "    \"we're\": \"we are\",\n",
    "    \"we've\": \"we have\",\n",
    "    \"weren't\": \"were not\",\n",
    "    \"what'll\": \"what will\",\n",
    "    \"what'll've\": \"what will have\",\n",
    "    \"what're\": \"what are\",\n",
    "    \"what's\": \"what is\",\n",
    "    \"what've\": \"what have\",\n",
    "    \"when's\": \"when is\",\n",
    "    \"when've\": \"when have\",\n",
    "    \"where'd\": \"where did\",\n",
    "    \"where's\": \"where is\",\n",
    "    \"where've\": \"where have\",\n",
    "    \"who'll\": \"who will\",\n",
    "    \"who'll've\": \"who will have\",\n",
    "    \"who's\": \"who is\",\n",
    "    \"who've\": \"who have\",\n",
    "    \"why's\": \"why is\",\n",
    "    \"why've\": \"why have\",\n",
    "    \"will've\": \"will have\",\n",
    "    \"won't\": \"will not\",\n",
    "    \"won't've\": \"will not have\",\n",
    "    \"would've\": \"would have\",\n",
    "    \"wouldn't\": \"would not\",\n",
    "    \"wouldn't've\": \"would not have\",\n",
    "    \"y'all\": \"you all\",\n",
    "    \"y'all'd\": \"you all would\",\n",
    "    \"y'all'd've\": \"you all would have\",\n",
    "    \"y'all're\": \"you all are\",\n",
    "    \"y'all've\": \"you all have\",\n",
    "    \"you'd\": \"you would\",\n",
    "    \"you'd've\": \"you would have\",\n",
    "    \"you'll\": \"you will\",\n",
    "    \"you'll've\": \"you will have\",\n",
    "    \"you're\": \"you are\",\n",
    "    \"you've\": \"you have\"\n",
    "    }\n",
    "\n",
    "    q_decontracted = []\n",
    "\n",
    "    for word in q.split():\n",
    "        if word in contractions:\n",
    "            word = contractions[word]\n",
    "\n",
    "        q_decontracted.append(word)\n",
    "\n",
    "    q = ' '.join(q_decontracted)\n",
    "    q = q.replace(\"'ve\", \" have\")\n",
    "    q = q.replace(\"n't\", \" not\")\n",
    "    q = q.replace(\"'re\", \" are\")\n",
    "    q = q.replace(\"'ll\", \" will\")\n",
    "    \n",
    "    # Removing HTML tags\n",
    "    q = BeautifulSoup(q)\n",
    "    q = q.get_text()\n",
    "    \n",
    "    # Remove punctuations\n",
    "    pattern = re.compile('\\W')\n",
    "    q = re.sub(pattern, ' ', q).strip()\n",
    "\n",
    "    \n",
    "    return q"
   ]
  },
  {
   "cell_type": "code",
   "execution_count": 33,
   "id": "Pq_2HBAyaJHQ",
   "metadata": {
    "id": "Pq_2HBAyaJHQ"
   },
   "outputs": [],
   "source": [
    "# Applying text pre processing\n",
    "quora_df['question1'] = quora_df['question1'].apply(preprocess)\n",
    "quora_df['question2'] = quora_df['question2'].apply(preprocess)"
   ]
  },
  {
   "cell_type": "markdown",
   "id": "Z1lhFhjsXYG5",
   "metadata": {
    "id": "Z1lhFhjsXYG5"
   },
   "source": [
    "## Data Preparation - Split the data into train and test set"
   ]
  },
  {
   "cell_type": "code",
   "execution_count": 34,
   "id": "PKGr6OAnXW3T",
   "metadata": {
    "colab": {
     "base_uri": "https://localhost:8080/"
    },
    "id": "PKGr6OAnXW3T",
    "outputId": "8ea4f978-7c41-4945-f7ea-491f21c5d412"
   },
   "outputs": [
    {
     "data": {
      "text/plain": [
       "Index(['question1', 'question2', 'is_duplicate'], dtype='object')"
      ]
     },
     "execution_count": 34,
     "metadata": {},
     "output_type": "execute_result"
    }
   ],
   "source": [
    "quora_df.columns"
   ]
  },
  {
   "cell_type": "code",
   "execution_count": 35,
   "id": "dgxPf-AcXXCO",
   "metadata": {
    "id": "dgxPf-AcXXCO"
   },
   "outputs": [],
   "source": [
    "y = quora_df['is_duplicate']\n",
    "X = quora_df[['question1','question2']]"
   ]
  },
  {
   "cell_type": "code",
   "execution_count": 36,
   "id": "JsbjvQkoo2hF",
   "metadata": {
    "id": "JsbjvQkoo2hF"
   },
   "outputs": [],
   "source": [
    "# Splitting into train and test\n",
    "from sklearn.model_selection import train_test_split"
   ]
  },
  {
   "cell_type": "code",
   "execution_count": 37,
   "id": "_bFHIs9iXXLD",
   "metadata": {
    "id": "_bFHIs9iXXLD"
   },
   "outputs": [],
   "source": [
    "X_train, X_test, y_train, y_test = train_test_split(X, y, test_size=0.2, random_state=42)"
   ]
  },
  {
   "cell_type": "code",
   "execution_count": 38,
   "id": "mKeOv054XXTy",
   "metadata": {
    "id": "mKeOv054XXTy"
   },
   "outputs": [
    {
     "data": {
      "text/html": [
       "<div>\n",
       "<style scoped>\n",
       "    .dataframe tbody tr th:only-of-type {\n",
       "        vertical-align: middle;\n",
       "    }\n",
       "\n",
       "    .dataframe tbody tr th {\n",
       "        vertical-align: top;\n",
       "    }\n",
       "\n",
       "    .dataframe thead th {\n",
       "        text-align: right;\n",
       "    }\n",
       "</style>\n",
       "<table border=\"1\" class=\"dataframe\">\n",
       "  <thead>\n",
       "    <tr style=\"text-align: right;\">\n",
       "      <th></th>\n",
       "      <th>question1</th>\n",
       "      <th>question2</th>\n",
       "    </tr>\n",
       "  </thead>\n",
       "  <tbody>\n",
       "    <tr>\n",
       "      <th>174950</th>\n",
       "      <td>india  what are job options and future options...</td>\n",
       "      <td>jobs and careers in india  i am currently in m...</td>\n",
       "    </tr>\n",
       "  </tbody>\n",
       "</table>\n",
       "</div>"
      ],
      "text/plain": [
       "                                                question1  \\\n",
       "174950  india  what are job options and future options...   \n",
       "\n",
       "                                                question2  \n",
       "174950  jobs and careers in india  i am currently in m...  "
      ]
     },
     "execution_count": 38,
     "metadata": {},
     "output_type": "execute_result"
    },
    {
     "data": {
      "text/plain": [
       "(323429, 2)"
      ]
     },
     "execution_count": 38,
     "metadata": {},
     "output_type": "execute_result"
    }
   ],
   "source": [
    "X_train.head(1)\n",
    "X_train.shape"
   ]
  },
  {
   "cell_type": "code",
   "execution_count": 39,
   "id": "hw7_ZvUGaxL4",
   "metadata": {
    "id": "hw7_ZvUGaxL4"
   },
   "outputs": [
    {
     "data": {
      "text/html": [
       "<div>\n",
       "<style scoped>\n",
       "    .dataframe tbody tr th:only-of-type {\n",
       "        vertical-align: middle;\n",
       "    }\n",
       "\n",
       "    .dataframe tbody tr th {\n",
       "        vertical-align: top;\n",
       "    }\n",
       "\n",
       "    .dataframe thead th {\n",
       "        text-align: right;\n",
       "    }\n",
       "</style>\n",
       "<table border=\"1\" class=\"dataframe\">\n",
       "  <thead>\n",
       "    <tr style=\"text-align: right;\">\n",
       "      <th></th>\n",
       "      <th>question1</th>\n",
       "      <th>question2</th>\n",
       "    </tr>\n",
       "  </thead>\n",
       "  <tbody>\n",
       "    <tr>\n",
       "      <th>8067</th>\n",
       "      <td>how do i play pokémon go in korea</td>\n",
       "      <td>how do i play pokémon go in china</td>\n",
       "    </tr>\n",
       "  </tbody>\n",
       "</table>\n",
       "</div>"
      ],
      "text/plain": [
       "                              question1                          question2\n",
       "8067  how do i play pokémon go in korea  how do i play pokémon go in china"
      ]
     },
     "execution_count": 39,
     "metadata": {},
     "output_type": "execute_result"
    },
    {
     "data": {
      "text/plain": [
       "(80858, 2)"
      ]
     },
     "execution_count": 39,
     "metadata": {},
     "output_type": "execute_result"
    }
   ],
   "source": [
    "X_test.head(1)\n",
    "X_test.shape"
   ]
  },
  {
   "cell_type": "code",
   "execution_count": 40,
   "id": "LHpqXYsbax_J",
   "metadata": {
    "id": "LHpqXYsbax_J"
   },
   "outputs": [
    {
     "data": {
      "text/plain": [
       "174950    0\n",
       "Name: is_duplicate, dtype: int64"
      ]
     },
     "execution_count": 40,
     "metadata": {},
     "output_type": "execute_result"
    },
    {
     "data": {
      "text/plain": [
       "(323429,)"
      ]
     },
     "execution_count": 40,
     "metadata": {},
     "output_type": "execute_result"
    }
   ],
   "source": [
    "y_train.head(1)\n",
    "y_train.shape"
   ]
  },
  {
   "cell_type": "code",
   "execution_count": 41,
   "id": "FVnPTnatayfO",
   "metadata": {
    "id": "FVnPTnatayfO"
   },
   "outputs": [
    {
     "data": {
      "text/plain": [
       "8067    0\n",
       "Name: is_duplicate, dtype: int64"
      ]
     },
     "execution_count": 41,
     "metadata": {},
     "output_type": "execute_result"
    },
    {
     "data": {
      "text/plain": [
       "(80858,)"
      ]
     },
     "execution_count": 41,
     "metadata": {},
     "output_type": "execute_result"
    }
   ],
   "source": [
    "y_test.head(1)\n",
    "y_test.shape"
   ]
  },
  {
   "cell_type": "markdown",
   "id": "f7d7cc1c",
   "metadata": {},
   "source": [
    "### - __Token__: You get a token by splitting sentence a space\n",
    "### - __StopWord__: stop words as per NLTK.\n",
    "### - __Word__ : A token that is not a stop_word"
   ]
  },
  {
   "cell_type": "code",
   "execution_count": 42,
   "id": "b60ffd7a",
   "metadata": {
    "colab": {
     "base_uri": "https://localhost:8080/"
    },
    "id": "b60ffd7a",
    "outputId": "c6f48b2d-79a8-4648-c6e6-9c77aa25fc64"
   },
   "outputs": [
    {
     "name": "stderr",
     "output_type": "stream",
     "text": [
      "[nltk_data] Downloading package stopwords to\n",
      "[nltk_data]     C:\\Users\\prave\\AppData\\Roaming\\nltk_data...\n",
      "[nltk_data]   Package stopwords is already up-to-date!\n"
     ]
    },
    {
     "data": {
      "text/plain": [
       "True"
      ]
     },
     "execution_count": 42,
     "metadata": {},
     "output_type": "execute_result"
    },
    {
     "name": "stderr",
     "output_type": "stream",
     "text": [
      "[nltk_data] Downloading package wordnet to\n",
      "[nltk_data]     C:\\Users\\prave\\AppData\\Roaming\\nltk_data...\n",
      "[nltk_data]   Package wordnet is already up-to-date!\n"
     ]
    },
    {
     "data": {
      "text/plain": [
       "True"
      ]
     },
     "execution_count": 42,
     "metadata": {},
     "output_type": "execute_result"
    },
    {
     "name": "stderr",
     "output_type": "stream",
     "text": [
      "[nltk_data] Downloading package omw-1.4 to\n",
      "[nltk_data]     C:\\Users\\prave\\AppData\\Roaming\\nltk_data...\n",
      "[nltk_data]   Package omw-1.4 is already up-to-date!\n"
     ]
    },
    {
     "data": {
      "text/plain": [
       "True"
      ]
     },
     "execution_count": 42,
     "metadata": {},
     "output_type": "execute_result"
    },
    {
     "name": "stderr",
     "output_type": "stream",
     "text": [
      "[nltk_data] Downloading package averaged_perceptron_tagger to\n",
      "[nltk_data]     C:\\Users\\prave\\AppData\\Roaming\\nltk_data...\n",
      "[nltk_data]   Unzipping taggers\\averaged_perceptron_tagger.zip.\n"
     ]
    },
    {
     "data": {
      "text/plain": [
       "True"
      ]
     },
     "execution_count": 42,
     "metadata": {},
     "output_type": "execute_result"
    }
   ],
   "source": [
    "import nltk\n",
    "nltk.download('stopwords')\n",
    "# Downloading wordnet before applying Lemmatizer\n",
    "nltk.download('wordnet')\n",
    "nltk.download('omw-1.4')\n",
    "nltk.download('averaged_perceptron_tagger')"
   ]
  },
  {
   "cell_type": "code",
   "execution_count": 43,
   "id": "82d936aa",
   "metadata": {
    "id": "82d936aa"
   },
   "outputs": [],
   "source": [
    "import re\n",
    "from nltk.tokenize import word_tokenize\n",
    "from nltk.corpus import stopwords\n",
    "from nltk.stem.porter import PorterStemmer\n",
    "from nltk.stem import WordNetLemmatizer"
   ]
  },
  {
   "cell_type": "code",
   "execution_count": 44,
   "id": "SyW79ZlkDo6K",
   "metadata": {
    "colab": {
     "base_uri": "https://localhost:8080/"
    },
    "id": "SyW79ZlkDo6K",
    "outputId": "83c1c957-4890-42f0-85b8-dbba82e1239d"
   },
   "outputs": [
    {
     "name": "stdout",
     "output_type": "stream",
     "text": [
      "Requirement already satisfied: tqdm in c:\\users\\prave\\anaconda3\\lib\\site-packages (4.64.1)\n",
      "Requirement already satisfied: colorama in c:\\users\\prave\\anaconda3\\lib\\site-packages (from tqdm) (0.4.6)\n"
     ]
    }
   ],
   "source": [
    "!pip install tqdm"
   ]
  },
  {
   "cell_type": "code",
   "execution_count": 45,
   "id": "EBq1RAxND3Tg",
   "metadata": {
    "id": "EBq1RAxND3Tg"
   },
   "outputs": [],
   "source": [
    "from tqdm import tqdm, tqdm_notebook \n",
    "# tqdm (taqadum) means progress and it is used to create a smart progress bar for the loops. "
   ]
  },
  {
   "cell_type": "code",
   "execution_count": 46,
   "id": "lWaym-GjD3eW",
   "metadata": {
    "id": "lWaym-GjD3eW"
   },
   "outputs": [],
   "source": [
    "tqdm.pandas()"
   ]
  },
  {
   "cell_type": "markdown",
   "id": "fnpCZcmGG2bd",
   "metadata": {
    "id": "fnpCZcmGG2bd"
   },
   "source": [
    "## Applying ***Lemmatization*** Text Preprocessing technique on ***Train*** Data"
   ]
  },
  {
   "cell_type": "code",
   "execution_count": 49,
   "id": "2d854824",
   "metadata": {
    "id": "2d854824"
   },
   "outputs": [],
   "source": [
    "## We can also use Lemmatizer instead of Stemmer\n",
    "lemmatizer = WordNetLemmatizer()"
   ]
  },
  {
   "cell_type": "code",
   "execution_count": 50,
   "id": "a3f968e2",
   "metadata": {
    "id": "a3f968e2"
   },
   "outputs": [],
   "source": [
    "def preprocessed(raw_text, flag):\n",
    "    # Removing special characters and digits\n",
    "    sentence = re.sub(\"[^a-zA-Z]\", \" \", raw_text)\n",
    "    \n",
    "    # change sentence to lower case\n",
    "    sentence = sentence.lower()\n",
    "\n",
    "    # tokenize into words\n",
    "    tokens = sentence.split()\n",
    "    \n",
    "    # remove stop words                \n",
    "    clean_tokens = [t for t in tokens if t not in stopwords.words(\"english\")]\n",
    "    \n",
    "    # Stemming/Lemmatization\n",
    "    if(flag == 'stem'):\n",
    "        clean_tokens = [stemmer.stem(word) for word in clean_tokens]\n",
    "    else:\n",
    "        clean_tokens = [lemmatizer.lemmatize(word) for word in clean_tokens]\n",
    "    \n",
    "    return pd.Series([\" \".join(clean_tokens), len(clean_tokens)])"
   ]
  },
  {
   "cell_type": "code",
   "execution_count": 51,
   "id": "8c9ab652",
   "metadata": {
    "id": "8c9ab652"
   },
   "outputs": [
    {
     "name": "stderr",
     "output_type": "stream",
     "text": [
      "100%|█████████████████████████████████████████████████████████████████████████| 323429/323429 [18:50<00:00, 286.19it/s]\n"
     ]
    }
   ],
   "source": [
    "l_temp_df = X_train['question1'].progress_apply(lambda x : preprocessed(x, 'lemma'))"
   ]
  },
  {
   "cell_type": "code",
   "execution_count": null,
   "id": "1de2961b",
   "metadata": {
    "id": "1de2961b"
   },
   "outputs": [
    {
     "name": "stderr",
     "output_type": "stream",
     "text": [
      " 68%|█████████████████████████████████████████████████▉                       | 221042/323429 [13:25<06:21, 268.47it/s]"
     ]
    }
   ],
   "source": [
    "l_temp_df1 = X_train['question2'].progress_apply(lambda x : preprocessed(x, 'lemma'))"
   ]
  },
  {
   "cell_type": "code",
   "execution_count": null,
   "id": "WqLU1A7eNXLj",
   "metadata": {
    "id": "WqLU1A7eNXLj"
   },
   "outputs": [],
   "source": [
    "l_temp_df.columns = ['clean_text_lemma_Q1', 'text_length_lemma_Q1']\n",
    "l_temp_df1.columns = ['clean_text_lemma_Q2', 'text_length_lemma_Q2']"
   ]
  },
  {
   "cell_type": "code",
   "execution_count": null,
   "id": "dRhqrbBZep52",
   "metadata": {
    "id": "dRhqrbBZep52"
   },
   "outputs": [],
   "source": [
    "X_train = pd.concat([X_train, l_temp_df,l_temp_df1], axis=1)\n",
    "\n",
    "X_train.head(2)"
   ]
  },
  {
   "cell_type": "markdown",
   "id": "Xv5QXvw_gc8k",
   "metadata": {
    "id": "Xv5QXvw_gc8k"
   },
   "source": [
    "## Applying **`Lemmatization`** Text Preprocessing technique on ***Test*** Data"
   ]
  },
  {
   "cell_type": "code",
   "execution_count": null,
   "id": "DKllYJzZc0KC",
   "metadata": {
    "id": "DKllYJzZc0KC"
   },
   "outputs": [],
   "source": [
    "l_temp_df = X_test['question1'].progress_apply(lambda x : preprocessed(x, 'lemma'))"
   ]
  },
  {
   "cell_type": "code",
   "execution_count": null,
   "id": "HxSCit-Ac0Mt",
   "metadata": {
    "id": "HxSCit-Ac0Mt"
   },
   "outputs": [],
   "source": [
    "l_temp_df1 = X_test['question2'].progress_apply(lambda x : preprocessed(x, 'lemma'))"
   ]
  },
  {
   "cell_type": "code",
   "execution_count": null,
   "id": "dnES3MwEc0Pa",
   "metadata": {
    "id": "dnES3MwEc0Pa"
   },
   "outputs": [],
   "source": [
    "l_temp_df.columns = ['clean_text_lemma_Q1', 'text_length_lemma_Q1']\n",
    "l_temp_df1.columns = ['clean_text_lemma_Q2', 'text_length_lemma_Q2']"
   ]
  },
  {
   "cell_type": "code",
   "execution_count": null,
   "id": "vToWr-aWhzsD",
   "metadata": {
    "id": "vToWr-aWhzsD"
   },
   "outputs": [],
   "source": [
    "X_test = pd.concat([X_test, l_temp_df,l_temp_df1], axis=1)\n",
    "\n",
    "X_test.head(2)"
   ]
  },
  {
   "cell_type": "markdown",
   "id": "JAZO7FWtc1Wn",
   "metadata": {
    "id": "JAZO7FWtc1Wn"
   },
   "source": [
    "## **Exporting**"
   ]
  },
  {
   "cell_type": "code",
   "execution_count": null,
   "id": "82ca8934",
   "metadata": {
    "colab": {
     "base_uri": "https://localhost:8080/"
    },
    "id": "82ca8934",
    "outputId": "a28984cb-9e25-4fed-f181-6a7ffb5a1824"
   },
   "outputs": [
    {
     "data": {
      "text/plain": [
       "(323429, 6)"
      ]
     },
     "execution_count": 29,
     "metadata": {},
     "output_type": "execute_result"
    },
    {
     "name": "stdout",
     "output_type": "stream",
     "text": [
      "<class 'pandas.core.frame.DataFrame'>\n",
      "RangeIndex: 323429 entries, 0 to 323428\n",
      "Data columns (total 6 columns):\n",
      " #   Column                Non-Null Count   Dtype \n",
      "---  ------                --------------   ----- \n",
      " 0   question1             323415 non-null  object\n",
      " 1   question2             323420 non-null  object\n",
      " 2   clean_text_lemma_Q1   323292 non-null  object\n",
      " 3   text_length_lemma_Q1  323429 non-null  int64 \n",
      " 4   clean_text_lemma_Q2   323293 non-null  object\n",
      " 5   text_length_lemma_Q2  323429 non-null  int64 \n",
      "dtypes: int64(2), object(4)\n",
      "memory usage: 14.8+ MB\n"
     ]
    }
   ],
   "source": [
    "X_train.shape\n",
    "X_train.info()"
   ]
  },
  {
   "cell_type": "code",
   "execution_count": null,
   "id": "4b79ae6c",
   "metadata": {
    "colab": {
     "base_uri": "https://localhost:8080/"
    },
    "id": "4b79ae6c",
    "outputId": "0065a68e-dcc0-4838-a01f-d28c6c0d9a0c"
   },
   "outputs": [
    {
     "data": {
      "text/plain": [
       "(80858, 6)"
      ]
     },
     "execution_count": 30,
     "metadata": {},
     "output_type": "execute_result"
    },
    {
     "name": "stdout",
     "output_type": "stream",
     "text": [
      "<class 'pandas.core.frame.DataFrame'>\n",
      "RangeIndex: 80858 entries, 0 to 80857\n",
      "Data columns (total 6 columns):\n",
      " #   Column                Non-Null Count  Dtype \n",
      "---  ------                --------------  ----- \n",
      " 0   question1             80857 non-null  object\n",
      " 1   question2             80858 non-null  object\n",
      " 2   clean_text_lemma_Q1   80826 non-null  object\n",
      " 3   text_length_lemma_Q1  80858 non-null  int64 \n",
      " 4   clean_text_lemma_Q2   80819 non-null  object\n",
      " 5   text_length_lemma_Q2  80858 non-null  int64 \n",
      "dtypes: int64(2), object(4)\n",
      "memory usage: 3.7+ MB\n"
     ]
    }
   ],
   "source": [
    "X_test.shape\n",
    "X_test.info()"
   ]
  },
  {
   "cell_type": "code",
   "execution_count": null,
   "id": "f730e353",
   "metadata": {
    "colab": {
     "base_uri": "https://localhost:8080/"
    },
    "id": "f730e353",
    "outputId": "456d3c58-21a7-4d6b-a17a-f1c90173e7bf"
   },
   "outputs": [
    {
     "data": {
      "text/plain": [
       "(323429, 1)"
      ]
     },
     "execution_count": 33,
     "metadata": {},
     "output_type": "execute_result"
    },
    {
     "data": {
      "text/plain": [
       "(80858, 1)"
      ]
     },
     "execution_count": 33,
     "metadata": {},
     "output_type": "execute_result"
    }
   ],
   "source": [
    "y_train.shape\n",
    "y_test.shape"
   ]
  },
  {
   "cell_type": "markdown",
   "id": "_-nBx0-4xAyv",
   "metadata": {
    "id": "_-nBx0-4xAyv"
   },
   "source": [
    "## Train Data\n",
    "\n",
    "> Removing **NaN** Values\n"
   ]
  },
  {
   "cell_type": "code",
   "execution_count": null,
   "id": "5F36O27FkXEv",
   "metadata": {
    "colab": {
     "base_uri": "https://localhost:8080/"
    },
    "id": "5F36O27FkXEv",
    "outputId": "a4ff58fa-b4e4-4313-aa9a-36c788b0f1a2"
   },
   "outputs": [
    {
     "data": {
      "text/plain": [
       "question1                14\n",
       "question2                 9\n",
       "clean_text_lemma_Q1     137\n",
       "text_length_lemma_Q1      0\n",
       "clean_text_lemma_Q2     136\n",
       "text_length_lemma_Q2      0\n",
       "dtype: int64"
      ]
     },
     "execution_count": 34,
     "metadata": {},
     "output_type": "execute_result"
    },
    {
     "data": {
      "text/plain": [
       "(323429, 6)"
      ]
     },
     "execution_count": 34,
     "metadata": {},
     "output_type": "execute_result"
    }
   ],
   "source": [
    "X_train.isna().sum()\n",
    "X_train.shape"
   ]
  },
  {
   "cell_type": "code",
   "execution_count": null,
   "id": "6cddcc7a",
   "metadata": {
    "id": "6cddcc7a"
   },
   "outputs": [],
   "source": [
    "drop_list = X_train[(X_train.question1.isna()) \n",
    "                      | (X_train.question2.isna()) |(X_train.clean_text_lemma_Q1.isna())|(X_train.clean_text_lemma_Q2.isna())].index.to_list()"
   ]
  },
  {
   "cell_type": "code",
   "execution_count": null,
   "id": "78f85adb",
   "metadata": {
    "id": "78f85adb"
   },
   "outputs": [],
   "source": [
    "X_train.drop(drop_list,axis = 0,inplace = True)"
   ]
  },
  {
   "cell_type": "code",
   "execution_count": null,
   "id": "b9398df1",
   "metadata": {
    "id": "b9398df1"
   },
   "outputs": [],
   "source": [
    "X_train.reset_index(inplace = True,drop = 'first' )"
   ]
  },
  {
   "cell_type": "code",
   "execution_count": null,
   "id": "7668f326",
   "metadata": {
    "colab": {
     "base_uri": "https://localhost:8080/"
    },
    "id": "7668f326",
    "outputId": "501d44c6-c61d-4fc2-a8dc-5ca0d1a64e33"
   },
   "outputs": [
    {
     "data": {
      "text/plain": [
       "(323208, 6)"
      ]
     },
     "execution_count": 38,
     "metadata": {},
     "output_type": "execute_result"
    },
    {
     "name": "stdout",
     "output_type": "stream",
     "text": [
      "<class 'pandas.core.frame.DataFrame'>\n",
      "RangeIndex: 323208 entries, 0 to 323207\n",
      "Data columns (total 6 columns):\n",
      " #   Column                Non-Null Count   Dtype \n",
      "---  ------                --------------   ----- \n",
      " 0   question1             323208 non-null  object\n",
      " 1   question2             323208 non-null  object\n",
      " 2   clean_text_lemma_Q1   323208 non-null  object\n",
      " 3   text_length_lemma_Q1  323208 non-null  int64 \n",
      " 4   clean_text_lemma_Q2   323208 non-null  object\n",
      " 5   text_length_lemma_Q2  323208 non-null  int64 \n",
      "dtypes: int64(2), object(4)\n",
      "memory usage: 14.8+ MB\n"
     ]
    }
   ],
   "source": [
    "# Before dropping NaN values shape (323429, 6)\n",
    "X_train.shape\n",
    "X_train.info()"
   ]
  },
  {
   "cell_type": "code",
   "execution_count": null,
   "id": "6df27a45",
   "metadata": {
    "id": "6df27a45"
   },
   "outputs": [],
   "source": [
    "# We have to remove the rows that present in X_train data\n",
    "y_train.drop(drop_list,axis = 0,inplace = True)\n",
    "y_train.reset_index(inplace = True, drop = 'first')"
   ]
  },
  {
   "cell_type": "code",
   "execution_count": null,
   "id": "e4670350",
   "metadata": {
    "colab": {
     "base_uri": "https://localhost:8080/"
    },
    "id": "e4670350",
    "outputId": "1d7c3f08-c5f9-4cb1-a635-c3ff4fe5587e"
   },
   "outputs": [
    {
     "data": {
      "text/plain": [
       "(323208,)"
      ]
     },
     "execution_count": 42,
     "metadata": {},
     "output_type": "execute_result"
    },
    {
     "data": {
      "text/plain": [
       "pandas.core.series.Series"
      ]
     },
     "execution_count": 42,
     "metadata": {},
     "output_type": "execute_result"
    }
   ],
   "source": [
    "# Before dropping NaN values shape (323429, 1)\n",
    "y_train.shape\n",
    "type(y_train)"
   ]
  },
  {
   "cell_type": "markdown",
   "id": "UIQBT2jZxRc0",
   "metadata": {
    "id": "UIQBT2jZxRc0"
   },
   "source": [
    "## Test Data\n",
    "\n",
    "> Removing **NaN** Values\n"
   ]
  },
  {
   "cell_type": "code",
   "execution_count": null,
   "id": "mENMrdPZlxev",
   "metadata": {
    "colab": {
     "base_uri": "https://localhost:8080/"
    },
    "id": "mENMrdPZlxev",
    "outputId": "8637fecd-df10-44b2-8608-8b5c9dbb20c5"
   },
   "outputs": [
    {
     "data": {
      "text/plain": [
       "question1                1\n",
       "question2                0\n",
       "clean_text_lemma_Q1     32\n",
       "text_length_lemma_Q1     0\n",
       "clean_text_lemma_Q2     39\n",
       "text_length_lemma_Q2     0\n",
       "dtype: int64"
      ]
     },
     "execution_count": 43,
     "metadata": {},
     "output_type": "execute_result"
    },
    {
     "data": {
      "text/plain": [
       "(80858, 6)"
      ]
     },
     "execution_count": 43,
     "metadata": {},
     "output_type": "execute_result"
    }
   ],
   "source": [
    "X_test.isna().sum()\n",
    "X_test.shape"
   ]
  },
  {
   "cell_type": "code",
   "execution_count": null,
   "id": "98cfcc0e",
   "metadata": {
    "id": "98cfcc0e"
   },
   "outputs": [],
   "source": [
    "drop_list = X_test[(X_test.question1.isna()) \n",
    "                      | (X_test.question2.isna()) |(X_test.clean_text_lemma_Q1.isna())|(X_test.clean_text_lemma_Q2.isna())].index.to_list()"
   ]
  },
  {
   "cell_type": "code",
   "execution_count": null,
   "id": "227cb35b",
   "metadata": {
    "id": "227cb35b"
   },
   "outputs": [],
   "source": [
    "X_test.drop(drop_list,axis = 0,inplace = True)"
   ]
  },
  {
   "cell_type": "code",
   "execution_count": null,
   "id": "0cd6906c",
   "metadata": {
    "id": "0cd6906c"
   },
   "outputs": [],
   "source": [
    "X_test.reset_index(inplace = True,drop = 'first')"
   ]
  },
  {
   "cell_type": "code",
   "execution_count": null,
   "id": "b1025bbd",
   "metadata": {
    "colab": {
     "base_uri": "https://localhost:8080/"
    },
    "id": "b1025bbd",
    "outputId": "c640a2f2-aa25-40b8-809e-4a3d3c925fad"
   },
   "outputs": [
    {
     "data": {
      "text/plain": [
       "(80802, 6)"
      ]
     },
     "execution_count": 47,
     "metadata": {},
     "output_type": "execute_result"
    },
    {
     "name": "stdout",
     "output_type": "stream",
     "text": [
      "<class 'pandas.core.frame.DataFrame'>\n",
      "RangeIndex: 80802 entries, 0 to 80801\n",
      "Data columns (total 6 columns):\n",
      " #   Column                Non-Null Count  Dtype \n",
      "---  ------                --------------  ----- \n",
      " 0   question1             80802 non-null  object\n",
      " 1   question2             80802 non-null  object\n",
      " 2   clean_text_lemma_Q1   80802 non-null  object\n",
      " 3   text_length_lemma_Q1  80802 non-null  int64 \n",
      " 4   clean_text_lemma_Q2   80802 non-null  object\n",
      " 5   text_length_lemma_Q2  80802 non-null  int64 \n",
      "dtypes: int64(2), object(4)\n",
      "memory usage: 3.7+ MB\n"
     ]
    }
   ],
   "source": [
    "# Before dropping NaN values shape (80858, 6)\n",
    "X_test.shape\n",
    "X_test.info()"
   ]
  },
  {
   "cell_type": "code",
   "execution_count": null,
   "id": "ec0db927",
   "metadata": {
    "id": "ec0db927"
   },
   "outputs": [],
   "source": [
    "# We have to remove the rows that present in X_test data\n",
    "y_test.drop(drop_list,axis = 0,inplace = True)\n",
    "y_test.reset_index(inplace = True, drop = 'first')"
   ]
  },
  {
   "cell_type": "code",
   "execution_count": null,
   "id": "e5edd465",
   "metadata": {
    "colab": {
     "base_uri": "https://localhost:8080/"
    },
    "id": "e5edd465",
    "outputId": "1422ccaf-048a-4eb8-c1ab-c9330d2919b6"
   },
   "outputs": [
    {
     "data": {
      "text/plain": [
       "(80802, 1)"
      ]
     },
     "execution_count": 49,
     "metadata": {},
     "output_type": "execute_result"
    },
    {
     "data": {
      "text/plain": [
       "pandas.core.frame.DataFrame"
      ]
     },
     "execution_count": 49,
     "metadata": {},
     "output_type": "execute_result"
    }
   ],
   "source": [
    "# Before dropping NaN values shape (80858, 1)\n",
    "y_test.shape\n",
    "type(y_test)"
   ]
  },
  {
   "cell_type": "markdown",
   "id": "w2SStrvIbVqQ",
   "metadata": {
    "id": "w2SStrvIbVqQ"
   },
   "source": [
    "### **Cleaning questions**"
   ]
  },
  {
   "cell_type": "code",
   "execution_count": null,
   "id": "7Fc6JWuerYLL",
   "metadata": {
    "id": "7Fc6JWuerYLL"
   },
   "outputs": [],
   "source": [
    "def preprocessing(raw_text):\n",
    "    # Removing special characters and digits\n",
    "    sentence = re.sub(\"[^a-zA-Z]\", \" \", raw_text)\n",
    "    \n",
    "    # change sentence to lower case\n",
    "    sentence = sentence.lower()\n",
    "    return pd.Series(sentence)"
   ]
  },
  {
   "cell_type": "code",
   "execution_count": null,
   "id": "XWe5eMGKrxRH",
   "metadata": {
    "colab": {
     "base_uri": "https://localhost:8080/"
    },
    "id": "XWe5eMGKrxRH",
    "outputId": "8830f3c9-0a7b-408c-c197-e2ec1a5e7a04"
   },
   "outputs": [
    {
     "name": "stderr",
     "output_type": "stream",
     "text": [
      "100%|██████████| 323208/323208 [00:55<00:00, 5773.77it/s] \n"
     ]
    }
   ],
   "source": [
    "X_train['clean_text_Q1'] = X_train['question1'].progress_apply(lambda x :preprocessing(x))"
   ]
  },
  {
   "cell_type": "code",
   "execution_count": null,
   "id": "QBuhDFQSrxlQ",
   "metadata": {
    "colab": {
     "base_uri": "https://localhost:8080/"
    },
    "id": "QBuhDFQSrxlQ",
    "outputId": "47f871ea-6abe-49cb-c5b5-095da9a7a097"
   },
   "outputs": [
    {
     "name": "stderr",
     "output_type": "stream",
     "text": [
      "100%|██████████| 323208/323208 [00:50<00:00, 6380.66it/s] \n"
     ]
    }
   ],
   "source": [
    "X_train['clean_text_Q2'] = X_train['question2'].progress_apply(lambda x :preprocessing(x))"
   ]
  },
  {
   "cell_type": "markdown",
   "id": "kuuipnslxoKJ",
   "metadata": {
    "id": "kuuipnslxoKJ"
   },
   "source": [
    "## **Tokenization**"
   ]
  },
  {
   "cell_type": "code",
   "execution_count": null,
   "id": "DEqPR-uO9m6j",
   "metadata": {
    "colab": {
     "base_uri": "https://localhost:8080/"
    },
    "id": "DEqPR-uO9m6j",
    "outputId": "855a9bcb-854f-4b6f-c6d2-f6a5cbefeaf7"
   },
   "outputs": [
    {
     "name": "stderr",
     "output_type": "stream",
     "text": [
      "[nltk_data] Downloading package punkt to /root/nltk_data...\n",
      "[nltk_data]   Unzipping tokenizers/punkt.zip.\n"
     ]
    },
    {
     "data": {
      "text/plain": [
       "True"
      ]
     },
     "execution_count": 67,
     "metadata": {},
     "output_type": "execute_result"
    }
   ],
   "source": [
    " import nltk\n",
    " nltk.download('punkt')"
   ]
  },
  {
   "cell_type": "code",
   "execution_count": null,
   "id": "7W5eSYxZqz2c",
   "metadata": {
    "colab": {
     "base_uri": "https://localhost:8080/",
     "height": 634
    },
    "id": "7W5eSYxZqz2c",
    "outputId": "00bb3e7b-cfe1-4d81-f96e-a59037a0fdb2"
   },
   "outputs": [
    {
     "name": "stderr",
     "output_type": "stream",
     "text": [
      "100%|██████████| 323208/323208 [00:42<00:00, 7561.03it/s] \n"
     ]
    },
    {
     "data": {
      "text/html": [
       "\n",
       "  <div id=\"df-b44e87ad-9f4a-4490-8286-8d79d027e50f\">\n",
       "    <div class=\"colab-df-container\">\n",
       "      <div>\n",
       "<style scoped>\n",
       "    .dataframe tbody tr th:only-of-type {\n",
       "        vertical-align: middle;\n",
       "    }\n",
       "\n",
       "    .dataframe tbody tr th {\n",
       "        vertical-align: top;\n",
       "    }\n",
       "\n",
       "    .dataframe thead th {\n",
       "        text-align: right;\n",
       "    }\n",
       "</style>\n",
       "<table border=\"1\" class=\"dataframe\">\n",
       "  <thead>\n",
       "    <tr style=\"text-align: right;\">\n",
       "      <th></th>\n",
       "      <th>question1</th>\n",
       "      <th>question2</th>\n",
       "      <th>clean_text_lemma_Q1</th>\n",
       "      <th>text_length_lemma_Q1</th>\n",
       "      <th>clean_text_lemma_Q2</th>\n",
       "      <th>text_length_lemma_Q2</th>\n",
       "      <th>clean_text_Q1</th>\n",
       "      <th>clean_text_Q2</th>\n",
       "      <th>tokenizeQ1</th>\n",
       "    </tr>\n",
       "  </thead>\n",
       "  <tbody>\n",
       "    <tr>\n",
       "      <th>0</th>\n",
       "      <td>india  what are job options and future options...</td>\n",
       "      <td>jobs and careers in india  i am currently in m...</td>\n",
       "      <td>india job option future option low cgpa gradua...</td>\n",
       "      <td>12</td>\n",
       "      <td>job career india currently third year engineer...</td>\n",
       "      <td>28</td>\n",
       "      <td>india  what are job options and future options...</td>\n",
       "      <td>jobs and careers in india  i am currently in m...</td>\n",
       "      <td>[india, what, are, job, options, and, future, ...</td>\n",
       "    </tr>\n",
       "    <tr>\n",
       "      <th>1</th>\n",
       "      <td>which is world s best romantic movie</td>\n",
       "      <td>what is the best romantic movie of all time</td>\n",
       "      <td>world best romantic movie</td>\n",
       "      <td>4</td>\n",
       "      <td>best romantic movie time</td>\n",
       "      <td>4</td>\n",
       "      <td>which is world s best romantic movie</td>\n",
       "      <td>what is the best romantic movie of all time</td>\n",
       "      <td>[which, is, world, s, best, romantic, movie]</td>\n",
       "    </tr>\n",
       "    <tr>\n",
       "      <th>2</th>\n",
       "      <td>which is best place to live in hyderabad</td>\n",
       "      <td>which is best place to live hyderabad or mumbai</td>\n",
       "      <td>best place live hyderabad</td>\n",
       "      <td>4</td>\n",
       "      <td>best place live hyderabad mumbai</td>\n",
       "      <td>5</td>\n",
       "      <td>which is best place to live in hyderabad</td>\n",
       "      <td>which is best place to live hyderabad or mumbai</td>\n",
       "      <td>[which, is, best, place, to, live, in, hyderabad]</td>\n",
       "    </tr>\n",
       "    <tr>\n",
       "      <th>3</th>\n",
       "      <td>what should i do to be an athlete in a month</td>\n",
       "      <td>what is shop act licence</td>\n",
       "      <td>athlete month</td>\n",
       "      <td>2</td>\n",
       "      <td>shop act licence</td>\n",
       "      <td>3</td>\n",
       "      <td>what should i do to be an athlete in a month</td>\n",
       "      <td>what is shop act licence</td>\n",
       "      <td>[what, should, i, do, to, be, an, athlete, in,...</td>\n",
       "    </tr>\n",
       "    <tr>\n",
       "      <th>4</th>\n",
       "      <td>how do you learn to code on wordpress</td>\n",
       "      <td>in how much time can i learn to code a wordpre...</td>\n",
       "      <td>learn code wordpress</td>\n",
       "      <td>3</td>\n",
       "      <td>much time learn code wordpress website</td>\n",
       "      <td>6</td>\n",
       "      <td>how do you learn to code on wordpress</td>\n",
       "      <td>in how much time can i learn to code a wordpre...</td>\n",
       "      <td>[how, do, you, learn, to, code, on, wordpress]</td>\n",
       "    </tr>\n",
       "  </tbody>\n",
       "</table>\n",
       "</div>\n",
       "      <button class=\"colab-df-convert\" onclick=\"convertToInteractive('df-b44e87ad-9f4a-4490-8286-8d79d027e50f')\"\n",
       "              title=\"Convert this dataframe to an interactive table.\"\n",
       "              style=\"display:none;\">\n",
       "        \n",
       "  <svg xmlns=\"http://www.w3.org/2000/svg\" height=\"24px\"viewBox=\"0 0 24 24\"\n",
       "       width=\"24px\">\n",
       "    <path d=\"M0 0h24v24H0V0z\" fill=\"none\"/>\n",
       "    <path d=\"M18.56 5.44l.94 2.06.94-2.06 2.06-.94-2.06-.94-.94-2.06-.94 2.06-2.06.94zm-11 1L8.5 8.5l.94-2.06 2.06-.94-2.06-.94L8.5 2.5l-.94 2.06-2.06.94zm10 10l.94 2.06.94-2.06 2.06-.94-2.06-.94-.94-2.06-.94 2.06-2.06.94z\"/><path d=\"M17.41 7.96l-1.37-1.37c-.4-.4-.92-.59-1.43-.59-.52 0-1.04.2-1.43.59L10.3 9.45l-7.72 7.72c-.78.78-.78 2.05 0 2.83L4 21.41c.39.39.9.59 1.41.59.51 0 1.02-.2 1.41-.59l7.78-7.78 2.81-2.81c.8-.78.8-2.07 0-2.86zM5.41 20L4 18.59l7.72-7.72 1.47 1.35L5.41 20z\"/>\n",
       "  </svg>\n",
       "      </button>\n",
       "      \n",
       "  <style>\n",
       "    .colab-df-container {\n",
       "      display:flex;\n",
       "      flex-wrap:wrap;\n",
       "      gap: 12px;\n",
       "    }\n",
       "\n",
       "    .colab-df-convert {\n",
       "      background-color: #E8F0FE;\n",
       "      border: none;\n",
       "      border-radius: 50%;\n",
       "      cursor: pointer;\n",
       "      display: none;\n",
       "      fill: #1967D2;\n",
       "      height: 32px;\n",
       "      padding: 0 0 0 0;\n",
       "      width: 32px;\n",
       "    }\n",
       "\n",
       "    .colab-df-convert:hover {\n",
       "      background-color: #E2EBFA;\n",
       "      box-shadow: 0px 1px 2px rgba(60, 64, 67, 0.3), 0px 1px 3px 1px rgba(60, 64, 67, 0.15);\n",
       "      fill: #174EA6;\n",
       "    }\n",
       "\n",
       "    [theme=dark] .colab-df-convert {\n",
       "      background-color: #3B4455;\n",
       "      fill: #D2E3FC;\n",
       "    }\n",
       "\n",
       "    [theme=dark] .colab-df-convert:hover {\n",
       "      background-color: #434B5C;\n",
       "      box-shadow: 0px 1px 3px 1px rgba(0, 0, 0, 0.15);\n",
       "      filter: drop-shadow(0px 1px 2px rgba(0, 0, 0, 0.3));\n",
       "      fill: #FFFFFF;\n",
       "    }\n",
       "  </style>\n",
       "\n",
       "      <script>\n",
       "        const buttonEl =\n",
       "          document.querySelector('#df-b44e87ad-9f4a-4490-8286-8d79d027e50f button.colab-df-convert');\n",
       "        buttonEl.style.display =\n",
       "          google.colab.kernel.accessAllowed ? 'block' : 'none';\n",
       "\n",
       "        async function convertToInteractive(key) {\n",
       "          const element = document.querySelector('#df-b44e87ad-9f4a-4490-8286-8d79d027e50f');\n",
       "          const dataTable =\n",
       "            await google.colab.kernel.invokeFunction('convertToInteractive',\n",
       "                                                     [key], {});\n",
       "          if (!dataTable) return;\n",
       "\n",
       "          const docLinkHtml = 'Like what you see? Visit the ' +\n",
       "            '<a target=\"_blank\" href=https://colab.research.google.com/notebooks/data_table.ipynb>data table notebook</a>'\n",
       "            + ' to learn more about interactive tables.';\n",
       "          element.innerHTML = '';\n",
       "          dataTable['output_type'] = 'display_data';\n",
       "          await google.colab.output.renderOutput(dataTable, element);\n",
       "          const docLink = document.createElement('div');\n",
       "          docLink.innerHTML = docLinkHtml;\n",
       "          element.appendChild(docLink);\n",
       "        }\n",
       "      </script>\n",
       "    </div>\n",
       "  </div>\n",
       "  "
      ],
      "text/plain": [
       "                                           question1  \\\n",
       "0  india  what are job options and future options...   \n",
       "1               which is world s best romantic movie   \n",
       "2           which is best place to live in hyderabad   \n",
       "3       what should i do to be an athlete in a month   \n",
       "4              how do you learn to code on wordpress   \n",
       "\n",
       "                                           question2  \\\n",
       "0  jobs and careers in india  i am currently in m...   \n",
       "1        what is the best romantic movie of all time   \n",
       "2    which is best place to live hyderabad or mumbai   \n",
       "3                           what is shop act licence   \n",
       "4  in how much time can i learn to code a wordpre...   \n",
       "\n",
       "                                 clean_text_lemma_Q1  text_length_lemma_Q1  \\\n",
       "0  india job option future option low cgpa gradua...                    12   \n",
       "1                          world best romantic movie                     4   \n",
       "2                          best place live hyderabad                     4   \n",
       "3                                      athlete month                     2   \n",
       "4                               learn code wordpress                     3   \n",
       "\n",
       "                                 clean_text_lemma_Q2  text_length_lemma_Q2  \\\n",
       "0  job career india currently third year engineer...                    28   \n",
       "1                           best romantic movie time                     4   \n",
       "2                   best place live hyderabad mumbai                     5   \n",
       "3                                   shop act licence                     3   \n",
       "4             much time learn code wordpress website                     6   \n",
       "\n",
       "                                       clean_text_Q1  \\\n",
       "0  india  what are job options and future options...   \n",
       "1               which is world s best romantic movie   \n",
       "2           which is best place to live in hyderabad   \n",
       "3       what should i do to be an athlete in a month   \n",
       "4              how do you learn to code on wordpress   \n",
       "\n",
       "                                       clean_text_Q2  \\\n",
       "0  jobs and careers in india  i am currently in m...   \n",
       "1        what is the best romantic movie of all time   \n",
       "2    which is best place to live hyderabad or mumbai   \n",
       "3                           what is shop act licence   \n",
       "4  in how much time can i learn to code a wordpre...   \n",
       "\n",
       "                                          tokenizeQ1  \n",
       "0  [india, what, are, job, options, and, future, ...  \n",
       "1       [which, is, world, s, best, romantic, movie]  \n",
       "2  [which, is, best, place, to, live, in, hyderabad]  \n",
       "3  [what, should, i, do, to, be, an, athlete, in,...  \n",
       "4     [how, do, you, learn, to, code, on, wordpress]  "
      ]
     },
     "execution_count": 68,
     "metadata": {},
     "output_type": "execute_result"
    }
   ],
   "source": [
    "X_train['tokenizeQ1'] = X_train['clean_text_Q1'].progress_apply(nltk.word_tokenize)\n",
    "X_train.head()"
   ]
  },
  {
   "cell_type": "code",
   "execution_count": null,
   "id": "d_fu92k8q0UT",
   "metadata": {
    "colab": {
     "base_uri": "https://localhost:8080/",
     "height": 634
    },
    "id": "d_fu92k8q0UT",
    "outputId": "8ae266ea-ba49-49ce-e209-8dca72544e43"
   },
   "outputs": [
    {
     "name": "stderr",
     "output_type": "stream",
     "text": [
      "100%|██████████| 323208/323208 [00:42<00:00, 7663.78it/s]\n"
     ]
    },
    {
     "data": {
      "text/html": [
       "\n",
       "  <div id=\"df-52ad438d-9a5d-4fd3-acbe-0971b807879a\">\n",
       "    <div class=\"colab-df-container\">\n",
       "      <div>\n",
       "<style scoped>\n",
       "    .dataframe tbody tr th:only-of-type {\n",
       "        vertical-align: middle;\n",
       "    }\n",
       "\n",
       "    .dataframe tbody tr th {\n",
       "        vertical-align: top;\n",
       "    }\n",
       "\n",
       "    .dataframe thead th {\n",
       "        text-align: right;\n",
       "    }\n",
       "</style>\n",
       "<table border=\"1\" class=\"dataframe\">\n",
       "  <thead>\n",
       "    <tr style=\"text-align: right;\">\n",
       "      <th></th>\n",
       "      <th>question1</th>\n",
       "      <th>question2</th>\n",
       "      <th>clean_text_lemma_Q1</th>\n",
       "      <th>text_length_lemma_Q1</th>\n",
       "      <th>clean_text_lemma_Q2</th>\n",
       "      <th>text_length_lemma_Q2</th>\n",
       "      <th>clean_text_Q1</th>\n",
       "      <th>clean_text_Q2</th>\n",
       "      <th>tokenizeQ1</th>\n",
       "      <th>tokenizeQ2</th>\n",
       "    </tr>\n",
       "  </thead>\n",
       "  <tbody>\n",
       "    <tr>\n",
       "      <th>0</th>\n",
       "      <td>india  what are job options and future options...</td>\n",
       "      <td>jobs and careers in india  i am currently in m...</td>\n",
       "      <td>india job option future option low cgpa gradua...</td>\n",
       "      <td>12</td>\n",
       "      <td>job career india currently third year engineer...</td>\n",
       "      <td>28</td>\n",
       "      <td>india  what are job options and future options...</td>\n",
       "      <td>jobs and careers in india  i am currently in m...</td>\n",
       "      <td>[india, what, are, job, options, and, future, ...</td>\n",
       "      <td>[jobs, and, careers, in, india, i, am, current...</td>\n",
       "    </tr>\n",
       "    <tr>\n",
       "      <th>1</th>\n",
       "      <td>which is world s best romantic movie</td>\n",
       "      <td>what is the best romantic movie of all time</td>\n",
       "      <td>world best romantic movie</td>\n",
       "      <td>4</td>\n",
       "      <td>best romantic movie time</td>\n",
       "      <td>4</td>\n",
       "      <td>which is world s best romantic movie</td>\n",
       "      <td>what is the best romantic movie of all time</td>\n",
       "      <td>[which, is, world, s, best, romantic, movie]</td>\n",
       "      <td>[what, is, the, best, romantic, movie, of, all...</td>\n",
       "    </tr>\n",
       "    <tr>\n",
       "      <th>2</th>\n",
       "      <td>which is best place to live in hyderabad</td>\n",
       "      <td>which is best place to live hyderabad or mumbai</td>\n",
       "      <td>best place live hyderabad</td>\n",
       "      <td>4</td>\n",
       "      <td>best place live hyderabad mumbai</td>\n",
       "      <td>5</td>\n",
       "      <td>which is best place to live in hyderabad</td>\n",
       "      <td>which is best place to live hyderabad or mumbai</td>\n",
       "      <td>[which, is, best, place, to, live, in, hyderabad]</td>\n",
       "      <td>[which, is, best, place, to, live, hyderabad, ...</td>\n",
       "    </tr>\n",
       "    <tr>\n",
       "      <th>3</th>\n",
       "      <td>what should i do to be an athlete in a month</td>\n",
       "      <td>what is shop act licence</td>\n",
       "      <td>athlete month</td>\n",
       "      <td>2</td>\n",
       "      <td>shop act licence</td>\n",
       "      <td>3</td>\n",
       "      <td>what should i do to be an athlete in a month</td>\n",
       "      <td>what is shop act licence</td>\n",
       "      <td>[what, should, i, do, to, be, an, athlete, in,...</td>\n",
       "      <td>[what, is, shop, act, licence]</td>\n",
       "    </tr>\n",
       "    <tr>\n",
       "      <th>4</th>\n",
       "      <td>how do you learn to code on wordpress</td>\n",
       "      <td>in how much time can i learn to code a wordpre...</td>\n",
       "      <td>learn code wordpress</td>\n",
       "      <td>3</td>\n",
       "      <td>much time learn code wordpress website</td>\n",
       "      <td>6</td>\n",
       "      <td>how do you learn to code on wordpress</td>\n",
       "      <td>in how much time can i learn to code a wordpre...</td>\n",
       "      <td>[how, do, you, learn, to, code, on, wordpress]</td>\n",
       "      <td>[in, how, much, time, can, i, learn, to, code,...</td>\n",
       "    </tr>\n",
       "  </tbody>\n",
       "</table>\n",
       "</div>\n",
       "      <button class=\"colab-df-convert\" onclick=\"convertToInteractive('df-52ad438d-9a5d-4fd3-acbe-0971b807879a')\"\n",
       "              title=\"Convert this dataframe to an interactive table.\"\n",
       "              style=\"display:none;\">\n",
       "        \n",
       "  <svg xmlns=\"http://www.w3.org/2000/svg\" height=\"24px\"viewBox=\"0 0 24 24\"\n",
       "       width=\"24px\">\n",
       "    <path d=\"M0 0h24v24H0V0z\" fill=\"none\"/>\n",
       "    <path d=\"M18.56 5.44l.94 2.06.94-2.06 2.06-.94-2.06-.94-.94-2.06-.94 2.06-2.06.94zm-11 1L8.5 8.5l.94-2.06 2.06-.94-2.06-.94L8.5 2.5l-.94 2.06-2.06.94zm10 10l.94 2.06.94-2.06 2.06-.94-2.06-.94-.94-2.06-.94 2.06-2.06.94z\"/><path d=\"M17.41 7.96l-1.37-1.37c-.4-.4-.92-.59-1.43-.59-.52 0-1.04.2-1.43.59L10.3 9.45l-7.72 7.72c-.78.78-.78 2.05 0 2.83L4 21.41c.39.39.9.59 1.41.59.51 0 1.02-.2 1.41-.59l7.78-7.78 2.81-2.81c.8-.78.8-2.07 0-2.86zM5.41 20L4 18.59l7.72-7.72 1.47 1.35L5.41 20z\"/>\n",
       "  </svg>\n",
       "      </button>\n",
       "      \n",
       "  <style>\n",
       "    .colab-df-container {\n",
       "      display:flex;\n",
       "      flex-wrap:wrap;\n",
       "      gap: 12px;\n",
       "    }\n",
       "\n",
       "    .colab-df-convert {\n",
       "      background-color: #E8F0FE;\n",
       "      border: none;\n",
       "      border-radius: 50%;\n",
       "      cursor: pointer;\n",
       "      display: none;\n",
       "      fill: #1967D2;\n",
       "      height: 32px;\n",
       "      padding: 0 0 0 0;\n",
       "      width: 32px;\n",
       "    }\n",
       "\n",
       "    .colab-df-convert:hover {\n",
       "      background-color: #E2EBFA;\n",
       "      box-shadow: 0px 1px 2px rgba(60, 64, 67, 0.3), 0px 1px 3px 1px rgba(60, 64, 67, 0.15);\n",
       "      fill: #174EA6;\n",
       "    }\n",
       "\n",
       "    [theme=dark] .colab-df-convert {\n",
       "      background-color: #3B4455;\n",
       "      fill: #D2E3FC;\n",
       "    }\n",
       "\n",
       "    [theme=dark] .colab-df-convert:hover {\n",
       "      background-color: #434B5C;\n",
       "      box-shadow: 0px 1px 3px 1px rgba(0, 0, 0, 0.15);\n",
       "      filter: drop-shadow(0px 1px 2px rgba(0, 0, 0, 0.3));\n",
       "      fill: #FFFFFF;\n",
       "    }\n",
       "  </style>\n",
       "\n",
       "      <script>\n",
       "        const buttonEl =\n",
       "          document.querySelector('#df-52ad438d-9a5d-4fd3-acbe-0971b807879a button.colab-df-convert');\n",
       "        buttonEl.style.display =\n",
       "          google.colab.kernel.accessAllowed ? 'block' : 'none';\n",
       "\n",
       "        async function convertToInteractive(key) {\n",
       "          const element = document.querySelector('#df-52ad438d-9a5d-4fd3-acbe-0971b807879a');\n",
       "          const dataTable =\n",
       "            await google.colab.kernel.invokeFunction('convertToInteractive',\n",
       "                                                     [key], {});\n",
       "          if (!dataTable) return;\n",
       "\n",
       "          const docLinkHtml = 'Like what you see? Visit the ' +\n",
       "            '<a target=\"_blank\" href=https://colab.research.google.com/notebooks/data_table.ipynb>data table notebook</a>'\n",
       "            + ' to learn more about interactive tables.';\n",
       "          element.innerHTML = '';\n",
       "          dataTable['output_type'] = 'display_data';\n",
       "          await google.colab.output.renderOutput(dataTable, element);\n",
       "          const docLink = document.createElement('div');\n",
       "          docLink.innerHTML = docLinkHtml;\n",
       "          element.appendChild(docLink);\n",
       "        }\n",
       "      </script>\n",
       "    </div>\n",
       "  </div>\n",
       "  "
      ],
      "text/plain": [
       "                                           question1  \\\n",
       "0  india  what are job options and future options...   \n",
       "1               which is world s best romantic movie   \n",
       "2           which is best place to live in hyderabad   \n",
       "3       what should i do to be an athlete in a month   \n",
       "4              how do you learn to code on wordpress   \n",
       "\n",
       "                                           question2  \\\n",
       "0  jobs and careers in india  i am currently in m...   \n",
       "1        what is the best romantic movie of all time   \n",
       "2    which is best place to live hyderabad or mumbai   \n",
       "3                           what is shop act licence   \n",
       "4  in how much time can i learn to code a wordpre...   \n",
       "\n",
       "                                 clean_text_lemma_Q1  text_length_lemma_Q1  \\\n",
       "0  india job option future option low cgpa gradua...                    12   \n",
       "1                          world best romantic movie                     4   \n",
       "2                          best place live hyderabad                     4   \n",
       "3                                      athlete month                     2   \n",
       "4                               learn code wordpress                     3   \n",
       "\n",
       "                                 clean_text_lemma_Q2  text_length_lemma_Q2  \\\n",
       "0  job career india currently third year engineer...                    28   \n",
       "1                           best romantic movie time                     4   \n",
       "2                   best place live hyderabad mumbai                     5   \n",
       "3                                   shop act licence                     3   \n",
       "4             much time learn code wordpress website                     6   \n",
       "\n",
       "                                       clean_text_Q1  \\\n",
       "0  india  what are job options and future options...   \n",
       "1               which is world s best romantic movie   \n",
       "2           which is best place to live in hyderabad   \n",
       "3       what should i do to be an athlete in a month   \n",
       "4              how do you learn to code on wordpress   \n",
       "\n",
       "                                       clean_text_Q2  \\\n",
       "0  jobs and careers in india  i am currently in m...   \n",
       "1        what is the best romantic movie of all time   \n",
       "2    which is best place to live hyderabad or mumbai   \n",
       "3                           what is shop act licence   \n",
       "4  in how much time can i learn to code a wordpre...   \n",
       "\n",
       "                                          tokenizeQ1  \\\n",
       "0  [india, what, are, job, options, and, future, ...   \n",
       "1       [which, is, world, s, best, romantic, movie]   \n",
       "2  [which, is, best, place, to, live, in, hyderabad]   \n",
       "3  [what, should, i, do, to, be, an, athlete, in,...   \n",
       "4     [how, do, you, learn, to, code, on, wordpress]   \n",
       "\n",
       "                                          tokenizeQ2  \n",
       "0  [jobs, and, careers, in, india, i, am, current...  \n",
       "1  [what, is, the, best, romantic, movie, of, all...  \n",
       "2  [which, is, best, place, to, live, hyderabad, ...  \n",
       "3                     [what, is, shop, act, licence]  \n",
       "4  [in, how, much, time, can, i, learn, to, code,...  "
      ]
     },
     "execution_count": 69,
     "metadata": {},
     "output_type": "execute_result"
    }
   ],
   "source": [
    "X_train['tokenizeQ2'] = X_train['clean_text_Q2'].progress_apply(nltk.word_tokenize)\n",
    "X_train.head()"
   ]
  },
  {
   "cell_type": "markdown",
   "id": "7bAdKH_Cdthd",
   "metadata": {
    "id": "7bAdKH_Cdthd"
   },
   "source": [
    "## **Part-of-speech tagging**\n",
    "\n",
    "Part-of-speech tagging (***POS tagging***) is the task of tagging a word in a text with its part of speech.\n",
    "\n",
    "> A part of speech is a category of words with similar grammatical properties. Common English parts of speech are noun, verb, adjective, adverb, pronoun, preposition, conjunction, etc.\n",
    "\n"
   ]
  },
  {
   "cell_type": "code",
   "execution_count": null,
   "id": "avNfetFxmuPQ",
   "metadata": {
    "colab": {
     "base_uri": "https://localhost:8080/",
     "height": 669
    },
    "id": "avNfetFxmuPQ",
    "outputId": "288f732f-1a0c-47c6-b9f4-e0b1e5dff9b7"
   },
   "outputs": [
    {
     "name": "stderr",
     "output_type": "stream",
     "text": [
      "100%|██████████| 323208/323208 [04:43<00:00, 1140.15it/s]\n"
     ]
    },
    {
     "data": {
      "text/html": [
       "\n",
       "  <div id=\"df-d0a979bc-1cc7-4f9a-875f-e06852fe814c\">\n",
       "    <div class=\"colab-df-container\">\n",
       "      <div>\n",
       "<style scoped>\n",
       "    .dataframe tbody tr th:only-of-type {\n",
       "        vertical-align: middle;\n",
       "    }\n",
       "\n",
       "    .dataframe tbody tr th {\n",
       "        vertical-align: top;\n",
       "    }\n",
       "\n",
       "    .dataframe thead th {\n",
       "        text-align: right;\n",
       "    }\n",
       "</style>\n",
       "<table border=\"1\" class=\"dataframe\">\n",
       "  <thead>\n",
       "    <tr style=\"text-align: right;\">\n",
       "      <th></th>\n",
       "      <th>question1</th>\n",
       "      <th>question2</th>\n",
       "      <th>clean_text_lemma_Q1</th>\n",
       "      <th>text_length_lemma_Q1</th>\n",
       "      <th>clean_text_lemma_Q2</th>\n",
       "      <th>text_length_lemma_Q2</th>\n",
       "      <th>clean_text_Q1</th>\n",
       "      <th>clean_text_Q2</th>\n",
       "      <th>tokenizeQ1</th>\n",
       "      <th>tokenizeQ2</th>\n",
       "      <th>pos_tagsQ1</th>\n",
       "    </tr>\n",
       "  </thead>\n",
       "  <tbody>\n",
       "    <tr>\n",
       "      <th>0</th>\n",
       "      <td>india  what are job options and future options...</td>\n",
       "      <td>jobs and careers in india  i am currently in m...</td>\n",
       "      <td>india job option future option low cgpa gradua...</td>\n",
       "      <td>12</td>\n",
       "      <td>job career india currently third year engineer...</td>\n",
       "      <td>28</td>\n",
       "      <td>india  what are job options and future options...</td>\n",
       "      <td>jobs and careers in india  i am currently in m...</td>\n",
       "      <td>[india, what, are, job, options, and, future, ...</td>\n",
       "      <td>[jobs, and, careers, in, india, i, am, current...</td>\n",
       "      <td>[(india, VB), (what, WP), (are, VBP), (job, NN...</td>\n",
       "    </tr>\n",
       "    <tr>\n",
       "      <th>1</th>\n",
       "      <td>which is world s best romantic movie</td>\n",
       "      <td>what is the best romantic movie of all time</td>\n",
       "      <td>world best romantic movie</td>\n",
       "      <td>4</td>\n",
       "      <td>best romantic movie time</td>\n",
       "      <td>4</td>\n",
       "      <td>which is world s best romantic movie</td>\n",
       "      <td>what is the best romantic movie of all time</td>\n",
       "      <td>[which, is, world, s, best, romantic, movie]</td>\n",
       "      <td>[what, is, the, best, romantic, movie, of, all...</td>\n",
       "      <td>[(which, WDT), (is, VBZ), (world, NN), (s, NN)...</td>\n",
       "    </tr>\n",
       "    <tr>\n",
       "      <th>2</th>\n",
       "      <td>which is best place to live in hyderabad</td>\n",
       "      <td>which is best place to live hyderabad or mumbai</td>\n",
       "      <td>best place live hyderabad</td>\n",
       "      <td>4</td>\n",
       "      <td>best place live hyderabad mumbai</td>\n",
       "      <td>5</td>\n",
       "      <td>which is best place to live in hyderabad</td>\n",
       "      <td>which is best place to live hyderabad or mumbai</td>\n",
       "      <td>[which, is, best, place, to, live, in, hyderabad]</td>\n",
       "      <td>[which, is, best, place, to, live, hyderabad, ...</td>\n",
       "      <td>[(which, WDT), (is, VBZ), (best, RBS), (place,...</td>\n",
       "    </tr>\n",
       "    <tr>\n",
       "      <th>3</th>\n",
       "      <td>what should i do to be an athlete in a month</td>\n",
       "      <td>what is shop act licence</td>\n",
       "      <td>athlete month</td>\n",
       "      <td>2</td>\n",
       "      <td>shop act licence</td>\n",
       "      <td>3</td>\n",
       "      <td>what should i do to be an athlete in a month</td>\n",
       "      <td>what is shop act licence</td>\n",
       "      <td>[what, should, i, do, to, be, an, athlete, in,...</td>\n",
       "      <td>[what, is, shop, act, licence]</td>\n",
       "      <td>[(what, WP), (should, MD), (i, VB), (do, VB), ...</td>\n",
       "    </tr>\n",
       "    <tr>\n",
       "      <th>4</th>\n",
       "      <td>how do you learn to code on wordpress</td>\n",
       "      <td>in how much time can i learn to code a wordpre...</td>\n",
       "      <td>learn code wordpress</td>\n",
       "      <td>3</td>\n",
       "      <td>much time learn code wordpress website</td>\n",
       "      <td>6</td>\n",
       "      <td>how do you learn to code on wordpress</td>\n",
       "      <td>in how much time can i learn to code a wordpre...</td>\n",
       "      <td>[how, do, you, learn, to, code, on, wordpress]</td>\n",
       "      <td>[in, how, much, time, can, i, learn, to, code,...</td>\n",
       "      <td>[(how, WRB), (do, VB), (you, PRP), (learn, VB)...</td>\n",
       "    </tr>\n",
       "  </tbody>\n",
       "</table>\n",
       "</div>\n",
       "      <button class=\"colab-df-convert\" onclick=\"convertToInteractive('df-d0a979bc-1cc7-4f9a-875f-e06852fe814c')\"\n",
       "              title=\"Convert this dataframe to an interactive table.\"\n",
       "              style=\"display:none;\">\n",
       "        \n",
       "  <svg xmlns=\"http://www.w3.org/2000/svg\" height=\"24px\"viewBox=\"0 0 24 24\"\n",
       "       width=\"24px\">\n",
       "    <path d=\"M0 0h24v24H0V0z\" fill=\"none\"/>\n",
       "    <path d=\"M18.56 5.44l.94 2.06.94-2.06 2.06-.94-2.06-.94-.94-2.06-.94 2.06-2.06.94zm-11 1L8.5 8.5l.94-2.06 2.06-.94-2.06-.94L8.5 2.5l-.94 2.06-2.06.94zm10 10l.94 2.06.94-2.06 2.06-.94-2.06-.94-.94-2.06-.94 2.06-2.06.94z\"/><path d=\"M17.41 7.96l-1.37-1.37c-.4-.4-.92-.59-1.43-.59-.52 0-1.04.2-1.43.59L10.3 9.45l-7.72 7.72c-.78.78-.78 2.05 0 2.83L4 21.41c.39.39.9.59 1.41.59.51 0 1.02-.2 1.41-.59l7.78-7.78 2.81-2.81c.8-.78.8-2.07 0-2.86zM5.41 20L4 18.59l7.72-7.72 1.47 1.35L5.41 20z\"/>\n",
       "  </svg>\n",
       "      </button>\n",
       "      \n",
       "  <style>\n",
       "    .colab-df-container {\n",
       "      display:flex;\n",
       "      flex-wrap:wrap;\n",
       "      gap: 12px;\n",
       "    }\n",
       "\n",
       "    .colab-df-convert {\n",
       "      background-color: #E8F0FE;\n",
       "      border: none;\n",
       "      border-radius: 50%;\n",
       "      cursor: pointer;\n",
       "      display: none;\n",
       "      fill: #1967D2;\n",
       "      height: 32px;\n",
       "      padding: 0 0 0 0;\n",
       "      width: 32px;\n",
       "    }\n",
       "\n",
       "    .colab-df-convert:hover {\n",
       "      background-color: #E2EBFA;\n",
       "      box-shadow: 0px 1px 2px rgba(60, 64, 67, 0.3), 0px 1px 3px 1px rgba(60, 64, 67, 0.15);\n",
       "      fill: #174EA6;\n",
       "    }\n",
       "\n",
       "    [theme=dark] .colab-df-convert {\n",
       "      background-color: #3B4455;\n",
       "      fill: #D2E3FC;\n",
       "    }\n",
       "\n",
       "    [theme=dark] .colab-df-convert:hover {\n",
       "      background-color: #434B5C;\n",
       "      box-shadow: 0px 1px 3px 1px rgba(0, 0, 0, 0.15);\n",
       "      filter: drop-shadow(0px 1px 2px rgba(0, 0, 0, 0.3));\n",
       "      fill: #FFFFFF;\n",
       "    }\n",
       "  </style>\n",
       "\n",
       "      <script>\n",
       "        const buttonEl =\n",
       "          document.querySelector('#df-d0a979bc-1cc7-4f9a-875f-e06852fe814c button.colab-df-convert');\n",
       "        buttonEl.style.display =\n",
       "          google.colab.kernel.accessAllowed ? 'block' : 'none';\n",
       "\n",
       "        async function convertToInteractive(key) {\n",
       "          const element = document.querySelector('#df-d0a979bc-1cc7-4f9a-875f-e06852fe814c');\n",
       "          const dataTable =\n",
       "            await google.colab.kernel.invokeFunction('convertToInteractive',\n",
       "                                                     [key], {});\n",
       "          if (!dataTable) return;\n",
       "\n",
       "          const docLinkHtml = 'Like what you see? Visit the ' +\n",
       "            '<a target=\"_blank\" href=https://colab.research.google.com/notebooks/data_table.ipynb>data table notebook</a>'\n",
       "            + ' to learn more about interactive tables.';\n",
       "          element.innerHTML = '';\n",
       "          dataTable['output_type'] = 'display_data';\n",
       "          await google.colab.output.renderOutput(dataTable, element);\n",
       "          const docLink = document.createElement('div');\n",
       "          docLink.innerHTML = docLinkHtml;\n",
       "          element.appendChild(docLink);\n",
       "        }\n",
       "      </script>\n",
       "    </div>\n",
       "  </div>\n",
       "  "
      ],
      "text/plain": [
       "                                           question1  \\\n",
       "0  india  what are job options and future options...   \n",
       "1               which is world s best romantic movie   \n",
       "2           which is best place to live in hyderabad   \n",
       "3       what should i do to be an athlete in a month   \n",
       "4              how do you learn to code on wordpress   \n",
       "\n",
       "                                           question2  \\\n",
       "0  jobs and careers in india  i am currently in m...   \n",
       "1        what is the best romantic movie of all time   \n",
       "2    which is best place to live hyderabad or mumbai   \n",
       "3                           what is shop act licence   \n",
       "4  in how much time can i learn to code a wordpre...   \n",
       "\n",
       "                                 clean_text_lemma_Q1  text_length_lemma_Q1  \\\n",
       "0  india job option future option low cgpa gradua...                    12   \n",
       "1                          world best romantic movie                     4   \n",
       "2                          best place live hyderabad                     4   \n",
       "3                                      athlete month                     2   \n",
       "4                               learn code wordpress                     3   \n",
       "\n",
       "                                 clean_text_lemma_Q2  text_length_lemma_Q2  \\\n",
       "0  job career india currently third year engineer...                    28   \n",
       "1                           best romantic movie time                     4   \n",
       "2                   best place live hyderabad mumbai                     5   \n",
       "3                                   shop act licence                     3   \n",
       "4             much time learn code wordpress website                     6   \n",
       "\n",
       "                                       clean_text_Q1  \\\n",
       "0  india  what are job options and future options...   \n",
       "1               which is world s best romantic movie   \n",
       "2           which is best place to live in hyderabad   \n",
       "3       what should i do to be an athlete in a month   \n",
       "4              how do you learn to code on wordpress   \n",
       "\n",
       "                                       clean_text_Q2  \\\n",
       "0  jobs and careers in india  i am currently in m...   \n",
       "1        what is the best romantic movie of all time   \n",
       "2    which is best place to live hyderabad or mumbai   \n",
       "3                           what is shop act licence   \n",
       "4  in how much time can i learn to code a wordpre...   \n",
       "\n",
       "                                          tokenizeQ1  \\\n",
       "0  [india, what, are, job, options, and, future, ...   \n",
       "1       [which, is, world, s, best, romantic, movie]   \n",
       "2  [which, is, best, place, to, live, in, hyderabad]   \n",
       "3  [what, should, i, do, to, be, an, athlete, in,...   \n",
       "4     [how, do, you, learn, to, code, on, wordpress]   \n",
       "\n",
       "                                          tokenizeQ2  \\\n",
       "0  [jobs, and, careers, in, india, i, am, current...   \n",
       "1  [what, is, the, best, romantic, movie, of, all...   \n",
       "2  [which, is, best, place, to, live, hyderabad, ...   \n",
       "3                     [what, is, shop, act, licence]   \n",
       "4  [in, how, much, time, can, i, learn, to, code,...   \n",
       "\n",
       "                                          pos_tagsQ1  \n",
       "0  [(india, VB), (what, WP), (are, VBP), (job, NN...  \n",
       "1  [(which, WDT), (is, VBZ), (world, NN), (s, NN)...  \n",
       "2  [(which, WDT), (is, VBZ), (best, RBS), (place,...  \n",
       "3  [(what, WP), (should, MD), (i, VB), (do, VB), ...  \n",
       "4  [(how, WRB), (do, VB), (you, PRP), (learn, VB)...  "
      ]
     },
     "execution_count": 75,
     "metadata": {},
     "output_type": "execute_result"
    }
   ],
   "source": [
    "X_train['pos_tagsQ1'] = X_train['tokenizeQ1'].progress_apply(nltk.pos_tag)\n",
    "X_train.head()"
   ]
  },
  {
   "cell_type": "code",
   "execution_count": null,
   "id": "hup0dWuI3Bq_",
   "metadata": {
    "colab": {
     "base_uri": "https://localhost:8080/",
     "height": 686
    },
    "id": "hup0dWuI3Bq_",
    "outputId": "ac060c5e-00a6-4d65-8793-096a6c56b3a5"
   },
   "outputs": [
    {
     "name": "stderr",
     "output_type": "stream",
     "text": [
      "100%|██████████| 323208/323208 [04:17<00:00, 1254.26it/s]\n"
     ]
    },
    {
     "data": {
      "text/html": [
       "\n",
       "  <div id=\"df-3d981d88-1c99-4a09-b458-1b787d43efc1\">\n",
       "    <div class=\"colab-df-container\">\n",
       "      <div>\n",
       "<style scoped>\n",
       "    .dataframe tbody tr th:only-of-type {\n",
       "        vertical-align: middle;\n",
       "    }\n",
       "\n",
       "    .dataframe tbody tr th {\n",
       "        vertical-align: top;\n",
       "    }\n",
       "\n",
       "    .dataframe thead th {\n",
       "        text-align: right;\n",
       "    }\n",
       "</style>\n",
       "<table border=\"1\" class=\"dataframe\">\n",
       "  <thead>\n",
       "    <tr style=\"text-align: right;\">\n",
       "      <th></th>\n",
       "      <th>question1</th>\n",
       "      <th>question2</th>\n",
       "      <th>clean_text_lemma_Q1</th>\n",
       "      <th>text_length_lemma_Q1</th>\n",
       "      <th>clean_text_lemma_Q2</th>\n",
       "      <th>text_length_lemma_Q2</th>\n",
       "      <th>clean_text_Q1</th>\n",
       "      <th>clean_text_Q2</th>\n",
       "      <th>tokenizeQ1</th>\n",
       "      <th>tokenizeQ2</th>\n",
       "      <th>pos_tagsQ1</th>\n",
       "      <th>pos_tagsQ2</th>\n",
       "    </tr>\n",
       "  </thead>\n",
       "  <tbody>\n",
       "    <tr>\n",
       "      <th>0</th>\n",
       "      <td>india  what are job options and future options...</td>\n",
       "      <td>jobs and careers in india  i am currently in m...</td>\n",
       "      <td>india job option future option low cgpa gradua...</td>\n",
       "      <td>12</td>\n",
       "      <td>job career india currently third year engineer...</td>\n",
       "      <td>28</td>\n",
       "      <td>india  what are job options and future options...</td>\n",
       "      <td>jobs and careers in india  i am currently in m...</td>\n",
       "      <td>[india, what, are, job, options, and, future, ...</td>\n",
       "      <td>[jobs, and, careers, in, india, i, am, current...</td>\n",
       "      <td>[(india, VB), (what, WP), (are, VBP), (job, NN...</td>\n",
       "      <td>[(jobs, NNS), (and, CC), (careers, NNS), (in, ...</td>\n",
       "    </tr>\n",
       "    <tr>\n",
       "      <th>1</th>\n",
       "      <td>which is world s best romantic movie</td>\n",
       "      <td>what is the best romantic movie of all time</td>\n",
       "      <td>world best romantic movie</td>\n",
       "      <td>4</td>\n",
       "      <td>best romantic movie time</td>\n",
       "      <td>4</td>\n",
       "      <td>which is world s best romantic movie</td>\n",
       "      <td>what is the best romantic movie of all time</td>\n",
       "      <td>[which, is, world, s, best, romantic, movie]</td>\n",
       "      <td>[what, is, the, best, romantic, movie, of, all...</td>\n",
       "      <td>[(which, WDT), (is, VBZ), (world, NN), (s, NN)...</td>\n",
       "      <td>[(what, WP), (is, VBZ), (the, DT), (best, JJS)...</td>\n",
       "    </tr>\n",
       "    <tr>\n",
       "      <th>2</th>\n",
       "      <td>which is best place to live in hyderabad</td>\n",
       "      <td>which is best place to live hyderabad or mumbai</td>\n",
       "      <td>best place live hyderabad</td>\n",
       "      <td>4</td>\n",
       "      <td>best place live hyderabad mumbai</td>\n",
       "      <td>5</td>\n",
       "      <td>which is best place to live in hyderabad</td>\n",
       "      <td>which is best place to live hyderabad or mumbai</td>\n",
       "      <td>[which, is, best, place, to, live, in, hyderabad]</td>\n",
       "      <td>[which, is, best, place, to, live, hyderabad, ...</td>\n",
       "      <td>[(which, WDT), (is, VBZ), (best, RBS), (place,...</td>\n",
       "      <td>[(which, WDT), (is, VBZ), (best, RBS), (place,...</td>\n",
       "    </tr>\n",
       "    <tr>\n",
       "      <th>3</th>\n",
       "      <td>what should i do to be an athlete in a month</td>\n",
       "      <td>what is shop act licence</td>\n",
       "      <td>athlete month</td>\n",
       "      <td>2</td>\n",
       "      <td>shop act licence</td>\n",
       "      <td>3</td>\n",
       "      <td>what should i do to be an athlete in a month</td>\n",
       "      <td>what is shop act licence</td>\n",
       "      <td>[what, should, i, do, to, be, an, athlete, in,...</td>\n",
       "      <td>[what, is, shop, act, licence]</td>\n",
       "      <td>[(what, WP), (should, MD), (i, VB), (do, VB), ...</td>\n",
       "      <td>[(what, WP), (is, VBZ), (shop, VBN), (act, JJ)...</td>\n",
       "    </tr>\n",
       "    <tr>\n",
       "      <th>4</th>\n",
       "      <td>how do you learn to code on wordpress</td>\n",
       "      <td>in how much time can i learn to code a wordpre...</td>\n",
       "      <td>learn code wordpress</td>\n",
       "      <td>3</td>\n",
       "      <td>much time learn code wordpress website</td>\n",
       "      <td>6</td>\n",
       "      <td>how do you learn to code on wordpress</td>\n",
       "      <td>in how much time can i learn to code a wordpre...</td>\n",
       "      <td>[how, do, you, learn, to, code, on, wordpress]</td>\n",
       "      <td>[in, how, much, time, can, i, learn, to, code,...</td>\n",
       "      <td>[(how, WRB), (do, VB), (you, PRP), (learn, VB)...</td>\n",
       "      <td>[(in, IN), (how, WRB), (much, JJ), (time, NN),...</td>\n",
       "    </tr>\n",
       "  </tbody>\n",
       "</table>\n",
       "</div>\n",
       "      <button class=\"colab-df-convert\" onclick=\"convertToInteractive('df-3d981d88-1c99-4a09-b458-1b787d43efc1')\"\n",
       "              title=\"Convert this dataframe to an interactive table.\"\n",
       "              style=\"display:none;\">\n",
       "        \n",
       "  <svg xmlns=\"http://www.w3.org/2000/svg\" height=\"24px\"viewBox=\"0 0 24 24\"\n",
       "       width=\"24px\">\n",
       "    <path d=\"M0 0h24v24H0V0z\" fill=\"none\"/>\n",
       "    <path d=\"M18.56 5.44l.94 2.06.94-2.06 2.06-.94-2.06-.94-.94-2.06-.94 2.06-2.06.94zm-11 1L8.5 8.5l.94-2.06 2.06-.94-2.06-.94L8.5 2.5l-.94 2.06-2.06.94zm10 10l.94 2.06.94-2.06 2.06-.94-2.06-.94-.94-2.06-.94 2.06-2.06.94z\"/><path d=\"M17.41 7.96l-1.37-1.37c-.4-.4-.92-.59-1.43-.59-.52 0-1.04.2-1.43.59L10.3 9.45l-7.72 7.72c-.78.78-.78 2.05 0 2.83L4 21.41c.39.39.9.59 1.41.59.51 0 1.02-.2 1.41-.59l7.78-7.78 2.81-2.81c.8-.78.8-2.07 0-2.86zM5.41 20L4 18.59l7.72-7.72 1.47 1.35L5.41 20z\"/>\n",
       "  </svg>\n",
       "      </button>\n",
       "      \n",
       "  <style>\n",
       "    .colab-df-container {\n",
       "      display:flex;\n",
       "      flex-wrap:wrap;\n",
       "      gap: 12px;\n",
       "    }\n",
       "\n",
       "    .colab-df-convert {\n",
       "      background-color: #E8F0FE;\n",
       "      border: none;\n",
       "      border-radius: 50%;\n",
       "      cursor: pointer;\n",
       "      display: none;\n",
       "      fill: #1967D2;\n",
       "      height: 32px;\n",
       "      padding: 0 0 0 0;\n",
       "      width: 32px;\n",
       "    }\n",
       "\n",
       "    .colab-df-convert:hover {\n",
       "      background-color: #E2EBFA;\n",
       "      box-shadow: 0px 1px 2px rgba(60, 64, 67, 0.3), 0px 1px 3px 1px rgba(60, 64, 67, 0.15);\n",
       "      fill: #174EA6;\n",
       "    }\n",
       "\n",
       "    [theme=dark] .colab-df-convert {\n",
       "      background-color: #3B4455;\n",
       "      fill: #D2E3FC;\n",
       "    }\n",
       "\n",
       "    [theme=dark] .colab-df-convert:hover {\n",
       "      background-color: #434B5C;\n",
       "      box-shadow: 0px 1px 3px 1px rgba(0, 0, 0, 0.15);\n",
       "      filter: drop-shadow(0px 1px 2px rgba(0, 0, 0, 0.3));\n",
       "      fill: #FFFFFF;\n",
       "    }\n",
       "  </style>\n",
       "\n",
       "      <script>\n",
       "        const buttonEl =\n",
       "          document.querySelector('#df-3d981d88-1c99-4a09-b458-1b787d43efc1 button.colab-df-convert');\n",
       "        buttonEl.style.display =\n",
       "          google.colab.kernel.accessAllowed ? 'block' : 'none';\n",
       "\n",
       "        async function convertToInteractive(key) {\n",
       "          const element = document.querySelector('#df-3d981d88-1c99-4a09-b458-1b787d43efc1');\n",
       "          const dataTable =\n",
       "            await google.colab.kernel.invokeFunction('convertToInteractive',\n",
       "                                                     [key], {});\n",
       "          if (!dataTable) return;\n",
       "\n",
       "          const docLinkHtml = 'Like what you see? Visit the ' +\n",
       "            '<a target=\"_blank\" href=https://colab.research.google.com/notebooks/data_table.ipynb>data table notebook</a>'\n",
       "            + ' to learn more about interactive tables.';\n",
       "          element.innerHTML = '';\n",
       "          dataTable['output_type'] = 'display_data';\n",
       "          await google.colab.output.renderOutput(dataTable, element);\n",
       "          const docLink = document.createElement('div');\n",
       "          docLink.innerHTML = docLinkHtml;\n",
       "          element.appendChild(docLink);\n",
       "        }\n",
       "      </script>\n",
       "    </div>\n",
       "  </div>\n",
       "  "
      ],
      "text/plain": [
       "                                           question1  \\\n",
       "0  india  what are job options and future options...   \n",
       "1               which is world s best romantic movie   \n",
       "2           which is best place to live in hyderabad   \n",
       "3       what should i do to be an athlete in a month   \n",
       "4              how do you learn to code on wordpress   \n",
       "\n",
       "                                           question2  \\\n",
       "0  jobs and careers in india  i am currently in m...   \n",
       "1        what is the best romantic movie of all time   \n",
       "2    which is best place to live hyderabad or mumbai   \n",
       "3                           what is shop act licence   \n",
       "4  in how much time can i learn to code a wordpre...   \n",
       "\n",
       "                                 clean_text_lemma_Q1  text_length_lemma_Q1  \\\n",
       "0  india job option future option low cgpa gradua...                    12   \n",
       "1                          world best romantic movie                     4   \n",
       "2                          best place live hyderabad                     4   \n",
       "3                                      athlete month                     2   \n",
       "4                               learn code wordpress                     3   \n",
       "\n",
       "                                 clean_text_lemma_Q2  text_length_lemma_Q2  \\\n",
       "0  job career india currently third year engineer...                    28   \n",
       "1                           best romantic movie time                     4   \n",
       "2                   best place live hyderabad mumbai                     5   \n",
       "3                                   shop act licence                     3   \n",
       "4             much time learn code wordpress website                     6   \n",
       "\n",
       "                                       clean_text_Q1  \\\n",
       "0  india  what are job options and future options...   \n",
       "1               which is world s best romantic movie   \n",
       "2           which is best place to live in hyderabad   \n",
       "3       what should i do to be an athlete in a month   \n",
       "4              how do you learn to code on wordpress   \n",
       "\n",
       "                                       clean_text_Q2  \\\n",
       "0  jobs and careers in india  i am currently in m...   \n",
       "1        what is the best romantic movie of all time   \n",
       "2    which is best place to live hyderabad or mumbai   \n",
       "3                           what is shop act licence   \n",
       "4  in how much time can i learn to code a wordpre...   \n",
       "\n",
       "                                          tokenizeQ1  \\\n",
       "0  [india, what, are, job, options, and, future, ...   \n",
       "1       [which, is, world, s, best, romantic, movie]   \n",
       "2  [which, is, best, place, to, live, in, hyderabad]   \n",
       "3  [what, should, i, do, to, be, an, athlete, in,...   \n",
       "4     [how, do, you, learn, to, code, on, wordpress]   \n",
       "\n",
       "                                          tokenizeQ2  \\\n",
       "0  [jobs, and, careers, in, india, i, am, current...   \n",
       "1  [what, is, the, best, romantic, movie, of, all...   \n",
       "2  [which, is, best, place, to, live, hyderabad, ...   \n",
       "3                     [what, is, shop, act, licence]   \n",
       "4  [in, how, much, time, can, i, learn, to, code,...   \n",
       "\n",
       "                                          pos_tagsQ1  \\\n",
       "0  [(india, VB), (what, WP), (are, VBP), (job, NN...   \n",
       "1  [(which, WDT), (is, VBZ), (world, NN), (s, NN)...   \n",
       "2  [(which, WDT), (is, VBZ), (best, RBS), (place,...   \n",
       "3  [(what, WP), (should, MD), (i, VB), (do, VB), ...   \n",
       "4  [(how, WRB), (do, VB), (you, PRP), (learn, VB)...   \n",
       "\n",
       "                                          pos_tagsQ2  \n",
       "0  [(jobs, NNS), (and, CC), (careers, NNS), (in, ...  \n",
       "1  [(what, WP), (is, VBZ), (the, DT), (best, JJS)...  \n",
       "2  [(which, WDT), (is, VBZ), (best, RBS), (place,...  \n",
       "3  [(what, WP), (is, VBZ), (shop, VBN), (act, JJ)...  \n",
       "4  [(in, IN), (how, WRB), (much, JJ), (time, NN),...  "
      ]
     },
     "execution_count": 77,
     "metadata": {},
     "output_type": "execute_result"
    }
   ],
   "source": [
    "X_train['pos_tagsQ2'] = X_train['tokenizeQ2'].progress_apply(nltk.pos_tag)\n",
    "X_train.head()"
   ]
  },
  {
   "cell_type": "code",
   "execution_count": null,
   "id": "aALGGBnY3Bjn",
   "metadata": {
    "colab": {
     "base_uri": "https://localhost:8080/"
    },
    "id": "aALGGBnY3Bjn",
    "outputId": "5d61f906-3c0b-4763-b284-cec017fcbb26"
   },
   "outputs": [
    {
     "name": "stderr",
     "output_type": "stream",
     "text": [
      "100%|██████████| 80802/80802 [00:17<00:00, 4612.32it/s]\n",
      "100%|██████████| 80802/80802 [00:17<00:00, 4576.48it/s]\n",
      "100%|██████████| 80802/80802 [00:10<00:00, 7727.76it/s]\n",
      "100%|██████████| 80802/80802 [00:08<00:00, 9311.70it/s] \n",
      "100%|██████████| 80802/80802 [00:57<00:00, 1406.46it/s]\n",
      "100%|██████████| 80802/80802 [00:55<00:00, 1445.03it/s]\n"
     ]
    }
   ],
   "source": [
    "X_test['question1_clean'] = X_test['question1'].progress_apply(lambda x: preprocessing(x))\n",
    "X_test['question2_clean'] = X_test['question2'].progress_apply(lambda x: preprocessing(x))\n",
    "X_test['tokenizeQ1'] = X_test['question1_clean'].progress_apply(nltk.word_tokenize)\n",
    "X_test['tokenizeQ2'] = X_test['question2_clean'].progress_apply(nltk.word_tokenize)\n",
    "X_test['pos_tagsQ1'] = X_test['tokenizeQ1'].progress_apply(nltk.pos_tag)\n",
    "X_test['pos_tagsQ2'] = X_test['tokenizeQ2'].progress_apply(nltk.pos_tag)"
   ]
  },
  {
   "cell_type": "markdown",
   "id": "vzdMFbxOBh2c",
   "metadata": {
    "id": "vzdMFbxOBh2c"
   },
   "source": [
    "* CC    - Coordinating conjunction\n",
    "* CD\t- Cardinal number\n",
    "* DT\t- Determiner\n",
    "* EX\t- Existential there\n",
    "* FW\t- Foreign word\n",
    "* IN\t- Preposition or subordinating conjunction\n",
    "* JJ\t- Adjective\n",
    "* JJR\t- Adjective, comparative\n",
    "* JJS\t- Adjective, superlative\n",
    "* LS\t- List item marker\n",
    "* MD\t- Modal\n",
    "* NN\t- Noun, singular or mass\n",
    "* NNS\t- Noun, plural\n",
    "* NNP\t- Proper noun, singular\n",
    "* NNPS\t- Proper noun, plural\n",
    "* PDT\t- Predeterminer\n",
    "* POS\t- Possessive ending\n",
    "* PRP\t- Personal pronoun\n",
    "* PRP$  - Possessive pronoun\n",
    "\n",
    "\n"
   ]
  },
  {
   "cell_type": "markdown",
   "id": "LxkNccdlCfNg",
   "metadata": {
    "id": "LxkNccdlCfNg"
   },
   "source": [
    "* RB\t- Adverb\n",
    "* RBR\t- Adverb, comparative\n",
    "* RBS\t- Adverb, superlative\n",
    "* RP\t- Particle\n",
    "* SYM\t- Symbol\n",
    "* TO\t- to\n",
    "* UH\t- Interjection\n",
    "* VB\t- Verb, base form\n",
    "* VBD\t- Verb, past tense\n",
    "* VBG\t- Verb, gerund or present participle\n",
    "* VBN\t- Verb, past participle\n",
    "* VBP\t- Verb, non-3rd person singular present\n",
    "* VBZ\t- Verb, 3rd person singular present\n",
    "* WDT\t- Wh-determiner\n",
    "* WP\t- Wh-pronoun\n",
    "* WP$\t- Possessive wh-pronoun\n",
    "* WRB\t- Wh-adverb"
   ]
  },
  {
   "cell_type": "code",
   "execution_count": null,
   "id": "C_5UG15R3BVF",
   "metadata": {
    "colab": {
     "base_uri": "https://localhost:8080/",
     "height": 394
    },
    "id": "C_5UG15R3BVF",
    "outputId": "1a802112-d4d1-4cec-f8bc-6a05b7541aca"
   },
   "outputs": [
    {
     "data": {
      "text/html": [
       "\n",
       "  <div id=\"df-4e6be596-e0ba-46c7-881d-9249b433d42a\">\n",
       "    <div class=\"colab-df-container\">\n",
       "      <div>\n",
       "<style scoped>\n",
       "    .dataframe tbody tr th:only-of-type {\n",
       "        vertical-align: middle;\n",
       "    }\n",
       "\n",
       "    .dataframe tbody tr th {\n",
       "        vertical-align: top;\n",
       "    }\n",
       "\n",
       "    .dataframe thead th {\n",
       "        text-align: right;\n",
       "    }\n",
       "</style>\n",
       "<table border=\"1\" class=\"dataframe\">\n",
       "  <thead>\n",
       "    <tr style=\"text-align: right;\">\n",
       "      <th></th>\n",
       "      <th>pos_tagsQ2</th>\n",
       "    </tr>\n",
       "  </thead>\n",
       "  <tbody>\n",
       "    <tr>\n",
       "      <th>0</th>\n",
       "      <td>[(jobs, NNS), (and, CC), (careers, NNS), (in, ...</td>\n",
       "    </tr>\n",
       "    <tr>\n",
       "      <th>1</th>\n",
       "      <td>[(what, WP), (is, VBZ), (the, DT), (best, JJS)...</td>\n",
       "    </tr>\n",
       "    <tr>\n",
       "      <th>2</th>\n",
       "      <td>[(which, WDT), (is, VBZ), (best, RBS), (place,...</td>\n",
       "    </tr>\n",
       "    <tr>\n",
       "      <th>3</th>\n",
       "      <td>[(what, WP), (is, VBZ), (shop, VBN), (act, JJ)...</td>\n",
       "    </tr>\n",
       "    <tr>\n",
       "      <th>4</th>\n",
       "      <td>[(in, IN), (how, WRB), (much, JJ), (time, NN),...</td>\n",
       "    </tr>\n",
       "    <tr>\n",
       "      <th>5</th>\n",
       "      <td>[(over, IN), (what, WP), (types, NNS), (of, IN...</td>\n",
       "    </tr>\n",
       "    <tr>\n",
       "      <th>6</th>\n",
       "      <td>[(why, WRB), (do, VBP), (not, RB), (we, PRP), ...</td>\n",
       "    </tr>\n",
       "    <tr>\n",
       "      <th>7</th>\n",
       "      <td>[(how, WRB), (do, VB), (you, PRP), (find, VB),...</td>\n",
       "    </tr>\n",
       "    <tr>\n",
       "      <th>8</th>\n",
       "      <td>[(can, MD), (i, VB), (do, VBP), (pan, VB), (ca...</td>\n",
       "    </tr>\n",
       "    <tr>\n",
       "      <th>9</th>\n",
       "      <td>[(when, WRB), (people, NNS), (sue, VBP), (the,...</td>\n",
       "    </tr>\n",
       "    <tr>\n",
       "      <th>10</th>\n",
       "      <td>[(does, VBZ), (height, JJ), (increase, NN), (a...</td>\n",
       "    </tr>\n",
       "  </tbody>\n",
       "</table>\n",
       "</div>\n",
       "      <button class=\"colab-df-convert\" onclick=\"convertToInteractive('df-4e6be596-e0ba-46c7-881d-9249b433d42a')\"\n",
       "              title=\"Convert this dataframe to an interactive table.\"\n",
       "              style=\"display:none;\">\n",
       "        \n",
       "  <svg xmlns=\"http://www.w3.org/2000/svg\" height=\"24px\"viewBox=\"0 0 24 24\"\n",
       "       width=\"24px\">\n",
       "    <path d=\"M0 0h24v24H0V0z\" fill=\"none\"/>\n",
       "    <path d=\"M18.56 5.44l.94 2.06.94-2.06 2.06-.94-2.06-.94-.94-2.06-.94 2.06-2.06.94zm-11 1L8.5 8.5l.94-2.06 2.06-.94-2.06-.94L8.5 2.5l-.94 2.06-2.06.94zm10 10l.94 2.06.94-2.06 2.06-.94-2.06-.94-.94-2.06-.94 2.06-2.06.94z\"/><path d=\"M17.41 7.96l-1.37-1.37c-.4-.4-.92-.59-1.43-.59-.52 0-1.04.2-1.43.59L10.3 9.45l-7.72 7.72c-.78.78-.78 2.05 0 2.83L4 21.41c.39.39.9.59 1.41.59.51 0 1.02-.2 1.41-.59l7.78-7.78 2.81-2.81c.8-.78.8-2.07 0-2.86zM5.41 20L4 18.59l7.72-7.72 1.47 1.35L5.41 20z\"/>\n",
       "  </svg>\n",
       "      </button>\n",
       "      \n",
       "  <style>\n",
       "    .colab-df-container {\n",
       "      display:flex;\n",
       "      flex-wrap:wrap;\n",
       "      gap: 12px;\n",
       "    }\n",
       "\n",
       "    .colab-df-convert {\n",
       "      background-color: #E8F0FE;\n",
       "      border: none;\n",
       "      border-radius: 50%;\n",
       "      cursor: pointer;\n",
       "      display: none;\n",
       "      fill: #1967D2;\n",
       "      height: 32px;\n",
       "      padding: 0 0 0 0;\n",
       "      width: 32px;\n",
       "    }\n",
       "\n",
       "    .colab-df-convert:hover {\n",
       "      background-color: #E2EBFA;\n",
       "      box-shadow: 0px 1px 2px rgba(60, 64, 67, 0.3), 0px 1px 3px 1px rgba(60, 64, 67, 0.15);\n",
       "      fill: #174EA6;\n",
       "    }\n",
       "\n",
       "    [theme=dark] .colab-df-convert {\n",
       "      background-color: #3B4455;\n",
       "      fill: #D2E3FC;\n",
       "    }\n",
       "\n",
       "    [theme=dark] .colab-df-convert:hover {\n",
       "      background-color: #434B5C;\n",
       "      box-shadow: 0px 1px 3px 1px rgba(0, 0, 0, 0.15);\n",
       "      filter: drop-shadow(0px 1px 2px rgba(0, 0, 0, 0.3));\n",
       "      fill: #FFFFFF;\n",
       "    }\n",
       "  </style>\n",
       "\n",
       "      <script>\n",
       "        const buttonEl =\n",
       "          document.querySelector('#df-4e6be596-e0ba-46c7-881d-9249b433d42a button.colab-df-convert');\n",
       "        buttonEl.style.display =\n",
       "          google.colab.kernel.accessAllowed ? 'block' : 'none';\n",
       "\n",
       "        async function convertToInteractive(key) {\n",
       "          const element = document.querySelector('#df-4e6be596-e0ba-46c7-881d-9249b433d42a');\n",
       "          const dataTable =\n",
       "            await google.colab.kernel.invokeFunction('convertToInteractive',\n",
       "                                                     [key], {});\n",
       "          if (!dataTable) return;\n",
       "\n",
       "          const docLinkHtml = 'Like what you see? Visit the ' +\n",
       "            '<a target=\"_blank\" href=https://colab.research.google.com/notebooks/data_table.ipynb>data table notebook</a>'\n",
       "            + ' to learn more about interactive tables.';\n",
       "          element.innerHTML = '';\n",
       "          dataTable['output_type'] = 'display_data';\n",
       "          await google.colab.output.renderOutput(dataTable, element);\n",
       "          const docLink = document.createElement('div');\n",
       "          docLink.innerHTML = docLinkHtml;\n",
       "          element.appendChild(docLink);\n",
       "        }\n",
       "      </script>\n",
       "    </div>\n",
       "  </div>\n",
       "  "
      ],
      "text/plain": [
       "                                           pos_tagsQ2\n",
       "0   [(jobs, NNS), (and, CC), (careers, NNS), (in, ...\n",
       "1   [(what, WP), (is, VBZ), (the, DT), (best, JJS)...\n",
       "2   [(which, WDT), (is, VBZ), (best, RBS), (place,...\n",
       "3   [(what, WP), (is, VBZ), (shop, VBN), (act, JJ)...\n",
       "4   [(in, IN), (how, WRB), (much, JJ), (time, NN),...\n",
       "5   [(over, IN), (what, WP), (types, NNS), (of, IN...\n",
       "6   [(why, WRB), (do, VBP), (not, RB), (we, PRP), ...\n",
       "7   [(how, WRB), (do, VB), (you, PRP), (find, VB),...\n",
       "8   [(can, MD), (i, VB), (do, VBP), (pan, VB), (ca...\n",
       "9   [(when, WRB), (people, NNS), (sue, VBP), (the,...\n",
       "10  [(does, VBZ), (height, JJ), (increase, NN), (a..."
      ]
     },
     "execution_count": 78,
     "metadata": {},
     "output_type": "execute_result"
    }
   ],
   "source": [
    "X_train.iloc[0:11 , -1:] # extract only the last column as a data frame"
   ]
  },
  {
   "cell_type": "markdown",
   "id": "9633e18e",
   "metadata": {},
   "source": [
    "# Text to Numerical Representation"
   ]
  },
  {
   "cell_type": "code",
   "execution_count": null,
   "id": "2etohCXyaW4i",
   "metadata": {
    "id": "2etohCXyaW4i"
   },
   "outputs": [],
   "source": [
    "# We have to convert into series Using Squeeze()\n",
    "\n",
    "y_train = y_train.squeeze()\n",
    "y_test = y_test.squeeze()"
   ]
  },
  {
   "cell_type": "code",
   "execution_count": null,
   "id": "GLrDCcvxmbt-",
   "metadata": {
    "id": "GLrDCcvxmbt-"
   },
   "outputs": [],
   "source": [
    "# Classfication\n",
    "from sklearn.linear_model import LogisticRegression\n",
    "from sklearn.tree import DecisionTreeClassifier\n",
    "from sklearn.ensemble import GradientBoostingClassifier\n",
    "from sklearn.ensemble import AdaBoostClassifier\n",
    "import xgboost as xgb"
   ]
  },
  {
   "cell_type": "code",
   "execution_count": null,
   "id": "PWs_sga8mzdU",
   "metadata": {
    "id": "PWs_sga8mzdU"
   },
   "outputs": [],
   "source": [
    "# Evaluation metrics\n",
    "from sklearn import metrics\n",
    "from sklearn.metrics import accuracy_score, classification_report ,confusion_matrix,f1_score"
   ]
  },
  {
   "cell_type": "markdown",
   "id": "cWLZPFJqdjT7",
   "metadata": {
    "id": "cWLZPFJqdjT7"
   },
   "source": [
    "## **Bag of Words**"
   ]
  },
  {
   "cell_type": "code",
   "execution_count": null,
   "id": "tRITyxiAoT8z",
   "metadata": {
    "colab": {
     "base_uri": "https://localhost:8080/",
     "height": 214
    },
    "id": "tRITyxiAoT8z",
    "outputId": "efe1effa-0dfb-4da9-f77e-64c637ea931b"
   },
   "outputs": [
    {
     "data": {
      "text/html": [
       "\n",
       "  <div id=\"df-08b363b5-575b-4d63-9c31-1d4dd82bb4ed\">\n",
       "    <div class=\"colab-df-container\">\n",
       "      <div>\n",
       "<style scoped>\n",
       "    .dataframe tbody tr th:only-of-type {\n",
       "        vertical-align: middle;\n",
       "    }\n",
       "\n",
       "    .dataframe tbody tr th {\n",
       "        vertical-align: top;\n",
       "    }\n",
       "\n",
       "    .dataframe thead th {\n",
       "        text-align: right;\n",
       "    }\n",
       "</style>\n",
       "<table border=\"1\" class=\"dataframe\">\n",
       "  <thead>\n",
       "    <tr style=\"text-align: right;\">\n",
       "      <th></th>\n",
       "      <th>question1</th>\n",
       "      <th>question2</th>\n",
       "      <th>clean_text_lemma_Q1</th>\n",
       "      <th>text_length_lemma_Q1</th>\n",
       "      <th>clean_text_lemma_Q2</th>\n",
       "      <th>text_length_lemma_Q2</th>\n",
       "      <th>clean_text_Q1</th>\n",
       "      <th>clean_text_Q2</th>\n",
       "      <th>tokenizeQ1</th>\n",
       "      <th>tokenizeQ2</th>\n",
       "      <th>pos_tagsQ1</th>\n",
       "      <th>pos_tagsQ2</th>\n",
       "    </tr>\n",
       "  </thead>\n",
       "  <tbody>\n",
       "    <tr>\n",
       "      <th>0</th>\n",
       "      <td>india  what are job options and future options...</td>\n",
       "      <td>jobs and careers in india  i am currently in m...</td>\n",
       "      <td>india job option future option low cgpa gradua...</td>\n",
       "      <td>12</td>\n",
       "      <td>job career india currently third year engineer...</td>\n",
       "      <td>28</td>\n",
       "      <td>india  what are job options and future options...</td>\n",
       "      <td>jobs and careers in india  i am currently in m...</td>\n",
       "      <td>['india', 'what', 'are', 'job', 'options', 'an...</td>\n",
       "      <td>['jobs', 'and', 'careers', 'in', 'india', 'i',...</td>\n",
       "      <td>[('india', 'VB'), ('what', 'WP'), ('are', 'VBP...</td>\n",
       "      <td>[('jobs', 'NNS'), ('and', 'CC'), ('careers', '...</td>\n",
       "    </tr>\n",
       "  </tbody>\n",
       "</table>\n",
       "</div>\n",
       "      <button class=\"colab-df-convert\" onclick=\"convertToInteractive('df-08b363b5-575b-4d63-9c31-1d4dd82bb4ed')\"\n",
       "              title=\"Convert this dataframe to an interactive table.\"\n",
       "              style=\"display:none;\">\n",
       "        \n",
       "  <svg xmlns=\"http://www.w3.org/2000/svg\" height=\"24px\"viewBox=\"0 0 24 24\"\n",
       "       width=\"24px\">\n",
       "    <path d=\"M0 0h24v24H0V0z\" fill=\"none\"/>\n",
       "    <path d=\"M18.56 5.44l.94 2.06.94-2.06 2.06-.94-2.06-.94-.94-2.06-.94 2.06-2.06.94zm-11 1L8.5 8.5l.94-2.06 2.06-.94-2.06-.94L8.5 2.5l-.94 2.06-2.06.94zm10 10l.94 2.06.94-2.06 2.06-.94-2.06-.94-.94-2.06-.94 2.06-2.06.94z\"/><path d=\"M17.41 7.96l-1.37-1.37c-.4-.4-.92-.59-1.43-.59-.52 0-1.04.2-1.43.59L10.3 9.45l-7.72 7.72c-.78.78-.78 2.05 0 2.83L4 21.41c.39.39.9.59 1.41.59.51 0 1.02-.2 1.41-.59l7.78-7.78 2.81-2.81c.8-.78.8-2.07 0-2.86zM5.41 20L4 18.59l7.72-7.72 1.47 1.35L5.41 20z\"/>\n",
       "  </svg>\n",
       "      </button>\n",
       "      \n",
       "  <style>\n",
       "    .colab-df-container {\n",
       "      display:flex;\n",
       "      flex-wrap:wrap;\n",
       "      gap: 12px;\n",
       "    }\n",
       "\n",
       "    .colab-df-convert {\n",
       "      background-color: #E8F0FE;\n",
       "      border: none;\n",
       "      border-radius: 50%;\n",
       "      cursor: pointer;\n",
       "      display: none;\n",
       "      fill: #1967D2;\n",
       "      height: 32px;\n",
       "      padding: 0 0 0 0;\n",
       "      width: 32px;\n",
       "    }\n",
       "\n",
       "    .colab-df-convert:hover {\n",
       "      background-color: #E2EBFA;\n",
       "      box-shadow: 0px 1px 2px rgba(60, 64, 67, 0.3), 0px 1px 3px 1px rgba(60, 64, 67, 0.15);\n",
       "      fill: #174EA6;\n",
       "    }\n",
       "\n",
       "    [theme=dark] .colab-df-convert {\n",
       "      background-color: #3B4455;\n",
       "      fill: #D2E3FC;\n",
       "    }\n",
       "\n",
       "    [theme=dark] .colab-df-convert:hover {\n",
       "      background-color: #434B5C;\n",
       "      box-shadow: 0px 1px 3px 1px rgba(0, 0, 0, 0.15);\n",
       "      filter: drop-shadow(0px 1px 2px rgba(0, 0, 0, 0.3));\n",
       "      fill: #FFFFFF;\n",
       "    }\n",
       "  </style>\n",
       "\n",
       "      <script>\n",
       "        const buttonEl =\n",
       "          document.querySelector('#df-08b363b5-575b-4d63-9c31-1d4dd82bb4ed button.colab-df-convert');\n",
       "        buttonEl.style.display =\n",
       "          google.colab.kernel.accessAllowed ? 'block' : 'none';\n",
       "\n",
       "        async function convertToInteractive(key) {\n",
       "          const element = document.querySelector('#df-08b363b5-575b-4d63-9c31-1d4dd82bb4ed');\n",
       "          const dataTable =\n",
       "            await google.colab.kernel.invokeFunction('convertToInteractive',\n",
       "                                                     [key], {});\n",
       "          if (!dataTable) return;\n",
       "\n",
       "          const docLinkHtml = 'Like what you see? Visit the ' +\n",
       "            '<a target=\"_blank\" href=https://colab.research.google.com/notebooks/data_table.ipynb>data table notebook</a>'\n",
       "            + ' to learn more about interactive tables.';\n",
       "          element.innerHTML = '';\n",
       "          dataTable['output_type'] = 'display_data';\n",
       "          await google.colab.output.renderOutput(dataTable, element);\n",
       "          const docLink = document.createElement('div');\n",
       "          docLink.innerHTML = docLinkHtml;\n",
       "          element.appendChild(docLink);\n",
       "        }\n",
       "      </script>\n",
       "    </div>\n",
       "  </div>\n",
       "  "
      ],
      "text/plain": [
       "                                           question1  \\\n",
       "0  india  what are job options and future options...   \n",
       "\n",
       "                                           question2  \\\n",
       "0  jobs and careers in india  i am currently in m...   \n",
       "\n",
       "                                 clean_text_lemma_Q1  text_length_lemma_Q1  \\\n",
       "0  india job option future option low cgpa gradua...                    12   \n",
       "\n",
       "                                 clean_text_lemma_Q2  text_length_lemma_Q2  \\\n",
       "0  job career india currently third year engineer...                    28   \n",
       "\n",
       "                                       clean_text_Q1  \\\n",
       "0  india  what are job options and future options...   \n",
       "\n",
       "                                       clean_text_Q2  \\\n",
       "0  jobs and careers in india  i am currently in m...   \n",
       "\n",
       "                                          tokenizeQ1  \\\n",
       "0  ['india', 'what', 'are', 'job', 'options', 'an...   \n",
       "\n",
       "                                          tokenizeQ2  \\\n",
       "0  ['jobs', 'and', 'careers', 'in', 'india', 'i',...   \n",
       "\n",
       "                                          pos_tagsQ1  \\\n",
       "0  [('india', 'VB'), ('what', 'WP'), ('are', 'VBP...   \n",
       "\n",
       "                                          pos_tagsQ2  \n",
       "0  [('jobs', 'NNS'), ('and', 'CC'), ('careers', '...  "
      ]
     },
     "execution_count": 12,
     "metadata": {},
     "output_type": "execute_result"
    }
   ],
   "source": [
    "X_train.head(1)"
   ]
  },
  {
   "cell_type": "markdown",
   "id": "21b98a0e",
   "metadata": {},
   "source": [
    "### **fit_transform()** does `two` functions: \n",
    " * First, it fits the model and learns the vocabulary.\n",
    " * second, it transforms our training data into feature vectors. The input to fit_transform should be a list of strings."
   ]
  },
  {
   "cell_type": "code",
   "execution_count": null,
   "id": "0I8JYcttdiUo",
   "metadata": {
    "id": "0I8JYcttdiUo"
   },
   "outputs": [],
   "source": [
    "from sklearn.feature_extraction.text import CountVectorizer\n",
    " \n",
    "# Initialize the \"CountVectorizer\" object\n",
    "\n",
    "vocab = CountVectorizer()\n",
    "\n",
    "bow_train = vocab.fit_transform(X_train['clean_text_lemma_Q1']+X_train['clean_text_lemma_Q2'])\n",
    "bow_test = vocab.transform(X_test['clean_text_lemma_Q1']+X_test['clean_text_lemma_Q2'])"
   ]
  },
  {
   "cell_type": "code",
   "execution_count": null,
   "id": "t2WAMMKDdiR7",
   "metadata": {
    "colab": {
     "base_uri": "https://localhost:8080/"
    },
    "id": "t2WAMMKDdiR7",
    "outputId": "0be813c1-e849-4fab-9ae8-634d7a26c35b"
   },
   "outputs": [
    {
     "name": "stdout",
     "output_type": "stream",
     "text": [
      "Total unique words: 246541\n",
      "Type of train features: <class 'scipy.sparse._csr.csr_matrix'>\n",
      "Shape of input data: (323208, 246541)\n"
     ]
    }
   ],
   "source": [
    "print(\"Total unique words:\", len(vocab.vocabulary_))\n",
    "\n",
    "print(\"Type of train features:\", type(bow_train))\n",
    "\n",
    "print(\"Shape of input data:\", bow_train.shape)"
   ]
  },
  {
   "cell_type": "code",
   "execution_count": null,
   "id": "MIA-ZcZBdiMM",
   "metadata": {
    "colab": {
     "base_uri": "https://localhost:8080/"
    },
    "id": "MIA-ZcZBdiMM",
    "outputId": "6e77229c-068f-4e64-f6ef-28926d4f157d"
   },
   "outputs": [
    {
     "name": "stdout",
     "output_type": "stream",
     "text": [
      "Total unique words: 246541\n",
      "Type of train features: <class 'scipy.sparse._csr.csr_matrix'>\n",
      "Shape of input data: (80802, 246541)\n"
     ]
    }
   ],
   "source": [
    "print(\"Total unique words:\", len(vocab.vocabulary_))\n",
    "\n",
    "print(\"Type of train features:\", type(bow_test))\n",
    "\n",
    "print(\"Shape of input data:\", bow_test.shape)"
   ]
  },
  {
   "cell_type": "markdown",
   "id": "b15dde35",
   "metadata": {},
   "source": [
    " * We can look at unique words by using 'vocabulary_'\n",
    " * Observe that the type of variable is sparse.\n",
    " *  323208 documents and 246541 unique words Train Data\n",
    " *  80802 documents and 246541 unique words Test Data\n"
   ]
  },
  {
   "cell_type": "markdown",
   "id": "wAxaCafSfL2D",
   "metadata": {
    "id": "wAxaCafSfL2D"
   },
   "source": [
    "## Model Building"
   ]
  },
  {
   "cell_type": "markdown",
   "id": "VOnACFdcfil_",
   "metadata": {
    "id": "VOnACFdcfil_"
   },
   "source": [
    "### **Logistic Regression**"
   ]
  },
  {
   "cell_type": "code",
   "execution_count": null,
   "id": "bfkHmYWTdiGP",
   "metadata": {
    "colab": {
     "base_uri": "https://localhost:8080/",
     "height": 74
    },
    "id": "bfkHmYWTdiGP",
    "outputId": "9a754efb-4d85-4ba6-aefa-598d654ea8ce"
   },
   "outputs": [
    {
     "data": {
      "text/html": [
       "<style>#sk-container-id-1 {color: black;background-color: white;}#sk-container-id-1 pre{padding: 0;}#sk-container-id-1 div.sk-toggleable {background-color: white;}#sk-container-id-1 label.sk-toggleable__label {cursor: pointer;display: block;width: 100%;margin-bottom: 0;padding: 0.3em;box-sizing: border-box;text-align: center;}#sk-container-id-1 label.sk-toggleable__label-arrow:before {content: \"▸\";float: left;margin-right: 0.25em;color: #696969;}#sk-container-id-1 label.sk-toggleable__label-arrow:hover:before {color: black;}#sk-container-id-1 div.sk-estimator:hover label.sk-toggleable__label-arrow:before {color: black;}#sk-container-id-1 div.sk-toggleable__content {max-height: 0;max-width: 0;overflow: hidden;text-align: left;background-color: #f0f8ff;}#sk-container-id-1 div.sk-toggleable__content pre {margin: 0.2em;color: black;border-radius: 0.25em;background-color: #f0f8ff;}#sk-container-id-1 input.sk-toggleable__control:checked~div.sk-toggleable__content {max-height: 200px;max-width: 100%;overflow: auto;}#sk-container-id-1 input.sk-toggleable__control:checked~label.sk-toggleable__label-arrow:before {content: \"▾\";}#sk-container-id-1 div.sk-estimator input.sk-toggleable__control:checked~label.sk-toggleable__label {background-color: #d4ebff;}#sk-container-id-1 div.sk-label input.sk-toggleable__control:checked~label.sk-toggleable__label {background-color: #d4ebff;}#sk-container-id-1 input.sk-hidden--visually {border: 0;clip: rect(1px 1px 1px 1px);clip: rect(1px, 1px, 1px, 1px);height: 1px;margin: -1px;overflow: hidden;padding: 0;position: absolute;width: 1px;}#sk-container-id-1 div.sk-estimator {font-family: monospace;background-color: #f0f8ff;border: 1px dotted black;border-radius: 0.25em;box-sizing: border-box;margin-bottom: 0.5em;}#sk-container-id-1 div.sk-estimator:hover {background-color: #d4ebff;}#sk-container-id-1 div.sk-parallel-item::after {content: \"\";width: 100%;border-bottom: 1px solid gray;flex-grow: 1;}#sk-container-id-1 div.sk-label:hover label.sk-toggleable__label {background-color: #d4ebff;}#sk-container-id-1 div.sk-serial::before {content: \"\";position: absolute;border-left: 1px solid gray;box-sizing: border-box;top: 0;bottom: 0;left: 50%;z-index: 0;}#sk-container-id-1 div.sk-serial {display: flex;flex-direction: column;align-items: center;background-color: white;padding-right: 0.2em;padding-left: 0.2em;position: relative;}#sk-container-id-1 div.sk-item {position: relative;z-index: 1;}#sk-container-id-1 div.sk-parallel {display: flex;align-items: stretch;justify-content: center;background-color: white;position: relative;}#sk-container-id-1 div.sk-item::before, #sk-container-id-1 div.sk-parallel-item::before {content: \"\";position: absolute;border-left: 1px solid gray;box-sizing: border-box;top: 0;bottom: 0;left: 50%;z-index: -1;}#sk-container-id-1 div.sk-parallel-item {display: flex;flex-direction: column;z-index: 1;position: relative;background-color: white;}#sk-container-id-1 div.sk-parallel-item:first-child::after {align-self: flex-end;width: 50%;}#sk-container-id-1 div.sk-parallel-item:last-child::after {align-self: flex-start;width: 50%;}#sk-container-id-1 div.sk-parallel-item:only-child::after {width: 0;}#sk-container-id-1 div.sk-dashed-wrapped {border: 1px dashed gray;margin: 0 0.4em 0.5em 0.4em;box-sizing: border-box;padding-bottom: 0.4em;background-color: white;}#sk-container-id-1 div.sk-label label {font-family: monospace;font-weight: bold;display: inline-block;line-height: 1.2em;}#sk-container-id-1 div.sk-label-container {text-align: center;}#sk-container-id-1 div.sk-container {/* jupyter's `normalize.less` sets `[hidden] { display: none; }` but bootstrap.min.css set `[hidden] { display: none !important; }` so we also need the `!important` here to be able to override the default hidden behavior on the sphinx rendered scikit-learn.org. See: https://github.com/scikit-learn/scikit-learn/issues/21755 */display: inline-block !important;position: relative;}#sk-container-id-1 div.sk-text-repr-fallback {display: none;}</style><div id=\"sk-container-id-1\" class=\"sk-top-container\"><div class=\"sk-text-repr-fallback\"><pre>LogisticRegression()</pre><b>In a Jupyter environment, please rerun this cell to show the HTML representation or trust the notebook. <br />On GitHub, the HTML representation is unable to render, please try loading this page with nbviewer.org.</b></div><div class=\"sk-container\" hidden><div class=\"sk-item\"><div class=\"sk-estimator sk-toggleable\"><input class=\"sk-toggleable__control sk-hidden--visually\" id=\"sk-estimator-id-1\" type=\"checkbox\" checked><label for=\"sk-estimator-id-1\" class=\"sk-toggleable__label sk-toggleable__label-arrow\">LogisticRegression</label><div class=\"sk-toggleable__content\"><pre>LogisticRegression()</pre></div></div></div></div></div>"
      ],
      "text/plain": [
       "LogisticRegression()"
      ]
     },
     "execution_count": 16,
     "metadata": {},
     "output_type": "execute_result"
    }
   ],
   "source": [
    "classifier = LogisticRegression()\n",
    "classifier.fit(bow_train, y_train)"
   ]
  },
  {
   "cell_type": "code",
   "execution_count": null,
   "id": "Jk8Yi8N-diDD",
   "metadata": {
    "id": "Jk8Yi8N-diDD"
   },
   "outputs": [],
   "source": [
    "y_test_pred = classifier.predict(bow_test)"
   ]
  },
  {
   "cell_type": "code",
   "execution_count": null,
   "id": "1n91um3ldiAK",
   "metadata": {
    "colab": {
     "base_uri": "https://localhost:8080/"
    },
    "id": "1n91um3ldiAK",
    "outputId": "b8c66b18-c93a-4b0b-b42a-12cfb641ba62"
   },
   "outputs": [
    {
     "name": "stdout",
     "output_type": "stream",
     "text": [
      "[[44263  6717]\n",
      " [12404 17418]]\n",
      "0.7633598178262915\n",
      "              precision    recall  f1-score   support\n",
      "\n",
      "           0       0.78      0.87      0.82     50980\n",
      "           1       0.72      0.58      0.65     29822\n",
      "\n",
      "    accuracy                           0.76     80802\n",
      "   macro avg       0.75      0.73      0.73     80802\n",
      "weighted avg       0.76      0.76      0.76     80802\n",
      "\n"
     ]
    }
   ],
   "source": [
    "print(confusion_matrix(y_test, y_test_pred))\n",
    "print(accuracy_score(y_test, y_test_pred))\n",
    "print(classification_report(y_test, y_test_pred))"
   ]
  },
  {
   "cell_type": "markdown",
   "id": "0lEFcSkFg1rp",
   "metadata": {
    "id": "0lEFcSkFg1rp"
   },
   "source": [
    "### **Decision_Tree**"
   ]
  },
  {
   "cell_type": "code",
   "execution_count": null,
   "id": "pqPA_9M-dh8n",
   "metadata": {
    "colab": {
     "base_uri": "https://localhost:8080/",
     "height": 74
    },
    "id": "pqPA_9M-dh8n",
    "outputId": "0c0efee5-98fc-4cc5-84b5-5153f746d280"
   },
   "outputs": [
    {
     "data": {
      "text/html": [
       "<style>#sk-container-id-2 {color: black;background-color: white;}#sk-container-id-2 pre{padding: 0;}#sk-container-id-2 div.sk-toggleable {background-color: white;}#sk-container-id-2 label.sk-toggleable__label {cursor: pointer;display: block;width: 100%;margin-bottom: 0;padding: 0.3em;box-sizing: border-box;text-align: center;}#sk-container-id-2 label.sk-toggleable__label-arrow:before {content: \"▸\";float: left;margin-right: 0.25em;color: #696969;}#sk-container-id-2 label.sk-toggleable__label-arrow:hover:before {color: black;}#sk-container-id-2 div.sk-estimator:hover label.sk-toggleable__label-arrow:before {color: black;}#sk-container-id-2 div.sk-toggleable__content {max-height: 0;max-width: 0;overflow: hidden;text-align: left;background-color: #f0f8ff;}#sk-container-id-2 div.sk-toggleable__content pre {margin: 0.2em;color: black;border-radius: 0.25em;background-color: #f0f8ff;}#sk-container-id-2 input.sk-toggleable__control:checked~div.sk-toggleable__content {max-height: 200px;max-width: 100%;overflow: auto;}#sk-container-id-2 input.sk-toggleable__control:checked~label.sk-toggleable__label-arrow:before {content: \"▾\";}#sk-container-id-2 div.sk-estimator input.sk-toggleable__control:checked~label.sk-toggleable__label {background-color: #d4ebff;}#sk-container-id-2 div.sk-label input.sk-toggleable__control:checked~label.sk-toggleable__label {background-color: #d4ebff;}#sk-container-id-2 input.sk-hidden--visually {border: 0;clip: rect(1px 1px 1px 1px);clip: rect(1px, 1px, 1px, 1px);height: 1px;margin: -1px;overflow: hidden;padding: 0;position: absolute;width: 1px;}#sk-container-id-2 div.sk-estimator {font-family: monospace;background-color: #f0f8ff;border: 1px dotted black;border-radius: 0.25em;box-sizing: border-box;margin-bottom: 0.5em;}#sk-container-id-2 div.sk-estimator:hover {background-color: #d4ebff;}#sk-container-id-2 div.sk-parallel-item::after {content: \"\";width: 100%;border-bottom: 1px solid gray;flex-grow: 1;}#sk-container-id-2 div.sk-label:hover label.sk-toggleable__label {background-color: #d4ebff;}#sk-container-id-2 div.sk-serial::before {content: \"\";position: absolute;border-left: 1px solid gray;box-sizing: border-box;top: 0;bottom: 0;left: 50%;z-index: 0;}#sk-container-id-2 div.sk-serial {display: flex;flex-direction: column;align-items: center;background-color: white;padding-right: 0.2em;padding-left: 0.2em;position: relative;}#sk-container-id-2 div.sk-item {position: relative;z-index: 1;}#sk-container-id-2 div.sk-parallel {display: flex;align-items: stretch;justify-content: center;background-color: white;position: relative;}#sk-container-id-2 div.sk-item::before, #sk-container-id-2 div.sk-parallel-item::before {content: \"\";position: absolute;border-left: 1px solid gray;box-sizing: border-box;top: 0;bottom: 0;left: 50%;z-index: -1;}#sk-container-id-2 div.sk-parallel-item {display: flex;flex-direction: column;z-index: 1;position: relative;background-color: white;}#sk-container-id-2 div.sk-parallel-item:first-child::after {align-self: flex-end;width: 50%;}#sk-container-id-2 div.sk-parallel-item:last-child::after {align-self: flex-start;width: 50%;}#sk-container-id-2 div.sk-parallel-item:only-child::after {width: 0;}#sk-container-id-2 div.sk-dashed-wrapped {border: 1px dashed gray;margin: 0 0.4em 0.5em 0.4em;box-sizing: border-box;padding-bottom: 0.4em;background-color: white;}#sk-container-id-2 div.sk-label label {font-family: monospace;font-weight: bold;display: inline-block;line-height: 1.2em;}#sk-container-id-2 div.sk-label-container {text-align: center;}#sk-container-id-2 div.sk-container {/* jupyter's `normalize.less` sets `[hidden] { display: none; }` but bootstrap.min.css set `[hidden] { display: none !important; }` so we also need the `!important` here to be able to override the default hidden behavior on the sphinx rendered scikit-learn.org. See: https://github.com/scikit-learn/scikit-learn/issues/21755 */display: inline-block !important;position: relative;}#sk-container-id-2 div.sk-text-repr-fallback {display: none;}</style><div id=\"sk-container-id-2\" class=\"sk-top-container\"><div class=\"sk-text-repr-fallback\"><pre>DecisionTreeClassifier(max_depth=3)</pre><b>In a Jupyter environment, please rerun this cell to show the HTML representation or trust the notebook. <br />On GitHub, the HTML representation is unable to render, please try loading this page with nbviewer.org.</b></div><div class=\"sk-container\" hidden><div class=\"sk-item\"><div class=\"sk-estimator sk-toggleable\"><input class=\"sk-toggleable__control sk-hidden--visually\" id=\"sk-estimator-id-2\" type=\"checkbox\" checked><label for=\"sk-estimator-id-2\" class=\"sk-toggleable__label sk-toggleable__label-arrow\">DecisionTreeClassifier</label><div class=\"sk-toggleable__content\"><pre>DecisionTreeClassifier(max_depth=3)</pre></div></div></div></div></div>"
      ],
      "text/plain": [
       "DecisionTreeClassifier(max_depth=3)"
      ]
     },
     "execution_count": 19,
     "metadata": {},
     "output_type": "execute_result"
    }
   ],
   "source": [
    "classifier = DecisionTreeClassifier(max_depth=3)\n",
    "classifier.fit(bow_train, y_train)"
   ]
  },
  {
   "cell_type": "code",
   "execution_count": null,
   "id": "PHhrQpNBdh6P",
   "metadata": {
    "id": "PHhrQpNBdh6P"
   },
   "outputs": [],
   "source": [
    "y_test_pred = classifier.predict(bow_test)"
   ]
  },
  {
   "cell_type": "code",
   "execution_count": null,
   "id": "500Qm6YOdh3C",
   "metadata": {
    "colab": {
     "base_uri": "https://localhost:8080/"
    },
    "id": "500Qm6YOdh3C",
    "outputId": "4c2b3a9d-972e-4f7f-9ecd-8d9059f1de55"
   },
   "outputs": [
    {
     "name": "stdout",
     "output_type": "stream",
     "text": [
      "[[50229   751]\n",
      " [27866  1956]]\n",
      "0.6458379743075666\n",
      "              precision    recall  f1-score   support\n",
      "\n",
      "           0       0.64      0.99      0.78     50980\n",
      "           1       0.72      0.07      0.12     29822\n",
      "\n",
      "    accuracy                           0.65     80802\n",
      "   macro avg       0.68      0.53      0.45     80802\n",
      "weighted avg       0.67      0.65      0.54     80802\n",
      "\n"
     ]
    }
   ],
   "source": [
    "print(confusion_matrix(y_test, y_test_pred))\n",
    "print(accuracy_score(y_test, y_test_pred))\n",
    "print(classification_report(y_test, y_test_pred))\n"
   ]
  },
  {
   "cell_type": "markdown",
   "id": "8XRf2pEZh7Pn",
   "metadata": {
    "id": "8XRf2pEZh7Pn"
   },
   "source": [
    "### **Gradient Boosting Decision tree (*GBDT*)**"
   ]
  },
  {
   "cell_type": "code",
   "execution_count": null,
   "id": "ODHMs0ATh03t",
   "metadata": {
    "colab": {
     "base_uri": "https://localhost:8080/",
     "height": 74
    },
    "id": "ODHMs0ATh03t",
    "outputId": "efb4242c-2810-42c9-d8ec-ca710f399151"
   },
   "outputs": [
    {
     "data": {
      "text/html": [
       "<style>#sk-container-id-3 {color: black;background-color: white;}#sk-container-id-3 pre{padding: 0;}#sk-container-id-3 div.sk-toggleable {background-color: white;}#sk-container-id-3 label.sk-toggleable__label {cursor: pointer;display: block;width: 100%;margin-bottom: 0;padding: 0.3em;box-sizing: border-box;text-align: center;}#sk-container-id-3 label.sk-toggleable__label-arrow:before {content: \"▸\";float: left;margin-right: 0.25em;color: #696969;}#sk-container-id-3 label.sk-toggleable__label-arrow:hover:before {color: black;}#sk-container-id-3 div.sk-estimator:hover label.sk-toggleable__label-arrow:before {color: black;}#sk-container-id-3 div.sk-toggleable__content {max-height: 0;max-width: 0;overflow: hidden;text-align: left;background-color: #f0f8ff;}#sk-container-id-3 div.sk-toggleable__content pre {margin: 0.2em;color: black;border-radius: 0.25em;background-color: #f0f8ff;}#sk-container-id-3 input.sk-toggleable__control:checked~div.sk-toggleable__content {max-height: 200px;max-width: 100%;overflow: auto;}#sk-container-id-3 input.sk-toggleable__control:checked~label.sk-toggleable__label-arrow:before {content: \"▾\";}#sk-container-id-3 div.sk-estimator input.sk-toggleable__control:checked~label.sk-toggleable__label {background-color: #d4ebff;}#sk-container-id-3 div.sk-label input.sk-toggleable__control:checked~label.sk-toggleable__label {background-color: #d4ebff;}#sk-container-id-3 input.sk-hidden--visually {border: 0;clip: rect(1px 1px 1px 1px);clip: rect(1px, 1px, 1px, 1px);height: 1px;margin: -1px;overflow: hidden;padding: 0;position: absolute;width: 1px;}#sk-container-id-3 div.sk-estimator {font-family: monospace;background-color: #f0f8ff;border: 1px dotted black;border-radius: 0.25em;box-sizing: border-box;margin-bottom: 0.5em;}#sk-container-id-3 div.sk-estimator:hover {background-color: #d4ebff;}#sk-container-id-3 div.sk-parallel-item::after {content: \"\";width: 100%;border-bottom: 1px solid gray;flex-grow: 1;}#sk-container-id-3 div.sk-label:hover label.sk-toggleable__label {background-color: #d4ebff;}#sk-container-id-3 div.sk-serial::before {content: \"\";position: absolute;border-left: 1px solid gray;box-sizing: border-box;top: 0;bottom: 0;left: 50%;z-index: 0;}#sk-container-id-3 div.sk-serial {display: flex;flex-direction: column;align-items: center;background-color: white;padding-right: 0.2em;padding-left: 0.2em;position: relative;}#sk-container-id-3 div.sk-item {position: relative;z-index: 1;}#sk-container-id-3 div.sk-parallel {display: flex;align-items: stretch;justify-content: center;background-color: white;position: relative;}#sk-container-id-3 div.sk-item::before, #sk-container-id-3 div.sk-parallel-item::before {content: \"\";position: absolute;border-left: 1px solid gray;box-sizing: border-box;top: 0;bottom: 0;left: 50%;z-index: -1;}#sk-container-id-3 div.sk-parallel-item {display: flex;flex-direction: column;z-index: 1;position: relative;background-color: white;}#sk-container-id-3 div.sk-parallel-item:first-child::after {align-self: flex-end;width: 50%;}#sk-container-id-3 div.sk-parallel-item:last-child::after {align-self: flex-start;width: 50%;}#sk-container-id-3 div.sk-parallel-item:only-child::after {width: 0;}#sk-container-id-3 div.sk-dashed-wrapped {border: 1px dashed gray;margin: 0 0.4em 0.5em 0.4em;box-sizing: border-box;padding-bottom: 0.4em;background-color: white;}#sk-container-id-3 div.sk-label label {font-family: monospace;font-weight: bold;display: inline-block;line-height: 1.2em;}#sk-container-id-3 div.sk-label-container {text-align: center;}#sk-container-id-3 div.sk-container {/* jupyter's `normalize.less` sets `[hidden] { display: none; }` but bootstrap.min.css set `[hidden] { display: none !important; }` so we also need the `!important` here to be able to override the default hidden behavior on the sphinx rendered scikit-learn.org. See: https://github.com/scikit-learn/scikit-learn/issues/21755 */display: inline-block !important;position: relative;}#sk-container-id-3 div.sk-text-repr-fallback {display: none;}</style><div id=\"sk-container-id-3\" class=\"sk-top-container\"><div class=\"sk-text-repr-fallback\"><pre>GradientBoostingClassifier()</pre><b>In a Jupyter environment, please rerun this cell to show the HTML representation or trust the notebook. <br />On GitHub, the HTML representation is unable to render, please try loading this page with nbviewer.org.</b></div><div class=\"sk-container\" hidden><div class=\"sk-item\"><div class=\"sk-estimator sk-toggleable\"><input class=\"sk-toggleable__control sk-hidden--visually\" id=\"sk-estimator-id-3\" type=\"checkbox\" checked><label for=\"sk-estimator-id-3\" class=\"sk-toggleable__label sk-toggleable__label-arrow\">GradientBoostingClassifier</label><div class=\"sk-toggleable__content\"><pre>GradientBoostingClassifier()</pre></div></div></div></div></div>"
      ],
      "text/plain": [
       "GradientBoostingClassifier()"
      ]
     },
     "execution_count": 22,
     "metadata": {},
     "output_type": "execute_result"
    }
   ],
   "source": [
    "Classifier = GradientBoostingClassifier()\n",
    "Classifier.fit(bow_train,y_train)"
   ]
  },
  {
   "cell_type": "code",
   "execution_count": null,
   "id": "V0TJAAgch0z-",
   "metadata": {
    "id": "V0TJAAgch0z-"
   },
   "outputs": [],
   "source": [
    "y_test_pred = classifier.predict(bow_test)"
   ]
  },
  {
   "cell_type": "code",
   "execution_count": null,
   "id": "LnlGKBULh0wK",
   "metadata": {
    "colab": {
     "base_uri": "https://localhost:8080/"
    },
    "id": "LnlGKBULh0wK",
    "outputId": "d416fe4e-57d8-4b87-9f07-000cffcaaabc"
   },
   "outputs": [
    {
     "name": "stdout",
     "output_type": "stream",
     "text": [
      "[[50229   751]\n",
      " [27866  1956]]\n",
      "0.6458379743075666\n",
      "              precision    recall  f1-score   support\n",
      "\n",
      "           0       0.64      0.99      0.78     50980\n",
      "           1       0.72      0.07      0.12     29822\n",
      "\n",
      "    accuracy                           0.65     80802\n",
      "   macro avg       0.68      0.53      0.45     80802\n",
      "weighted avg       0.67      0.65      0.54     80802\n",
      "\n"
     ]
    }
   ],
   "source": [
    "print(confusion_matrix(y_test, y_test_pred))\n",
    "print(accuracy_score(y_test, y_test_pred))\n",
    "print(classification_report(y_test, y_test_pred))\n"
   ]
  },
  {
   "cell_type": "markdown",
   "id": "pB1ZzRA9iLJW",
   "metadata": {
    "id": "pB1ZzRA9iLJW"
   },
   "source": [
    "### **AdaBoost Classifier**"
   ]
  },
  {
   "cell_type": "code",
   "execution_count": null,
   "id": "ngrkqxXOh0r1",
   "metadata": {
    "colab": {
     "base_uri": "https://localhost:8080/",
     "height": 74
    },
    "id": "ngrkqxXOh0r1",
    "outputId": "497a472d-4e72-4b4c-e470-e07ee80bc3ae"
   },
   "outputs": [
    {
     "data": {
      "text/html": [
       "<style>#sk-container-id-4 {color: black;background-color: white;}#sk-container-id-4 pre{padding: 0;}#sk-container-id-4 div.sk-toggleable {background-color: white;}#sk-container-id-4 label.sk-toggleable__label {cursor: pointer;display: block;width: 100%;margin-bottom: 0;padding: 0.3em;box-sizing: border-box;text-align: center;}#sk-container-id-4 label.sk-toggleable__label-arrow:before {content: \"▸\";float: left;margin-right: 0.25em;color: #696969;}#sk-container-id-4 label.sk-toggleable__label-arrow:hover:before {color: black;}#sk-container-id-4 div.sk-estimator:hover label.sk-toggleable__label-arrow:before {color: black;}#sk-container-id-4 div.sk-toggleable__content {max-height: 0;max-width: 0;overflow: hidden;text-align: left;background-color: #f0f8ff;}#sk-container-id-4 div.sk-toggleable__content pre {margin: 0.2em;color: black;border-radius: 0.25em;background-color: #f0f8ff;}#sk-container-id-4 input.sk-toggleable__control:checked~div.sk-toggleable__content {max-height: 200px;max-width: 100%;overflow: auto;}#sk-container-id-4 input.sk-toggleable__control:checked~label.sk-toggleable__label-arrow:before {content: \"▾\";}#sk-container-id-4 div.sk-estimator input.sk-toggleable__control:checked~label.sk-toggleable__label {background-color: #d4ebff;}#sk-container-id-4 div.sk-label input.sk-toggleable__control:checked~label.sk-toggleable__label {background-color: #d4ebff;}#sk-container-id-4 input.sk-hidden--visually {border: 0;clip: rect(1px 1px 1px 1px);clip: rect(1px, 1px, 1px, 1px);height: 1px;margin: -1px;overflow: hidden;padding: 0;position: absolute;width: 1px;}#sk-container-id-4 div.sk-estimator {font-family: monospace;background-color: #f0f8ff;border: 1px dotted black;border-radius: 0.25em;box-sizing: border-box;margin-bottom: 0.5em;}#sk-container-id-4 div.sk-estimator:hover {background-color: #d4ebff;}#sk-container-id-4 div.sk-parallel-item::after {content: \"\";width: 100%;border-bottom: 1px solid gray;flex-grow: 1;}#sk-container-id-4 div.sk-label:hover label.sk-toggleable__label {background-color: #d4ebff;}#sk-container-id-4 div.sk-serial::before {content: \"\";position: absolute;border-left: 1px solid gray;box-sizing: border-box;top: 0;bottom: 0;left: 50%;z-index: 0;}#sk-container-id-4 div.sk-serial {display: flex;flex-direction: column;align-items: center;background-color: white;padding-right: 0.2em;padding-left: 0.2em;position: relative;}#sk-container-id-4 div.sk-item {position: relative;z-index: 1;}#sk-container-id-4 div.sk-parallel {display: flex;align-items: stretch;justify-content: center;background-color: white;position: relative;}#sk-container-id-4 div.sk-item::before, #sk-container-id-4 div.sk-parallel-item::before {content: \"\";position: absolute;border-left: 1px solid gray;box-sizing: border-box;top: 0;bottom: 0;left: 50%;z-index: -1;}#sk-container-id-4 div.sk-parallel-item {display: flex;flex-direction: column;z-index: 1;position: relative;background-color: white;}#sk-container-id-4 div.sk-parallel-item:first-child::after {align-self: flex-end;width: 50%;}#sk-container-id-4 div.sk-parallel-item:last-child::after {align-self: flex-start;width: 50%;}#sk-container-id-4 div.sk-parallel-item:only-child::after {width: 0;}#sk-container-id-4 div.sk-dashed-wrapped {border: 1px dashed gray;margin: 0 0.4em 0.5em 0.4em;box-sizing: border-box;padding-bottom: 0.4em;background-color: white;}#sk-container-id-4 div.sk-label label {font-family: monospace;font-weight: bold;display: inline-block;line-height: 1.2em;}#sk-container-id-4 div.sk-label-container {text-align: center;}#sk-container-id-4 div.sk-container {/* jupyter's `normalize.less` sets `[hidden] { display: none; }` but bootstrap.min.css set `[hidden] { display: none !important; }` so we also need the `!important` here to be able to override the default hidden behavior on the sphinx rendered scikit-learn.org. See: https://github.com/scikit-learn/scikit-learn/issues/21755 */display: inline-block !important;position: relative;}#sk-container-id-4 div.sk-text-repr-fallback {display: none;}</style><div id=\"sk-container-id-4\" class=\"sk-top-container\"><div class=\"sk-text-repr-fallback\"><pre>AdaBoostClassifier()</pre><b>In a Jupyter environment, please rerun this cell to show the HTML representation or trust the notebook. <br />On GitHub, the HTML representation is unable to render, please try loading this page with nbviewer.org.</b></div><div class=\"sk-container\" hidden><div class=\"sk-item\"><div class=\"sk-estimator sk-toggleable\"><input class=\"sk-toggleable__control sk-hidden--visually\" id=\"sk-estimator-id-4\" type=\"checkbox\" checked><label for=\"sk-estimator-id-4\" class=\"sk-toggleable__label sk-toggleable__label-arrow\">AdaBoostClassifier</label><div class=\"sk-toggleable__content\"><pre>AdaBoostClassifier()</pre></div></div></div></div></div>"
      ],
      "text/plain": [
       "AdaBoostClassifier()"
      ]
     },
     "execution_count": 25,
     "metadata": {},
     "output_type": "execute_result"
    }
   ],
   "source": [
    "classifier = AdaBoostClassifier()\n",
    "classifier.fit(bow_train,y_train)"
   ]
  },
  {
   "cell_type": "code",
   "execution_count": null,
   "id": "dDaXbIh1dhzd",
   "metadata": {
    "id": "dDaXbIh1dhzd"
   },
   "outputs": [],
   "source": [
    "y_test_pred = classifier.predict(bow_test)"
   ]
  },
  {
   "cell_type": "code",
   "execution_count": null,
   "id": "i3aIv61AdhwW",
   "metadata": {
    "colab": {
     "base_uri": "https://localhost:8080/"
    },
    "id": "i3aIv61AdhwW",
    "outputId": "a97f3dbd-6c34-458f-b1ba-f241731990a7"
   },
   "outputs": [
    {
     "name": "stdout",
     "output_type": "stream",
     "text": [
      "[[48406  2574]\n",
      " [23749  6073]]\n",
      "0.6742283606841415\n",
      "              precision    recall  f1-score   support\n",
      "\n",
      "           0       0.67      0.95      0.79     50980\n",
      "           1       0.70      0.20      0.32     29822\n",
      "\n",
      "    accuracy                           0.67     80802\n",
      "   macro avg       0.69      0.58      0.55     80802\n",
      "weighted avg       0.68      0.67      0.61     80802\n",
      "\n"
     ]
    }
   ],
   "source": [
    "print(confusion_matrix(y_test, y_test_pred))\n",
    "print(accuracy_score(y_test, y_test_pred))\n",
    "print(classification_report(y_test, y_test_pred))\n",
    "D = f1_score(y_test, y_test_pred)"
   ]
  },
  {
   "cell_type": "markdown",
   "id": "EtrK-0j8iWMo",
   "metadata": {
    "id": "EtrK-0j8iWMo"
   },
   "source": [
    "### **XGBoost Classifier**"
   ]
  },
  {
   "cell_type": "code",
   "execution_count": null,
   "id": "uWgAY4m8dhs3",
   "metadata": {
    "colab": {
     "base_uri": "https://localhost:8080/",
     "height": 248
    },
    "id": "uWgAY4m8dhs3",
    "outputId": "350ba7f8-5e71-48bc-d332-1691c814d185",
    "scrolled": true
   },
   "outputs": [
    {
     "data": {
      "text/html": [
       "<style>#sk-container-id-5 {color: black;background-color: white;}#sk-container-id-5 pre{padding: 0;}#sk-container-id-5 div.sk-toggleable {background-color: white;}#sk-container-id-5 label.sk-toggleable__label {cursor: pointer;display: block;width: 100%;margin-bottom: 0;padding: 0.3em;box-sizing: border-box;text-align: center;}#sk-container-id-5 label.sk-toggleable__label-arrow:before {content: \"▸\";float: left;margin-right: 0.25em;color: #696969;}#sk-container-id-5 label.sk-toggleable__label-arrow:hover:before {color: black;}#sk-container-id-5 div.sk-estimator:hover label.sk-toggleable__label-arrow:before {color: black;}#sk-container-id-5 div.sk-toggleable__content {max-height: 0;max-width: 0;overflow: hidden;text-align: left;background-color: #f0f8ff;}#sk-container-id-5 div.sk-toggleable__content pre {margin: 0.2em;color: black;border-radius: 0.25em;background-color: #f0f8ff;}#sk-container-id-5 input.sk-toggleable__control:checked~div.sk-toggleable__content {max-height: 200px;max-width: 100%;overflow: auto;}#sk-container-id-5 input.sk-toggleable__control:checked~label.sk-toggleable__label-arrow:before {content: \"▾\";}#sk-container-id-5 div.sk-estimator input.sk-toggleable__control:checked~label.sk-toggleable__label {background-color: #d4ebff;}#sk-container-id-5 div.sk-label input.sk-toggleable__control:checked~label.sk-toggleable__label {background-color: #d4ebff;}#sk-container-id-5 input.sk-hidden--visually {border: 0;clip: rect(1px 1px 1px 1px);clip: rect(1px, 1px, 1px, 1px);height: 1px;margin: -1px;overflow: hidden;padding: 0;position: absolute;width: 1px;}#sk-container-id-5 div.sk-estimator {font-family: monospace;background-color: #f0f8ff;border: 1px dotted black;border-radius: 0.25em;box-sizing: border-box;margin-bottom: 0.5em;}#sk-container-id-5 div.sk-estimator:hover {background-color: #d4ebff;}#sk-container-id-5 div.sk-parallel-item::after {content: \"\";width: 100%;border-bottom: 1px solid gray;flex-grow: 1;}#sk-container-id-5 div.sk-label:hover label.sk-toggleable__label {background-color: #d4ebff;}#sk-container-id-5 div.sk-serial::before {content: \"\";position: absolute;border-left: 1px solid gray;box-sizing: border-box;top: 0;bottom: 0;left: 50%;z-index: 0;}#sk-container-id-5 div.sk-serial {display: flex;flex-direction: column;align-items: center;background-color: white;padding-right: 0.2em;padding-left: 0.2em;position: relative;}#sk-container-id-5 div.sk-item {position: relative;z-index: 1;}#sk-container-id-5 div.sk-parallel {display: flex;align-items: stretch;justify-content: center;background-color: white;position: relative;}#sk-container-id-5 div.sk-item::before, #sk-container-id-5 div.sk-parallel-item::before {content: \"\";position: absolute;border-left: 1px solid gray;box-sizing: border-box;top: 0;bottom: 0;left: 50%;z-index: -1;}#sk-container-id-5 div.sk-parallel-item {display: flex;flex-direction: column;z-index: 1;position: relative;background-color: white;}#sk-container-id-5 div.sk-parallel-item:first-child::after {align-self: flex-end;width: 50%;}#sk-container-id-5 div.sk-parallel-item:last-child::after {align-self: flex-start;width: 50%;}#sk-container-id-5 div.sk-parallel-item:only-child::after {width: 0;}#sk-container-id-5 div.sk-dashed-wrapped {border: 1px dashed gray;margin: 0 0.4em 0.5em 0.4em;box-sizing: border-box;padding-bottom: 0.4em;background-color: white;}#sk-container-id-5 div.sk-label label {font-family: monospace;font-weight: bold;display: inline-block;line-height: 1.2em;}#sk-container-id-5 div.sk-label-container {text-align: center;}#sk-container-id-5 div.sk-container {/* jupyter's `normalize.less` sets `[hidden] { display: none; }` but bootstrap.min.css set `[hidden] { display: none !important; }` so we also need the `!important` here to be able to override the default hidden behavior on the sphinx rendered scikit-learn.org. See: https://github.com/scikit-learn/scikit-learn/issues/21755 */display: inline-block !important;position: relative;}#sk-container-id-5 div.sk-text-repr-fallback {display: none;}</style><div id=\"sk-container-id-5\" class=\"sk-top-container\"><div class=\"sk-text-repr-fallback\"><pre>XGBClassifier(base_score=None, booster=None, callbacks=None,\n",
       "              colsample_bylevel=None, colsample_bynode=None,\n",
       "              colsample_bytree=None, early_stopping_rounds=None,\n",
       "              enable_categorical=False, eval_metric=None, feature_types=None,\n",
       "              gamma=None, gpu_id=None, grow_policy=None, importance_type=None,\n",
       "              interaction_constraints=None, learning_rate=None, max_bin=None,\n",
       "              max_cat_threshold=None, max_cat_to_onehot=None,\n",
       "              max_delta_step=None, max_depth=None, max_leaves=None,\n",
       "              min_child_weight=None, missing=nan, monotone_constraints=None,\n",
       "              n_estimators=100, n_jobs=None, num_parallel_tree=None,\n",
       "              predictor=None, random_state=None, ...)</pre><b>In a Jupyter environment, please rerun this cell to show the HTML representation or trust the notebook. <br />On GitHub, the HTML representation is unable to render, please try loading this page with nbviewer.org.</b></div><div class=\"sk-container\" hidden><div class=\"sk-item\"><div class=\"sk-estimator sk-toggleable\"><input class=\"sk-toggleable__control sk-hidden--visually\" id=\"sk-estimator-id-5\" type=\"checkbox\" checked><label for=\"sk-estimator-id-5\" class=\"sk-toggleable__label sk-toggleable__label-arrow\">XGBClassifier</label><div class=\"sk-toggleable__content\"><pre>XGBClassifier(base_score=None, booster=None, callbacks=None,\n",
       "              colsample_bylevel=None, colsample_bynode=None,\n",
       "              colsample_bytree=None, early_stopping_rounds=None,\n",
       "              enable_categorical=False, eval_metric=None, feature_types=None,\n",
       "              gamma=None, gpu_id=None, grow_policy=None, importance_type=None,\n",
       "              interaction_constraints=None, learning_rate=None, max_bin=None,\n",
       "              max_cat_threshold=None, max_cat_to_onehot=None,\n",
       "              max_delta_step=None, max_depth=None, max_leaves=None,\n",
       "              min_child_weight=None, missing=nan, monotone_constraints=None,\n",
       "              n_estimators=100, n_jobs=None, num_parallel_tree=None,\n",
       "              predictor=None, random_state=None, ...)</pre></div></div></div></div></div>"
      ],
      "text/plain": [
       "XGBClassifier(base_score=None, booster=None, callbacks=None,\n",
       "              colsample_bylevel=None, colsample_bynode=None,\n",
       "              colsample_bytree=None, early_stopping_rounds=None,\n",
       "              enable_categorical=False, eval_metric=None, feature_types=None,\n",
       "              gamma=None, gpu_id=None, grow_policy=None, importance_type=None,\n",
       "              interaction_constraints=None, learning_rate=None, max_bin=None,\n",
       "              max_cat_threshold=None, max_cat_to_onehot=None,\n",
       "              max_delta_step=None, max_depth=None, max_leaves=None,\n",
       "              min_child_weight=None, missing=nan, monotone_constraints=None,\n",
       "              n_estimators=100, n_jobs=None, num_parallel_tree=None,\n",
       "              predictor=None, random_state=None, ...)"
      ]
     },
     "execution_count": 36,
     "metadata": {},
     "output_type": "execute_result"
    }
   ],
   "source": [
    "classifier = xgb.XGBClassifier()\n",
    "classifier.fit(bow_train, y_train)\n",
    "y_test_pred = classifier.predict(bow_test)"
   ]
  },
  {
   "cell_type": "code",
   "execution_count": null,
   "id": "zWIstC3zif97",
   "metadata": {
    "colab": {
     "base_uri": "https://localhost:8080/"
    },
    "id": "zWIstC3zif97",
    "outputId": "dadbbc7a-2682-4899-b7f9-c1f21ac16fd0"
   },
   "outputs": [
    {
     "name": "stdout",
     "output_type": "stream",
     "text": [
      "[[48509  2471]\n",
      " [20253  9569]]\n",
      "0.7187693373926388\n",
      "              precision    recall  f1-score   support\n",
      "\n",
      "           0       0.71      0.95      0.81     50980\n",
      "           1       0.79      0.32      0.46     29822\n",
      "\n",
      "    accuracy                           0.72     80802\n",
      "   macro avg       0.75      0.64      0.63     80802\n",
      "weighted avg       0.74      0.72      0.68     80802\n",
      "\n"
     ]
    }
   ],
   "source": [
    "print(confusion_matrix(y_test, y_test_pred))\n",
    "print(accuracy_score(y_test, y_test_pred))\n",
    "print(classification_report(y_test, y_test_pred))\n",
    "F = f1_score(y_test, y_test_pred)"
   ]
  },
  {
   "cell_type": "markdown",
   "id": "4e3245ee",
   "metadata": {},
   "source": [
    "*  The results of the evaluation using `Accuracy` as the metric show that **`Logistic Regression`** outperformed the other models, with a score of **76**\n",
    "\n",
    "* `XGBoost` had the second-best performance, with a score of **81.2**\n",
    "\n",
    "\n",
    "####  These results suggest that **`Logistic Regression`** may be the most effective model for this particular task, \n",
    "      \n",
    "> Although further evaluation and validation is necessary to confirm this conclusion."
   ]
  },
  {
   "cell_type": "markdown",
   "id": "35b46a40",
   "metadata": {},
   "source": [
    "### TF-IDF"
   ]
  },
  {
   "cell_type": "markdown",
   "id": "6b896efc",
   "metadata": {},
   "source": [
    "## **Term Frequency Inverse Document Frequency**"
   ]
  },
  {
   "cell_type": "markdown",
   "id": "zoXqShuA0YPM",
   "metadata": {
    "id": "zoXqShuA0YPM"
   },
   "source": [
    "\n",
    "* In BOW approach all the words in the text are treated as equally important i.e. there's no notion of some words in the document being more important than others.\n",
    "* TF-IDF, or term frequency-inverse document frequency, addresses this issue. \n",
    "* It aims to quantify the importance of a given word relative to other words in the document and in the corpus.\n",
    "\n",
    "\n",
    "\n",
    "***\n",
    "\n",
    "Let's now try to understand:\n",
    "1. Term Frequency  \n",
    "2. Inverse Document Frequency\n",
    "\n",
    "$$ TF \\ IDF = TF(word_i, doc_j) * IDF(word_i, corpus) $$\n",
    "\n",
    "$$ TF(word_i, doc_j) = \\frac{No \\ of \\ time \\ word_i \\ occurs \\ in \\ doc_j}{Total \\ no \\ of \\ words \\ in \\ doc_j} $$\n",
    "\n",
    "$$ IDF(word_i, corpus) = \\log_n(\\frac{No \\ of \\ docs \\ in \\ corpus}{No \\ of \\ docs \\ which \\ contains \\ word_i}) $$\n",
    "\n",
    "***\n",
    "\n"
   ]
  },
  {
   "cell_type": "code",
   "execution_count": null,
   "id": "fYrgAouP0tjq",
   "metadata": {
    "colab": {
     "base_uri": "https://localhost:8080/",
     "height": 214
    },
    "id": "fYrgAouP0tjq",
    "outputId": "30eec2f6-b11e-4074-a02b-78f7b03376df"
   },
   "outputs": [
    {
     "data": {
      "text/html": [
       "\n",
       "  <div id=\"df-ac9423a1-0f3b-4845-9c06-0169e8c3ad9a\">\n",
       "    <div class=\"colab-df-container\">\n",
       "      <div>\n",
       "<style scoped>\n",
       "    .dataframe tbody tr th:only-of-type {\n",
       "        vertical-align: middle;\n",
       "    }\n",
       "\n",
       "    .dataframe tbody tr th {\n",
       "        vertical-align: top;\n",
       "    }\n",
       "\n",
       "    .dataframe thead th {\n",
       "        text-align: right;\n",
       "    }\n",
       "</style>\n",
       "<table border=\"1\" class=\"dataframe\">\n",
       "  <thead>\n",
       "    <tr style=\"text-align: right;\">\n",
       "      <th></th>\n",
       "      <th>question1</th>\n",
       "      <th>question2</th>\n",
       "      <th>clean_text_lemma_Q1</th>\n",
       "      <th>text_length_lemma_Q1</th>\n",
       "      <th>clean_text_lemma_Q2</th>\n",
       "      <th>text_length_lemma_Q2</th>\n",
       "      <th>clean_text_Q1</th>\n",
       "      <th>clean_text_Q2</th>\n",
       "      <th>tokenizeQ1</th>\n",
       "      <th>tokenizeQ2</th>\n",
       "      <th>pos_tagsQ1</th>\n",
       "      <th>pos_tagsQ2</th>\n",
       "    </tr>\n",
       "  </thead>\n",
       "  <tbody>\n",
       "    <tr>\n",
       "      <th>0</th>\n",
       "      <td>india  what are job options and future options...</td>\n",
       "      <td>jobs and careers in india  i am currently in m...</td>\n",
       "      <td>india job option future option low cgpa gradua...</td>\n",
       "      <td>12</td>\n",
       "      <td>job career india currently third year engineer...</td>\n",
       "      <td>28</td>\n",
       "      <td>india  what are job options and future options...</td>\n",
       "      <td>jobs and careers in india  i am currently in m...</td>\n",
       "      <td>['india', 'what', 'are', 'job', 'options', 'an...</td>\n",
       "      <td>['jobs', 'and', 'careers', 'in', 'india', 'i',...</td>\n",
       "      <td>[('india', 'VB'), ('what', 'WP'), ('are', 'VBP...</td>\n",
       "      <td>[('jobs', 'NNS'), ('and', 'CC'), ('careers', '...</td>\n",
       "    </tr>\n",
       "  </tbody>\n",
       "</table>\n",
       "</div>\n",
       "      <button class=\"colab-df-convert\" onclick=\"convertToInteractive('df-ac9423a1-0f3b-4845-9c06-0169e8c3ad9a')\"\n",
       "              title=\"Convert this dataframe to an interactive table.\"\n",
       "              style=\"display:none;\">\n",
       "        \n",
       "  <svg xmlns=\"http://www.w3.org/2000/svg\" height=\"24px\"viewBox=\"0 0 24 24\"\n",
       "       width=\"24px\">\n",
       "    <path d=\"M0 0h24v24H0V0z\" fill=\"none\"/>\n",
       "    <path d=\"M18.56 5.44l.94 2.06.94-2.06 2.06-.94-2.06-.94-.94-2.06-.94 2.06-2.06.94zm-11 1L8.5 8.5l.94-2.06 2.06-.94-2.06-.94L8.5 2.5l-.94 2.06-2.06.94zm10 10l.94 2.06.94-2.06 2.06-.94-2.06-.94-.94-2.06-.94 2.06-2.06.94z\"/><path d=\"M17.41 7.96l-1.37-1.37c-.4-.4-.92-.59-1.43-.59-.52 0-1.04.2-1.43.59L10.3 9.45l-7.72 7.72c-.78.78-.78 2.05 0 2.83L4 21.41c.39.39.9.59 1.41.59.51 0 1.02-.2 1.41-.59l7.78-7.78 2.81-2.81c.8-.78.8-2.07 0-2.86zM5.41 20L4 18.59l7.72-7.72 1.47 1.35L5.41 20z\"/>\n",
       "  </svg>\n",
       "      </button>\n",
       "      \n",
       "  <style>\n",
       "    .colab-df-container {\n",
       "      display:flex;\n",
       "      flex-wrap:wrap;\n",
       "      gap: 12px;\n",
       "    }\n",
       "\n",
       "    .colab-df-convert {\n",
       "      background-color: #E8F0FE;\n",
       "      border: none;\n",
       "      border-radius: 50%;\n",
       "      cursor: pointer;\n",
       "      display: none;\n",
       "      fill: #1967D2;\n",
       "      height: 32px;\n",
       "      padding: 0 0 0 0;\n",
       "      width: 32px;\n",
       "    }\n",
       "\n",
       "    .colab-df-convert:hover {\n",
       "      background-color: #E2EBFA;\n",
       "      box-shadow: 0px 1px 2px rgba(60, 64, 67, 0.3), 0px 1px 3px 1px rgba(60, 64, 67, 0.15);\n",
       "      fill: #174EA6;\n",
       "    }\n",
       "\n",
       "    [theme=dark] .colab-df-convert {\n",
       "      background-color: #3B4455;\n",
       "      fill: #D2E3FC;\n",
       "    }\n",
       "\n",
       "    [theme=dark] .colab-df-convert:hover {\n",
       "      background-color: #434B5C;\n",
       "      box-shadow: 0px 1px 3px 1px rgba(0, 0, 0, 0.15);\n",
       "      filter: drop-shadow(0px 1px 2px rgba(0, 0, 0, 0.3));\n",
       "      fill: #FFFFFF;\n",
       "    }\n",
       "  </style>\n",
       "\n",
       "      <script>\n",
       "        const buttonEl =\n",
       "          document.querySelector('#df-ac9423a1-0f3b-4845-9c06-0169e8c3ad9a button.colab-df-convert');\n",
       "        buttonEl.style.display =\n",
       "          google.colab.kernel.accessAllowed ? 'block' : 'none';\n",
       "\n",
       "        async function convertToInteractive(key) {\n",
       "          const element = document.querySelector('#df-ac9423a1-0f3b-4845-9c06-0169e8c3ad9a');\n",
       "          const dataTable =\n",
       "            await google.colab.kernel.invokeFunction('convertToInteractive',\n",
       "                                                     [key], {});\n",
       "          if (!dataTable) return;\n",
       "\n",
       "          const docLinkHtml = 'Like what you see? Visit the ' +\n",
       "            '<a target=\"_blank\" href=https://colab.research.google.com/notebooks/data_table.ipynb>data table notebook</a>'\n",
       "            + ' to learn more about interactive tables.';\n",
       "          element.innerHTML = '';\n",
       "          dataTable['output_type'] = 'display_data';\n",
       "          await google.colab.output.renderOutput(dataTable, element);\n",
       "          const docLink = document.createElement('div');\n",
       "          docLink.innerHTML = docLinkHtml;\n",
       "          element.appendChild(docLink);\n",
       "        }\n",
       "      </script>\n",
       "    </div>\n",
       "  </div>\n",
       "  "
      ],
      "text/plain": [
       "                                           question1  \\\n",
       "0  india  what are job options and future options...   \n",
       "\n",
       "                                           question2  \\\n",
       "0  jobs and careers in india  i am currently in m...   \n",
       "\n",
       "                                 clean_text_lemma_Q1  text_length_lemma_Q1  \\\n",
       "0  india job option future option low cgpa gradua...                    12   \n",
       "\n",
       "                                 clean_text_lemma_Q2  text_length_lemma_Q2  \\\n",
       "0  job career india currently third year engineer...                    28   \n",
       "\n",
       "                                       clean_text_Q1  \\\n",
       "0  india  what are job options and future options...   \n",
       "\n",
       "                                       clean_text_Q2  \\\n",
       "0  jobs and careers in india  i am currently in m...   \n",
       "\n",
       "                                          tokenizeQ1  \\\n",
       "0  ['india', 'what', 'are', 'job', 'options', 'an...   \n",
       "\n",
       "                                          tokenizeQ2  \\\n",
       "0  ['jobs', 'and', 'careers', 'in', 'india', 'i',...   \n",
       "\n",
       "                                          pos_tagsQ1  \\\n",
       "0  [('india', 'VB'), ('what', 'WP'), ('are', 'VBP...   \n",
       "\n",
       "                                          pos_tagsQ2  \n",
       "0  [('jobs', 'NNS'), ('and', 'CC'), ('careers', '...  "
      ]
     },
     "execution_count": 42,
     "metadata": {},
     "output_type": "execute_result"
    }
   ],
   "source": [
    "X_train.head(1)"
   ]
  },
  {
   "cell_type": "code",
   "execution_count": null,
   "id": "4e294c31",
   "metadata": {
    "id": "4e294c31"
   },
   "outputs": [],
   "source": [
    "from sklearn.feature_extraction.text import TfidfVectorizer\n",
    "\n",
    "vectorizer = TfidfVectorizer()\n",
    "\n",
    "tf_train = vectorizer.fit_transform(X_train['clean_text_lemma_Q1'] + X_train['clean_text_lemma_Q2'])\n",
    "tf_test = vectorizer.transform(X_test['clean_text_lemma_Q1'] + X_test['clean_text_lemma_Q2'])"
   ]
  },
  {
   "cell_type": "code",
   "execution_count": null,
   "id": "35cad010",
   "metadata": {
    "colab": {
     "base_uri": "https://localhost:8080/"
    },
    "id": "35cad010",
    "outputId": "63319cd1-9abe-455d-a2ac-75f635a02868"
   },
   "outputs": [
    {
     "name": "stdout",
     "output_type": "stream",
     "text": [
      "Total unique words: 246541\n",
      "Type of train features: <class 'scipy.sparse._csr.csr_matrix'>\n",
      "Shape of input data: (323208, 246541)\n"
     ]
    }
   ],
   "source": [
    "print(\"Total unique words:\", len(vectorizer.vocabulary_))\n",
    "\n",
    "print(\"Type of train features:\", type(tf_train))\n",
    "\n",
    "print(\"Shape of input data:\", tf_train.shape)"
   ]
  },
  {
   "cell_type": "markdown",
   "id": "40dcd5e7",
   "metadata": {},
   "source": [
    "## Model Building"
   ]
  },
  {
   "cell_type": "markdown",
   "id": "E31WL8tX8iLM",
   "metadata": {
    "id": "E31WL8tX8iLM"
   },
   "source": [
    "### **Logistic Regression**"
   ]
  },
  {
   "cell_type": "code",
   "execution_count": null,
   "id": "_TaLZ9QN10rK",
   "metadata": {
    "colab": {
     "base_uri": "https://localhost:8080/",
     "height": 74
    },
    "id": "_TaLZ9QN10rK",
    "outputId": "ec579f49-639c-400f-ac49-3d013f6210e0"
   },
   "outputs": [
    {
     "data": {
      "text/html": [
       "<style>#sk-container-id-6 {color: black;background-color: white;}#sk-container-id-6 pre{padding: 0;}#sk-container-id-6 div.sk-toggleable {background-color: white;}#sk-container-id-6 label.sk-toggleable__label {cursor: pointer;display: block;width: 100%;margin-bottom: 0;padding: 0.3em;box-sizing: border-box;text-align: center;}#sk-container-id-6 label.sk-toggleable__label-arrow:before {content: \"▸\";float: left;margin-right: 0.25em;color: #696969;}#sk-container-id-6 label.sk-toggleable__label-arrow:hover:before {color: black;}#sk-container-id-6 div.sk-estimator:hover label.sk-toggleable__label-arrow:before {color: black;}#sk-container-id-6 div.sk-toggleable__content {max-height: 0;max-width: 0;overflow: hidden;text-align: left;background-color: #f0f8ff;}#sk-container-id-6 div.sk-toggleable__content pre {margin: 0.2em;color: black;border-radius: 0.25em;background-color: #f0f8ff;}#sk-container-id-6 input.sk-toggleable__control:checked~div.sk-toggleable__content {max-height: 200px;max-width: 100%;overflow: auto;}#sk-container-id-6 input.sk-toggleable__control:checked~label.sk-toggleable__label-arrow:before {content: \"▾\";}#sk-container-id-6 div.sk-estimator input.sk-toggleable__control:checked~label.sk-toggleable__label {background-color: #d4ebff;}#sk-container-id-6 div.sk-label input.sk-toggleable__control:checked~label.sk-toggleable__label {background-color: #d4ebff;}#sk-container-id-6 input.sk-hidden--visually {border: 0;clip: rect(1px 1px 1px 1px);clip: rect(1px, 1px, 1px, 1px);height: 1px;margin: -1px;overflow: hidden;padding: 0;position: absolute;width: 1px;}#sk-container-id-6 div.sk-estimator {font-family: monospace;background-color: #f0f8ff;border: 1px dotted black;border-radius: 0.25em;box-sizing: border-box;margin-bottom: 0.5em;}#sk-container-id-6 div.sk-estimator:hover {background-color: #d4ebff;}#sk-container-id-6 div.sk-parallel-item::after {content: \"\";width: 100%;border-bottom: 1px solid gray;flex-grow: 1;}#sk-container-id-6 div.sk-label:hover label.sk-toggleable__label {background-color: #d4ebff;}#sk-container-id-6 div.sk-serial::before {content: \"\";position: absolute;border-left: 1px solid gray;box-sizing: border-box;top: 0;bottom: 0;left: 50%;z-index: 0;}#sk-container-id-6 div.sk-serial {display: flex;flex-direction: column;align-items: center;background-color: white;padding-right: 0.2em;padding-left: 0.2em;position: relative;}#sk-container-id-6 div.sk-item {position: relative;z-index: 1;}#sk-container-id-6 div.sk-parallel {display: flex;align-items: stretch;justify-content: center;background-color: white;position: relative;}#sk-container-id-6 div.sk-item::before, #sk-container-id-6 div.sk-parallel-item::before {content: \"\";position: absolute;border-left: 1px solid gray;box-sizing: border-box;top: 0;bottom: 0;left: 50%;z-index: -1;}#sk-container-id-6 div.sk-parallel-item {display: flex;flex-direction: column;z-index: 1;position: relative;background-color: white;}#sk-container-id-6 div.sk-parallel-item:first-child::after {align-self: flex-end;width: 50%;}#sk-container-id-6 div.sk-parallel-item:last-child::after {align-self: flex-start;width: 50%;}#sk-container-id-6 div.sk-parallel-item:only-child::after {width: 0;}#sk-container-id-6 div.sk-dashed-wrapped {border: 1px dashed gray;margin: 0 0.4em 0.5em 0.4em;box-sizing: border-box;padding-bottom: 0.4em;background-color: white;}#sk-container-id-6 div.sk-label label {font-family: monospace;font-weight: bold;display: inline-block;line-height: 1.2em;}#sk-container-id-6 div.sk-label-container {text-align: center;}#sk-container-id-6 div.sk-container {/* jupyter's `normalize.less` sets `[hidden] { display: none; }` but bootstrap.min.css set `[hidden] { display: none !important; }` so we also need the `!important` here to be able to override the default hidden behavior on the sphinx rendered scikit-learn.org. See: https://github.com/scikit-learn/scikit-learn/issues/21755 */display: inline-block !important;position: relative;}#sk-container-id-6 div.sk-text-repr-fallback {display: none;}</style><div id=\"sk-container-id-6\" class=\"sk-top-container\"><div class=\"sk-text-repr-fallback\"><pre>LogisticRegression()</pre><b>In a Jupyter environment, please rerun this cell to show the HTML representation or trust the notebook. <br />On GitHub, the HTML representation is unable to render, please try loading this page with nbviewer.org.</b></div><div class=\"sk-container\" hidden><div class=\"sk-item\"><div class=\"sk-estimator sk-toggleable\"><input class=\"sk-toggleable__control sk-hidden--visually\" id=\"sk-estimator-id-6\" type=\"checkbox\" checked><label for=\"sk-estimator-id-6\" class=\"sk-toggleable__label sk-toggleable__label-arrow\">LogisticRegression</label><div class=\"sk-toggleable__content\"><pre>LogisticRegression()</pre></div></div></div></div></div>"
      ],
      "text/plain": [
       "LogisticRegression()"
      ]
     },
     "execution_count": 45,
     "metadata": {},
     "output_type": "execute_result"
    }
   ],
   "source": [
    "classifier = LogisticRegression()\n",
    "classifier.fit(tf_train, y_train)"
   ]
  },
  {
   "cell_type": "code",
   "execution_count": null,
   "id": "f3ba2286",
   "metadata": {
    "id": "f3ba2286"
   },
   "outputs": [],
   "source": [
    "y_test_pred = classifier.predict(tf_test)"
   ]
  },
  {
   "cell_type": "code",
   "execution_count": null,
   "id": "3a8f22d6",
   "metadata": {
    "colab": {
     "base_uri": "https://localhost:8080/"
    },
    "id": "3a8f22d6",
    "outputId": "3a60e71a-bfac-4204-87c5-9860aed97f47"
   },
   "outputs": [
    {
     "name": "stdout",
     "output_type": "stream",
     "text": [
      "[[44920  6060]\n",
      " [13851 15971]]\n",
      "0.7535828321081162\n",
      "              precision    recall  f1-score   support\n",
      "\n",
      "           0       0.76      0.88      0.82     50980\n",
      "           1       0.72      0.54      0.62     29822\n",
      "\n",
      "    accuracy                           0.75     80802\n",
      "   macro avg       0.74      0.71      0.72     80802\n",
      "weighted avg       0.75      0.75      0.74     80802\n",
      "\n"
     ]
    }
   ],
   "source": [
    "print(confusion_matrix(y_test, y_test_pred))\n",
    "print(accuracy_score(y_test, y_test_pred))\n",
    "print(classification_report(y_test, y_test_pred))"
   ]
  },
  {
   "cell_type": "markdown",
   "id": "DEswoDPS-DZ9",
   "metadata": {
    "id": "DEswoDPS-DZ9"
   },
   "source": [
    "### **Decision_Tree**"
   ]
  },
  {
   "cell_type": "code",
   "execution_count": null,
   "id": "be714aa1",
   "metadata": {
    "colab": {
     "base_uri": "https://localhost:8080/",
     "height": 74
    },
    "id": "be714aa1",
    "outputId": "d77dc826-69f1-46fb-d1f8-d22cd70b7551"
   },
   "outputs": [
    {
     "data": {
      "text/html": [
       "<style>#sk-container-id-7 {color: black;background-color: white;}#sk-container-id-7 pre{padding: 0;}#sk-container-id-7 div.sk-toggleable {background-color: white;}#sk-container-id-7 label.sk-toggleable__label {cursor: pointer;display: block;width: 100%;margin-bottom: 0;padding: 0.3em;box-sizing: border-box;text-align: center;}#sk-container-id-7 label.sk-toggleable__label-arrow:before {content: \"▸\";float: left;margin-right: 0.25em;color: #696969;}#sk-container-id-7 label.sk-toggleable__label-arrow:hover:before {color: black;}#sk-container-id-7 div.sk-estimator:hover label.sk-toggleable__label-arrow:before {color: black;}#sk-container-id-7 div.sk-toggleable__content {max-height: 0;max-width: 0;overflow: hidden;text-align: left;background-color: #f0f8ff;}#sk-container-id-7 div.sk-toggleable__content pre {margin: 0.2em;color: black;border-radius: 0.25em;background-color: #f0f8ff;}#sk-container-id-7 input.sk-toggleable__control:checked~div.sk-toggleable__content {max-height: 200px;max-width: 100%;overflow: auto;}#sk-container-id-7 input.sk-toggleable__control:checked~label.sk-toggleable__label-arrow:before {content: \"▾\";}#sk-container-id-7 div.sk-estimator input.sk-toggleable__control:checked~label.sk-toggleable__label {background-color: #d4ebff;}#sk-container-id-7 div.sk-label input.sk-toggleable__control:checked~label.sk-toggleable__label {background-color: #d4ebff;}#sk-container-id-7 input.sk-hidden--visually {border: 0;clip: rect(1px 1px 1px 1px);clip: rect(1px, 1px, 1px, 1px);height: 1px;margin: -1px;overflow: hidden;padding: 0;position: absolute;width: 1px;}#sk-container-id-7 div.sk-estimator {font-family: monospace;background-color: #f0f8ff;border: 1px dotted black;border-radius: 0.25em;box-sizing: border-box;margin-bottom: 0.5em;}#sk-container-id-7 div.sk-estimator:hover {background-color: #d4ebff;}#sk-container-id-7 div.sk-parallel-item::after {content: \"\";width: 100%;border-bottom: 1px solid gray;flex-grow: 1;}#sk-container-id-7 div.sk-label:hover label.sk-toggleable__label {background-color: #d4ebff;}#sk-container-id-7 div.sk-serial::before {content: \"\";position: absolute;border-left: 1px solid gray;box-sizing: border-box;top: 0;bottom: 0;left: 50%;z-index: 0;}#sk-container-id-7 div.sk-serial {display: flex;flex-direction: column;align-items: center;background-color: white;padding-right: 0.2em;padding-left: 0.2em;position: relative;}#sk-container-id-7 div.sk-item {position: relative;z-index: 1;}#sk-container-id-7 div.sk-parallel {display: flex;align-items: stretch;justify-content: center;background-color: white;position: relative;}#sk-container-id-7 div.sk-item::before, #sk-container-id-7 div.sk-parallel-item::before {content: \"\";position: absolute;border-left: 1px solid gray;box-sizing: border-box;top: 0;bottom: 0;left: 50%;z-index: -1;}#sk-container-id-7 div.sk-parallel-item {display: flex;flex-direction: column;z-index: 1;position: relative;background-color: white;}#sk-container-id-7 div.sk-parallel-item:first-child::after {align-self: flex-end;width: 50%;}#sk-container-id-7 div.sk-parallel-item:last-child::after {align-self: flex-start;width: 50%;}#sk-container-id-7 div.sk-parallel-item:only-child::after {width: 0;}#sk-container-id-7 div.sk-dashed-wrapped {border: 1px dashed gray;margin: 0 0.4em 0.5em 0.4em;box-sizing: border-box;padding-bottom: 0.4em;background-color: white;}#sk-container-id-7 div.sk-label label {font-family: monospace;font-weight: bold;display: inline-block;line-height: 1.2em;}#sk-container-id-7 div.sk-label-container {text-align: center;}#sk-container-id-7 div.sk-container {/* jupyter's `normalize.less` sets `[hidden] { display: none; }` but bootstrap.min.css set `[hidden] { display: none !important; }` so we also need the `!important` here to be able to override the default hidden behavior on the sphinx rendered scikit-learn.org. See: https://github.com/scikit-learn/scikit-learn/issues/21755 */display: inline-block !important;position: relative;}#sk-container-id-7 div.sk-text-repr-fallback {display: none;}</style><div id=\"sk-container-id-7\" class=\"sk-top-container\"><div class=\"sk-text-repr-fallback\"><pre>DecisionTreeClassifier(max_depth=3)</pre><b>In a Jupyter environment, please rerun this cell to show the HTML representation or trust the notebook. <br />On GitHub, the HTML representation is unable to render, please try loading this page with nbviewer.org.</b></div><div class=\"sk-container\" hidden><div class=\"sk-item\"><div class=\"sk-estimator sk-toggleable\"><input class=\"sk-toggleable__control sk-hidden--visually\" id=\"sk-estimator-id-7\" type=\"checkbox\" checked><label for=\"sk-estimator-id-7\" class=\"sk-toggleable__label sk-toggleable__label-arrow\">DecisionTreeClassifier</label><div class=\"sk-toggleable__content\"><pre>DecisionTreeClassifier(max_depth=3)</pre></div></div></div></div></div>"
      ],
      "text/plain": [
       "DecisionTreeClassifier(max_depth=3)"
      ]
     },
     "execution_count": 48,
     "metadata": {},
     "output_type": "execute_result"
    }
   ],
   "source": [
    "classifier = DecisionTreeClassifier(max_depth=3)\n",
    "classifier.fit(tf_train, y_train)"
   ]
  },
  {
   "cell_type": "code",
   "execution_count": null,
   "id": "ad283ab9",
   "metadata": {
    "id": "ad283ab9"
   },
   "outputs": [],
   "source": [
    "y_test_pred = classifier.predict(tf_test)"
   ]
  },
  {
   "cell_type": "code",
   "execution_count": null,
   "id": "a36ef0d7",
   "metadata": {
    "colab": {
     "base_uri": "https://localhost:8080/"
    },
    "id": "a36ef0d7",
    "outputId": "8ed4e6ed-495c-4cb2-87f8-c450a8a37d4a"
   },
   "outputs": [
    {
     "name": "stdout",
     "output_type": "stream",
     "text": [
      "[[48415  2565]\n",
      " [25586  4236]]\n",
      "0.6516051582881612\n",
      "              precision    recall  f1-score   support\n",
      "\n",
      "           0       0.65      0.95      0.77     50980\n",
      "           1       0.62      0.14      0.23     29822\n",
      "\n",
      "    accuracy                           0.65     80802\n",
      "   macro avg       0.64      0.55      0.50     80802\n",
      "weighted avg       0.64      0.65      0.57     80802\n",
      "\n"
     ]
    }
   ],
   "source": [
    "print(confusion_matrix(y_test, y_test_pred))\n",
    "print(accuracy_score(y_test, y_test_pred))\n",
    "print(classification_report(y_test, y_test_pred))\n"
   ]
  },
  {
   "cell_type": "markdown",
   "id": "hDrVMjYTCi_8",
   "metadata": {
    "id": "hDrVMjYTCi_8"
   },
   "source": [
    "### **Gradient Boosting Decision tree (*GBDT*)**"
   ]
  },
  {
   "cell_type": "code",
   "execution_count": null,
   "id": "e6d46a07",
   "metadata": {
    "colab": {
     "base_uri": "https://localhost:8080/",
     "height": 74
    },
    "id": "e6d46a07",
    "outputId": "78fd9f02-2e0e-437c-e9cb-a0482486d0da"
   },
   "outputs": [
    {
     "data": {
      "text/html": [
       "<style>#sk-container-id-8 {color: black;background-color: white;}#sk-container-id-8 pre{padding: 0;}#sk-container-id-8 div.sk-toggleable {background-color: white;}#sk-container-id-8 label.sk-toggleable__label {cursor: pointer;display: block;width: 100%;margin-bottom: 0;padding: 0.3em;box-sizing: border-box;text-align: center;}#sk-container-id-8 label.sk-toggleable__label-arrow:before {content: \"▸\";float: left;margin-right: 0.25em;color: #696969;}#sk-container-id-8 label.sk-toggleable__label-arrow:hover:before {color: black;}#sk-container-id-8 div.sk-estimator:hover label.sk-toggleable__label-arrow:before {color: black;}#sk-container-id-8 div.sk-toggleable__content {max-height: 0;max-width: 0;overflow: hidden;text-align: left;background-color: #f0f8ff;}#sk-container-id-8 div.sk-toggleable__content pre {margin: 0.2em;color: black;border-radius: 0.25em;background-color: #f0f8ff;}#sk-container-id-8 input.sk-toggleable__control:checked~div.sk-toggleable__content {max-height: 200px;max-width: 100%;overflow: auto;}#sk-container-id-8 input.sk-toggleable__control:checked~label.sk-toggleable__label-arrow:before {content: \"▾\";}#sk-container-id-8 div.sk-estimator input.sk-toggleable__control:checked~label.sk-toggleable__label {background-color: #d4ebff;}#sk-container-id-8 div.sk-label input.sk-toggleable__control:checked~label.sk-toggleable__label {background-color: #d4ebff;}#sk-container-id-8 input.sk-hidden--visually {border: 0;clip: rect(1px 1px 1px 1px);clip: rect(1px, 1px, 1px, 1px);height: 1px;margin: -1px;overflow: hidden;padding: 0;position: absolute;width: 1px;}#sk-container-id-8 div.sk-estimator {font-family: monospace;background-color: #f0f8ff;border: 1px dotted black;border-radius: 0.25em;box-sizing: border-box;margin-bottom: 0.5em;}#sk-container-id-8 div.sk-estimator:hover {background-color: #d4ebff;}#sk-container-id-8 div.sk-parallel-item::after {content: \"\";width: 100%;border-bottom: 1px solid gray;flex-grow: 1;}#sk-container-id-8 div.sk-label:hover label.sk-toggleable__label {background-color: #d4ebff;}#sk-container-id-8 div.sk-serial::before {content: \"\";position: absolute;border-left: 1px solid gray;box-sizing: border-box;top: 0;bottom: 0;left: 50%;z-index: 0;}#sk-container-id-8 div.sk-serial {display: flex;flex-direction: column;align-items: center;background-color: white;padding-right: 0.2em;padding-left: 0.2em;position: relative;}#sk-container-id-8 div.sk-item {position: relative;z-index: 1;}#sk-container-id-8 div.sk-parallel {display: flex;align-items: stretch;justify-content: center;background-color: white;position: relative;}#sk-container-id-8 div.sk-item::before, #sk-container-id-8 div.sk-parallel-item::before {content: \"\";position: absolute;border-left: 1px solid gray;box-sizing: border-box;top: 0;bottom: 0;left: 50%;z-index: -1;}#sk-container-id-8 div.sk-parallel-item {display: flex;flex-direction: column;z-index: 1;position: relative;background-color: white;}#sk-container-id-8 div.sk-parallel-item:first-child::after {align-self: flex-end;width: 50%;}#sk-container-id-8 div.sk-parallel-item:last-child::after {align-self: flex-start;width: 50%;}#sk-container-id-8 div.sk-parallel-item:only-child::after {width: 0;}#sk-container-id-8 div.sk-dashed-wrapped {border: 1px dashed gray;margin: 0 0.4em 0.5em 0.4em;box-sizing: border-box;padding-bottom: 0.4em;background-color: white;}#sk-container-id-8 div.sk-label label {font-family: monospace;font-weight: bold;display: inline-block;line-height: 1.2em;}#sk-container-id-8 div.sk-label-container {text-align: center;}#sk-container-id-8 div.sk-container {/* jupyter's `normalize.less` sets `[hidden] { display: none; }` but bootstrap.min.css set `[hidden] { display: none !important; }` so we also need the `!important` here to be able to override the default hidden behavior on the sphinx rendered scikit-learn.org. See: https://github.com/scikit-learn/scikit-learn/issues/21755 */display: inline-block !important;position: relative;}#sk-container-id-8 div.sk-text-repr-fallback {display: none;}</style><div id=\"sk-container-id-8\" class=\"sk-top-container\"><div class=\"sk-text-repr-fallback\"><pre>GradientBoostingClassifier()</pre><b>In a Jupyter environment, please rerun this cell to show the HTML representation or trust the notebook. <br />On GitHub, the HTML representation is unable to render, please try loading this page with nbviewer.org.</b></div><div class=\"sk-container\" hidden><div class=\"sk-item\"><div class=\"sk-estimator sk-toggleable\"><input class=\"sk-toggleable__control sk-hidden--visually\" id=\"sk-estimator-id-8\" type=\"checkbox\" checked><label for=\"sk-estimator-id-8\" class=\"sk-toggleable__label sk-toggleable__label-arrow\">GradientBoostingClassifier</label><div class=\"sk-toggleable__content\"><pre>GradientBoostingClassifier()</pre></div></div></div></div></div>"
      ],
      "text/plain": [
       "GradientBoostingClassifier()"
      ]
     },
     "execution_count": 51,
     "metadata": {},
     "output_type": "execute_result"
    }
   ],
   "source": [
    "classifier = GradientBoostingClassifier()\n",
    "classifier.fit(tf_train,y_train)"
   ]
  },
  {
   "cell_type": "code",
   "execution_count": null,
   "id": "3ff9f7a9",
   "metadata": {
    "id": "3ff9f7a9"
   },
   "outputs": [],
   "source": [
    "y_test_pred = classifier.predict(tf_test)"
   ]
  },
  {
   "cell_type": "code",
   "execution_count": null,
   "id": "4d455e88",
   "metadata": {
    "colab": {
     "base_uri": "https://localhost:8080/"
    },
    "id": "4d455e88",
    "outputId": "ef11d661-3ccb-48c6-97ee-87468303db0f"
   },
   "outputs": [
    {
     "name": "stdout",
     "output_type": "stream",
     "text": [
      "0.6854038266379545\n",
      "[[48397  2583]\n",
      " [22837  6985]]\n",
      "              precision    recall  f1-score   support\n",
      "\n",
      "           0       0.68      0.95      0.79     50980\n",
      "           1       0.73      0.23      0.35     29822\n",
      "\n",
      "    accuracy                           0.69     80802\n",
      "   macro avg       0.70      0.59      0.57     80802\n",
      "weighted avg       0.70      0.69      0.63     80802\n",
      "\n"
     ]
    }
   ],
   "source": [
    "print(accuracy_score(y_test, y_test_pred))\n",
    "print(confusion_matrix(y_test, y_test_pred))\n",
    "print(classification_report(y_test, y_test_pred)"
   ]
  },
  {
   "cell_type": "markdown",
   "id": "FmKIMjUwC4SU",
   "metadata": {
    "id": "FmKIMjUwC4SU"
   },
   "source": [
    "### **AdaBoost Classifier**"
   ]
  },
  {
   "cell_type": "code",
   "execution_count": null,
   "id": "02af57b5",
   "metadata": {
    "colab": {
     "base_uri": "https://localhost:8080/",
     "height": 74
    },
    "id": "02af57b5",
    "outputId": "82e23849-6cd8-4f18-9fa8-fd9660adc093"
   },
   "outputs": [
    {
     "data": {
      "text/html": [
       "<style>#sk-container-id-9 {color: black;background-color: white;}#sk-container-id-9 pre{padding: 0;}#sk-container-id-9 div.sk-toggleable {background-color: white;}#sk-container-id-9 label.sk-toggleable__label {cursor: pointer;display: block;width: 100%;margin-bottom: 0;padding: 0.3em;box-sizing: border-box;text-align: center;}#sk-container-id-9 label.sk-toggleable__label-arrow:before {content: \"▸\";float: left;margin-right: 0.25em;color: #696969;}#sk-container-id-9 label.sk-toggleable__label-arrow:hover:before {color: black;}#sk-container-id-9 div.sk-estimator:hover label.sk-toggleable__label-arrow:before {color: black;}#sk-container-id-9 div.sk-toggleable__content {max-height: 0;max-width: 0;overflow: hidden;text-align: left;background-color: #f0f8ff;}#sk-container-id-9 div.sk-toggleable__content pre {margin: 0.2em;color: black;border-radius: 0.25em;background-color: #f0f8ff;}#sk-container-id-9 input.sk-toggleable__control:checked~div.sk-toggleable__content {max-height: 200px;max-width: 100%;overflow: auto;}#sk-container-id-9 input.sk-toggleable__control:checked~label.sk-toggleable__label-arrow:before {content: \"▾\";}#sk-container-id-9 div.sk-estimator input.sk-toggleable__control:checked~label.sk-toggleable__label {background-color: #d4ebff;}#sk-container-id-9 div.sk-label input.sk-toggleable__control:checked~label.sk-toggleable__label {background-color: #d4ebff;}#sk-container-id-9 input.sk-hidden--visually {border: 0;clip: rect(1px 1px 1px 1px);clip: rect(1px, 1px, 1px, 1px);height: 1px;margin: -1px;overflow: hidden;padding: 0;position: absolute;width: 1px;}#sk-container-id-9 div.sk-estimator {font-family: monospace;background-color: #f0f8ff;border: 1px dotted black;border-radius: 0.25em;box-sizing: border-box;margin-bottom: 0.5em;}#sk-container-id-9 div.sk-estimator:hover {background-color: #d4ebff;}#sk-container-id-9 div.sk-parallel-item::after {content: \"\";width: 100%;border-bottom: 1px solid gray;flex-grow: 1;}#sk-container-id-9 div.sk-label:hover label.sk-toggleable__label {background-color: #d4ebff;}#sk-container-id-9 div.sk-serial::before {content: \"\";position: absolute;border-left: 1px solid gray;box-sizing: border-box;top: 0;bottom: 0;left: 50%;z-index: 0;}#sk-container-id-9 div.sk-serial {display: flex;flex-direction: column;align-items: center;background-color: white;padding-right: 0.2em;padding-left: 0.2em;position: relative;}#sk-container-id-9 div.sk-item {position: relative;z-index: 1;}#sk-container-id-9 div.sk-parallel {display: flex;align-items: stretch;justify-content: center;background-color: white;position: relative;}#sk-container-id-9 div.sk-item::before, #sk-container-id-9 div.sk-parallel-item::before {content: \"\";position: absolute;border-left: 1px solid gray;box-sizing: border-box;top: 0;bottom: 0;left: 50%;z-index: -1;}#sk-container-id-9 div.sk-parallel-item {display: flex;flex-direction: column;z-index: 1;position: relative;background-color: white;}#sk-container-id-9 div.sk-parallel-item:first-child::after {align-self: flex-end;width: 50%;}#sk-container-id-9 div.sk-parallel-item:last-child::after {align-self: flex-start;width: 50%;}#sk-container-id-9 div.sk-parallel-item:only-child::after {width: 0;}#sk-container-id-9 div.sk-dashed-wrapped {border: 1px dashed gray;margin: 0 0.4em 0.5em 0.4em;box-sizing: border-box;padding-bottom: 0.4em;background-color: white;}#sk-container-id-9 div.sk-label label {font-family: monospace;font-weight: bold;display: inline-block;line-height: 1.2em;}#sk-container-id-9 div.sk-label-container {text-align: center;}#sk-container-id-9 div.sk-container {/* jupyter's `normalize.less` sets `[hidden] { display: none; }` but bootstrap.min.css set `[hidden] { display: none !important; }` so we also need the `!important` here to be able to override the default hidden behavior on the sphinx rendered scikit-learn.org. See: https://github.com/scikit-learn/scikit-learn/issues/21755 */display: inline-block !important;position: relative;}#sk-container-id-9 div.sk-text-repr-fallback {display: none;}</style><div id=\"sk-container-id-9\" class=\"sk-top-container\"><div class=\"sk-text-repr-fallback\"><pre>AdaBoostClassifier()</pre><b>In a Jupyter environment, please rerun this cell to show the HTML representation or trust the notebook. <br />On GitHub, the HTML representation is unable to render, please try loading this page with nbviewer.org.</b></div><div class=\"sk-container\" hidden><div class=\"sk-item\"><div class=\"sk-estimator sk-toggleable\"><input class=\"sk-toggleable__control sk-hidden--visually\" id=\"sk-estimator-id-9\" type=\"checkbox\" checked><label for=\"sk-estimator-id-9\" class=\"sk-toggleable__label sk-toggleable__label-arrow\">AdaBoostClassifier</label><div class=\"sk-toggleable__content\"><pre>AdaBoostClassifier()</pre></div></div></div></div></div>"
      ],
      "text/plain": [
       "AdaBoostClassifier()"
      ]
     },
     "execution_count": 54,
     "metadata": {},
     "output_type": "execute_result"
    }
   ],
   "source": [
    "classifier = AdaBoostClassifier()\n",
    "classifier.fit(tf_train,y_train)"
   ]
  },
  {
   "cell_type": "code",
   "execution_count": null,
   "id": "f9fed31c",
   "metadata": {
    "id": "f9fed31c"
   },
   "outputs": [],
   "source": [
    "y_test_pred = classifier.predict(tf_test)"
   ]
  },
  {
   "cell_type": "code",
   "execution_count": null,
   "id": "723d6d3b",
   "metadata": {
    "colab": {
     "base_uri": "https://localhost:8080/"
    },
    "id": "723d6d3b",
    "outputId": "0b6dc1e6-8dcf-4b9a-cc28-b541321b6695"
   },
   "outputs": [
    {
     "name": "stdout",
     "output_type": "stream",
     "text": [
      "0.6817529269077498\n",
      "[[45518  5462]\n",
      " [20253  9569]]\n",
      "              precision    recall  f1-score   support\n",
      "\n",
      "           0       0.69      0.89      0.78     50980\n",
      "           1       0.64      0.32      0.43     29822\n",
      "\n",
      "    accuracy                           0.68     80802\n",
      "   macro avg       0.66      0.61      0.60     80802\n",
      "weighted avg       0.67      0.68      0.65     80802\n",
      "\n"
     ]
    }
   ],
   "source": [
    "print(accuracy_score(y_test, y_test_pred))\n",
    "print(confusion_matrix(y_test, y_test_pred))\n",
    "print(classification_report(y_test, y_test_pred))\n"
   ]
  },
  {
   "cell_type": "markdown",
   "id": "xa7D9Wd-fDiJ",
   "metadata": {
    "id": "xa7D9Wd-fDiJ"
   },
   "source": [
    "### **XGBoost Classifier**"
   ]
  },
  {
   "cell_type": "code",
   "execution_count": null,
   "id": "981c7fb5",
   "metadata": {
    "colab": {
     "base_uri": "https://localhost:8080/",
     "height": 248
    },
    "id": "981c7fb5",
    "outputId": "cd170e59-8f53-4a80-b78e-09169fcce57c"
   },
   "outputs": [
    {
     "data": {
      "text/html": [
       "<style>#sk-container-id-10 {color: black;background-color: white;}#sk-container-id-10 pre{padding: 0;}#sk-container-id-10 div.sk-toggleable {background-color: white;}#sk-container-id-10 label.sk-toggleable__label {cursor: pointer;display: block;width: 100%;margin-bottom: 0;padding: 0.3em;box-sizing: border-box;text-align: center;}#sk-container-id-10 label.sk-toggleable__label-arrow:before {content: \"▸\";float: left;margin-right: 0.25em;color: #696969;}#sk-container-id-10 label.sk-toggleable__label-arrow:hover:before {color: black;}#sk-container-id-10 div.sk-estimator:hover label.sk-toggleable__label-arrow:before {color: black;}#sk-container-id-10 div.sk-toggleable__content {max-height: 0;max-width: 0;overflow: hidden;text-align: left;background-color: #f0f8ff;}#sk-container-id-10 div.sk-toggleable__content pre {margin: 0.2em;color: black;border-radius: 0.25em;background-color: #f0f8ff;}#sk-container-id-10 input.sk-toggleable__control:checked~div.sk-toggleable__content {max-height: 200px;max-width: 100%;overflow: auto;}#sk-container-id-10 input.sk-toggleable__control:checked~label.sk-toggleable__label-arrow:before {content: \"▾\";}#sk-container-id-10 div.sk-estimator input.sk-toggleable__control:checked~label.sk-toggleable__label {background-color: #d4ebff;}#sk-container-id-10 div.sk-label input.sk-toggleable__control:checked~label.sk-toggleable__label {background-color: #d4ebff;}#sk-container-id-10 input.sk-hidden--visually {border: 0;clip: rect(1px 1px 1px 1px);clip: rect(1px, 1px, 1px, 1px);height: 1px;margin: -1px;overflow: hidden;padding: 0;position: absolute;width: 1px;}#sk-container-id-10 div.sk-estimator {font-family: monospace;background-color: #f0f8ff;border: 1px dotted black;border-radius: 0.25em;box-sizing: border-box;margin-bottom: 0.5em;}#sk-container-id-10 div.sk-estimator:hover {background-color: #d4ebff;}#sk-container-id-10 div.sk-parallel-item::after {content: \"\";width: 100%;border-bottom: 1px solid gray;flex-grow: 1;}#sk-container-id-10 div.sk-label:hover label.sk-toggleable__label {background-color: #d4ebff;}#sk-container-id-10 div.sk-serial::before {content: \"\";position: absolute;border-left: 1px solid gray;box-sizing: border-box;top: 0;bottom: 0;left: 50%;z-index: 0;}#sk-container-id-10 div.sk-serial {display: flex;flex-direction: column;align-items: center;background-color: white;padding-right: 0.2em;padding-left: 0.2em;position: relative;}#sk-container-id-10 div.sk-item {position: relative;z-index: 1;}#sk-container-id-10 div.sk-parallel {display: flex;align-items: stretch;justify-content: center;background-color: white;position: relative;}#sk-container-id-10 div.sk-item::before, #sk-container-id-10 div.sk-parallel-item::before {content: \"\";position: absolute;border-left: 1px solid gray;box-sizing: border-box;top: 0;bottom: 0;left: 50%;z-index: -1;}#sk-container-id-10 div.sk-parallel-item {display: flex;flex-direction: column;z-index: 1;position: relative;background-color: white;}#sk-container-id-10 div.sk-parallel-item:first-child::after {align-self: flex-end;width: 50%;}#sk-container-id-10 div.sk-parallel-item:last-child::after {align-self: flex-start;width: 50%;}#sk-container-id-10 div.sk-parallel-item:only-child::after {width: 0;}#sk-container-id-10 div.sk-dashed-wrapped {border: 1px dashed gray;margin: 0 0.4em 0.5em 0.4em;box-sizing: border-box;padding-bottom: 0.4em;background-color: white;}#sk-container-id-10 div.sk-label label {font-family: monospace;font-weight: bold;display: inline-block;line-height: 1.2em;}#sk-container-id-10 div.sk-label-container {text-align: center;}#sk-container-id-10 div.sk-container {/* jupyter's `normalize.less` sets `[hidden] { display: none; }` but bootstrap.min.css set `[hidden] { display: none !important; }` so we also need the `!important` here to be able to override the default hidden behavior on the sphinx rendered scikit-learn.org. See: https://github.com/scikit-learn/scikit-learn/issues/21755 */display: inline-block !important;position: relative;}#sk-container-id-10 div.sk-text-repr-fallback {display: none;}</style><div id=\"sk-container-id-10\" class=\"sk-top-container\"><div class=\"sk-text-repr-fallback\"><pre>XGBClassifier(base_score=None, booster=None, callbacks=None,\n",
       "              colsample_bylevel=None, colsample_bynode=None,\n",
       "              colsample_bytree=None, early_stopping_rounds=None,\n",
       "              enable_categorical=False, eval_metric=None, feature_types=None,\n",
       "              gamma=None, gpu_id=None, grow_policy=None, importance_type=None,\n",
       "              interaction_constraints=None, learning_rate=None, max_bin=None,\n",
       "              max_cat_threshold=None, max_cat_to_onehot=None,\n",
       "              max_delta_step=None, max_depth=None, max_leaves=None,\n",
       "              min_child_weight=None, missing=nan, monotone_constraints=None,\n",
       "              n_estimators=100, n_jobs=None, num_parallel_tree=None,\n",
       "              predictor=None, random_state=None, ...)</pre><b>In a Jupyter environment, please rerun this cell to show the HTML representation or trust the notebook. <br />On GitHub, the HTML representation is unable to render, please try loading this page with nbviewer.org.</b></div><div class=\"sk-container\" hidden><div class=\"sk-item\"><div class=\"sk-estimator sk-toggleable\"><input class=\"sk-toggleable__control sk-hidden--visually\" id=\"sk-estimator-id-10\" type=\"checkbox\" checked><label for=\"sk-estimator-id-10\" class=\"sk-toggleable__label sk-toggleable__label-arrow\">XGBClassifier</label><div class=\"sk-toggleable__content\"><pre>XGBClassifier(base_score=None, booster=None, callbacks=None,\n",
       "              colsample_bylevel=None, colsample_bynode=None,\n",
       "              colsample_bytree=None, early_stopping_rounds=None,\n",
       "              enable_categorical=False, eval_metric=None, feature_types=None,\n",
       "              gamma=None, gpu_id=None, grow_policy=None, importance_type=None,\n",
       "              interaction_constraints=None, learning_rate=None, max_bin=None,\n",
       "              max_cat_threshold=None, max_cat_to_onehot=None,\n",
       "              max_delta_step=None, max_depth=None, max_leaves=None,\n",
       "              min_child_weight=None, missing=nan, monotone_constraints=None,\n",
       "              n_estimators=100, n_jobs=None, num_parallel_tree=None,\n",
       "              predictor=None, random_state=None, ...)</pre></div></div></div></div></div>"
      ],
      "text/plain": [
       "XGBClassifier(base_score=None, booster=None, callbacks=None,\n",
       "              colsample_bylevel=None, colsample_bynode=None,\n",
       "              colsample_bytree=None, early_stopping_rounds=None,\n",
       "              enable_categorical=False, eval_metric=None, feature_types=None,\n",
       "              gamma=None, gpu_id=None, grow_policy=None, importance_type=None,\n",
       "              interaction_constraints=None, learning_rate=None, max_bin=None,\n",
       "              max_cat_threshold=None, max_cat_to_onehot=None,\n",
       "              max_delta_step=None, max_depth=None, max_leaves=None,\n",
       "              min_child_weight=None, missing=nan, monotone_constraints=None,\n",
       "              n_estimators=100, n_jobs=None, num_parallel_tree=None,\n",
       "              predictor=None, random_state=None, ...)"
      ]
     },
     "execution_count": 57,
     "metadata": {},
     "output_type": "execute_result"
    }
   ],
   "source": [
    "classifier = xgb.XGBClassifier()\n",
    "classifier.fit(tf_train, y_train)\n",
    "y_test_pred = classifier.predict(tf_test)"
   ]
  },
  {
   "cell_type": "code",
   "execution_count": null,
   "id": "b8f61197",
   "metadata": {
    "colab": {
     "base_uri": "https://localhost:8080/"
    },
    "id": "b8f61197",
    "outputId": "98c40c47-d6c2-47f8-8fa2-8908e7a557a7"
   },
   "outputs": [
    {
     "name": "stdout",
     "output_type": "stream",
     "text": [
      "0.7207247345362738\n",
      "[[46749  4231]\n",
      " [18335 11487]]\n",
      "              precision    recall  f1-score   support\n",
      "\n",
      "           0       0.72      0.92      0.81     50980\n",
      "           1       0.73      0.39      0.50     29822\n",
      "\n",
      "    accuracy                           0.72     80802\n",
      "   macro avg       0.72      0.65      0.66     80802\n",
      "weighted avg       0.72      0.72      0.69     80802\n",
      "\n"
     ]
    }
   ],
   "source": [
    "print(accuracy_score(y_test, y_test_pred))\n",
    "print(confusion_matrix(y_test, y_test_pred))\n",
    "print(classification_report(y_test, y_test_pred))"
   ]
  },
  {
   "cell_type": "markdown",
   "id": "d20bd264",
   "metadata": {
    "id": "e6fa419c"
   },
   "source": [
    "*  The results of the evaluation using `Accuracy` as the metric show that **`Logistic Regression`** outperformed the other models, with a score of **75**\n",
    "\n",
    "* `XGBoost` had the second-best performance, with a score of **72**\n",
    "\n",
    "####  These results suggest that **`Logistic Regression`** may be the most effective model for this particular task, \n",
    "   >  Although further evaluation and validation is necessary to confirm this conclusion."
   ]
  },
  {
   "cell_type": "code",
   "execution_count": null,
   "id": "dca2e204",
   "metadata": {
    "id": "dca2e204"
   },
   "outputs": [],
   "source": []
  },
  {
   "cell_type": "code",
   "execution_count": null,
   "id": "2aafa46a",
   "metadata": {
    "id": "2aafa46a"
   },
   "outputs": [],
   "source": []
  },
  {
   "cell_type": "code",
   "execution_count": null,
   "id": "f06d7876",
   "metadata": {
    "id": "f06d7876"
   },
   "outputs": [],
   "source": []
  }
 ],
 "metadata": {
  "accelerator": "TPU",
  "colab": {
   "provenance": []
  },
  "kernelspec": {
   "display_name": "Python 3 (ipykernel)",
   "language": "python",
   "name": "python3"
  },
  "language_info": {
   "codemirror_mode": {
    "name": "ipython",
    "version": 3
   },
   "file_extension": ".py",
   "mimetype": "text/x-python",
   "name": "python",
   "nbconvert_exporter": "python",
   "pygments_lexer": "ipython3",
   "version": "3.9.12"
  }
 },
 "nbformat": 4,
 "nbformat_minor": 5
}
